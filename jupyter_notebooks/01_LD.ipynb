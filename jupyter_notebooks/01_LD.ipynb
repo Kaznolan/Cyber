{
  "cells": [
    {
      "cell_type": "markdown",
      "metadata": {
        "id": "0aStgWSO0E0E"
      },
      "source": [
        "# **Load data**"
      ]
    },
    {
      "cell_type": "markdown",
      "metadata": {
        "id": "1eLEkw5O0ECa"
      },
      "source": [
        "## Objectives\n",
        "\n",
        "* This notebook aims to load the dataset into a pandas DataFrame, perform basic data cleaning and validation, and save the cleaned version as a new CSV file for further analysis.\n",
        "\n",
        "## Inputs\n",
        "\n",
        "* **Data source:** [Cybersecurity Intrusion Detection Dataset](https://www.kaggle.com/datasets/dnkumars/cybersecurity-intrusion-detection-dataset)  \n",
        "* **Author:** [dnkumars](https://www.kaggle.com/dnkumars)  \n",
        "* **Raw file:** `cybersecurity.csv`  \n",
        "* **Location:** `data/raw/cybersecurity.csv`\n",
        "\n",
        "## Outputs\n",
        "\n",
        "* **Cleaned file:** `cybersecurity_cleaned.csv`  \n",
        "* **Location:** `data/processed/cybersecurity_cleaned.csv`\n",
        "\n",
        "## Additional Comments\n",
        "\n",
        "* As stated by the dataset author, parts of the data are synthetic and intended for educational and research purposes."
      ]
    },
    {
      "cell_type": "markdown",
      "metadata": {
        "id": "9uWZXH9LwoQg"
      },
      "source": [
        "---"
      ]
    },
    {
      "cell_type": "markdown",
      "metadata": {
        "id": "cqP-UeN-z3i2"
      },
      "source": [
        "# Change working directory"
      ]
    },
    {
      "cell_type": "markdown",
      "metadata": {},
      "source": [
        "* We are assuming you will store the notebooks in a subfolder, therefore when running the notebook in the editor, you will need to change the working directory"
      ]
    },
    {
      "cell_type": "markdown",
      "metadata": {
        "id": "aOGIGS-uz3i2"
      },
      "source": [
        "We need to change the working directory from its current folder to its parent folder\n",
        "* We access the current directory with os.getcwd()"
      ]
    },
    {
      "cell_type": "code",
      "execution_count": 2,
      "metadata": {
        "id": "wZfF_j-Bz3i4",
        "outputId": "66943449-1436-4c3d-85c7-b85f9f78349b"
      },
      "outputs": [
        {
          "data": {
            "text/plain": [
              "'c:\\\\Code projects\\\\final-hackathon\\\\cybersecurity-intrusion-detection\\\\jupyter_notebooks'"
            ]
          },
          "execution_count": 2,
          "metadata": {},
          "output_type": "execute_result"
        }
      ],
      "source": [
        "import os\n",
        "current_dir = os.getcwd()\n",
        "current_dir"
      ]
    },
    {
      "cell_type": "markdown",
      "metadata": {
        "id": "9MWW8E7lz3i7"
      },
      "source": [
        "We want to make the parent of the current directory the new current directory\n",
        "* os.path.dirname() gets the parent directory\n",
        "* os.chir() defines the new current directory"
      ]
    },
    {
      "cell_type": "code",
      "execution_count": 3,
      "metadata": {
        "id": "TwHsQRWjz3i9",
        "outputId": "86849db3-cd2f-4cc5-ebb8-2d0caafa1a2c"
      },
      "outputs": [
        {
          "name": "stdout",
          "output_type": "stream",
          "text": [
            "You set a new current directory\n"
          ]
        }
      ],
      "source": [
        "os.chdir(os.path.dirname(current_dir))\n",
        "print(\"You set a new current directory\")"
      ]
    },
    {
      "cell_type": "markdown",
      "metadata": {
        "id": "M_xPk_Ijz3i-"
      },
      "source": [
        "Confirm the new current directory"
      ]
    },
    {
      "cell_type": "code",
      "execution_count": 4,
      "metadata": {
        "id": "vz3S-_kjz3jA",
        "outputId": "00b79ae4-75d0-4a96-d193-ac9ef9847ea2"
      },
      "outputs": [
        {
          "data": {
            "text/plain": [
              "'c:\\\\Code projects\\\\final-hackathon\\\\cybersecurity-intrusion-detection'"
            ]
          },
          "execution_count": 4,
          "metadata": {},
          "output_type": "execute_result"
        }
      ],
      "source": [
        "current_dir = os.getcwd()\n",
        "current_dir"
      ]
    },
    {
      "cell_type": "markdown",
      "metadata": {},
      "source": [
        "---"
      ]
    },
    {
      "cell_type": "markdown",
      "metadata": {
        "id": "-mavJ8DibrcQ"
      },
      "source": [
        "# Initial Setup and Extracting Data"
      ]
    },
    {
      "cell_type": "markdown",
      "metadata": {},
      "source": [
        "Importing libaries used for data loading and cleaning\n",
        "* pandas for data manipulation and analysis\n",
        "* numpy for numerical operations"
      ]
    },
    {
      "cell_type": "code",
      "execution_count": null,
      "metadata": {},
      "outputs": [],
      "source": [
        "import numpy as np\n",
        "import pandas as pd"
      ]
    },
    {
      "cell_type": "code",
      "execution_count": 6,
      "metadata": {},
      "outputs": [
        {
          "data": {
            "application/vnd.microsoft.datawrangler.viewer.v0+json": {
              "columns": [
                {
                  "name": "index",
                  "rawType": "int64",
                  "type": "integer"
                },
                {
                  "name": "session_id",
                  "rawType": "object",
                  "type": "string"
                },
                {
                  "name": "network_packet_size",
                  "rawType": "int64",
                  "type": "integer"
                },
                {
                  "name": "protocol_type",
                  "rawType": "object",
                  "type": "string"
                },
                {
                  "name": "login_attempts",
                  "rawType": "int64",
                  "type": "integer"
                },
                {
                  "name": "session_duration",
                  "rawType": "float64",
                  "type": "float"
                },
                {
                  "name": "encryption_used",
                  "rawType": "object",
                  "type": "unknown"
                },
                {
                  "name": "ip_reputation_score",
                  "rawType": "float64",
                  "type": "float"
                },
                {
                  "name": "failed_logins",
                  "rawType": "int64",
                  "type": "integer"
                },
                {
                  "name": "browser_type",
                  "rawType": "object",
                  "type": "string"
                },
                {
                  "name": "unusual_time_access",
                  "rawType": "int64",
                  "type": "integer"
                },
                {
                  "name": "attack_detected",
                  "rawType": "int64",
                  "type": "integer"
                }
              ],
              "ref": "cab027e9-8a3c-4406-aac8-2c1889ab0438",
              "rows": [
                [
                  "0",
                  "SID_00001",
                  "599",
                  "TCP",
                  "4",
                  "492.9832634426563",
                  "DES",
                  "0.606818080396889",
                  "1",
                  "Edge",
                  "0",
                  "1"
                ],
                [
                  "1",
                  "SID_00002",
                  "472",
                  "TCP",
                  "3",
                  "1557.9964611204384",
                  "DES",
                  "0.3015689675960893",
                  "0",
                  "Firefox",
                  "0",
                  "0"
                ],
                [
                  "2",
                  "SID_00003",
                  "629",
                  "TCP",
                  "3",
                  "75.04426166420741",
                  "DES",
                  "0.7391643279163831",
                  "2",
                  "Chrome",
                  "0",
                  "1"
                ],
                [
                  "3",
                  "SID_00004",
                  "804",
                  "UDP",
                  "4",
                  "601.2488351708328",
                  "DES",
                  "0.1232671757524846",
                  "0",
                  "Unknown",
                  "0",
                  "1"
                ],
                [
                  "4",
                  "SID_00005",
                  "453",
                  "TCP",
                  "5",
                  "532.5408884201419",
                  "AES",
                  "0.0548738567431703",
                  "1",
                  "Firefox",
                  "0",
                  "0"
                ],
                [
                  "5",
                  "SID_00006",
                  "453",
                  "UDP",
                  "5",
                  "380.4715502453134",
                  "AES",
                  "0.4224858607066699",
                  "2",
                  "Chrome",
                  "1",
                  "0"
                ],
                [
                  "6",
                  "SID_00007",
                  "815",
                  "ICMP",
                  "4",
                  "728.1071646972356",
                  "AES",
                  "0.4137719285892984",
                  "1",
                  "Chrome",
                  "0",
                  "1"
                ],
                [
                  "7",
                  "SID_00008",
                  "653",
                  "TCP",
                  "3",
                  "12.5999060098958",
                  "DES",
                  "0.0977193658576949",
                  "3",
                  "Chrome",
                  "1",
                  "1"
                ],
                [
                  "8",
                  "SID_00009",
                  "406",
                  "TCP",
                  "2",
                  "542.5588952208974",
                  null,
                  "0.2945796876500889",
                  "0",
                  "Chrome",
                  "1",
                  "0"
                ],
                [
                  "9",
                  "SID_00010",
                  "608",
                  "UDP",
                  "6",
                  "531.9441066211396",
                  null,
                  "0.4241165641663546",
                  "1",
                  "Chrome",
                  "0",
                  "0"
                ],
                [
                  "10",
                  "SID_00011",
                  "407",
                  "UDP",
                  "6",
                  "580.7219253670751",
                  "DES",
                  "0.1228937389064628",
                  "3",
                  "Firefox",
                  "0",
                  "1"
                ],
                [
                  "11",
                  "SID_00012",
                  "406",
                  "UDP",
                  "9",
                  "191.0528369326706",
                  "DES",
                  "0.3397112713433893",
                  "1",
                  "Edge",
                  "0",
                  "1"
                ],
                [
                  "12",
                  "SID_00013",
                  "548",
                  "TCP",
                  "2",
                  "186.1476383415076",
                  null,
                  "0.4068986326067099",
                  "2",
                  "Safari",
                  "1",
                  "0"
                ],
                [
                  "13",
                  "SID_00014",
                  "117",
                  "TCP",
                  "4",
                  "833.4889649491395",
                  "DES",
                  "0.4732919047923998",
                  "2",
                  "Unknown",
                  "0",
                  "1"
                ],
                [
                  "14",
                  "SID_00015",
                  "155",
                  "TCP",
                  "3",
                  "77.84995157439054",
                  null,
                  "0.3524755745227921",
                  "3",
                  "Chrome",
                  "0",
                  "1"
                ],
                [
                  "15",
                  "SID_00016",
                  "387",
                  "ICMP",
                  "6",
                  "292.1361960073892",
                  "DES",
                  "0.2549124511362793",
                  "3",
                  "Chrome",
                  "0",
                  "1"
                ],
                [
                  "16",
                  "SID_00017",
                  "297",
                  "TCP",
                  "8",
                  "1421.414371761036",
                  "AES",
                  "0.345367552273892",
                  "3",
                  "Firefox",
                  "0",
                  "1"
                ],
                [
                  "17",
                  "SID_00018",
                  "562",
                  "UDP",
                  "1",
                  "87.64100168835026",
                  null,
                  "0.1367291897579692",
                  "2",
                  "Firefox",
                  "0",
                  "0"
                ],
                [
                  "18",
                  "SID_00019",
                  "318",
                  "TCP",
                  "5",
                  "504.98866997657433",
                  "AES",
                  "0.3942314568896387",
                  "1",
                  "Unknown",
                  "0",
                  "1"
                ],
                [
                  "19",
                  "SID_00020",
                  "217",
                  "ICMP",
                  "2",
                  "883.6175678484254",
                  "DES",
                  "0.3101131570512104",
                  "0",
                  "Chrome",
                  "0",
                  "0"
                ],
                [
                  "20",
                  "SID_00021",
                  "793",
                  "TCP",
                  "3",
                  "122.1894142089281",
                  "AES",
                  "0.3693246493280864",
                  "2",
                  "Firefox",
                  "0",
                  "0"
                ],
                [
                  "21",
                  "SID_00022",
                  "454",
                  "TCP",
                  "1",
                  "299.71154797427783",
                  null,
                  "0.3738745916057353",
                  "1",
                  "Chrome",
                  "0",
                  "0"
                ],
                [
                  "22",
                  "SID_00023",
                  "513",
                  "TCP",
                  "3",
                  "654.5261426459776",
                  "AES",
                  "0.4970295435549451",
                  "1",
                  "Firefox",
                  "0",
                  "0"
                ],
                [
                  "23",
                  "SID_00024",
                  "215",
                  "TCP",
                  "8",
                  "317.0788581057768",
                  "AES",
                  "0.461950842242767",
                  "2",
                  "Chrome",
                  "0",
                  "1"
                ],
                [
                  "24",
                  "SID_00025",
                  "391",
                  "TCP",
                  "5",
                  "93.17112499822254",
                  "AES",
                  "0.536245189457405",
                  "2",
                  "Firefox",
                  "0",
                  "0"
                ],
                [
                  "25",
                  "SID_00026",
                  "522",
                  "TCP",
                  "4",
                  "211.59584253834697",
                  "AES",
                  "0.1078985576055601",
                  "3",
                  "Firefox",
                  "0",
                  "1"
                ],
                [
                  "26",
                  "SID_00027",
                  "269",
                  "TCP",
                  "9",
                  "92.70169297371484",
                  null,
                  "0.5068194256848887",
                  "0",
                  "Chrome",
                  "0",
                  "1"
                ],
                [
                  "27",
                  "SID_00028",
                  "575",
                  "TCP",
                  "3",
                  "3286.221727767748",
                  "DES",
                  "0.4204711850467863",
                  "0",
                  "Chrome",
                  "0",
                  "0"
                ],
                [
                  "28",
                  "SID_00029",
                  "379",
                  "UDP",
                  "2",
                  "214.98212232301017",
                  "AES",
                  "0.7863154442710675",
                  "2",
                  "Chrome",
                  "0",
                  "1"
                ],
                [
                  "29",
                  "SID_00030",
                  "441",
                  "TCP",
                  "7",
                  "604.9615522886485",
                  "AES",
                  "0.3360318477936075",
                  "0",
                  "Firefox",
                  "0",
                  "1"
                ],
                [
                  "30",
                  "SID_00031",
                  "379",
                  "TCP",
                  "1",
                  "447.62330730772806",
                  "DES",
                  "0.0993898185618982",
                  "0",
                  "Chrome",
                  "0",
                  "0"
                ],
                [
                  "31",
                  "SID_00032",
                  "870",
                  "UDP",
                  "2",
                  "674.2716307687525",
                  "DES",
                  "0.2720868405623606",
                  "1",
                  "Chrome",
                  "0",
                  "1"
                ],
                [
                  "32",
                  "SID_00033",
                  "497",
                  "TCP",
                  "1",
                  "551.4693389958693",
                  null,
                  "0.0351392525704552",
                  "1",
                  "Chrome",
                  "1",
                  "0"
                ],
                [
                  "33",
                  "SID_00034",
                  "288",
                  "ICMP",
                  "2",
                  "1039.10118603804",
                  "AES",
                  "0.110269438624984",
                  "3",
                  "Chrome",
                  "0",
                  "1"
                ],
                [
                  "34",
                  "SID_00035",
                  "664",
                  "TCP",
                  "6",
                  "1650.942099269792",
                  null,
                  "0.3915442086550267",
                  "2",
                  "Chrome",
                  "1",
                  "0"
                ],
                [
                  "35",
                  "SID_00036",
                  "255",
                  "TCP",
                  "2",
                  "268.71323796747225",
                  "AES",
                  "0.5173361768348047",
                  "1",
                  "Chrome",
                  "1",
                  "0"
                ],
                [
                  "36",
                  "SID_00037",
                  "541",
                  "TCP",
                  "5",
                  "162.2873080817919",
                  null,
                  "0.1379758234123113",
                  "2",
                  "Chrome",
                  "0",
                  "0"
                ],
                [
                  "37",
                  "SID_00038",
                  "108",
                  "TCP",
                  "7",
                  "3325.3086894656926",
                  "AES",
                  "0.0795093219361312",
                  "2",
                  "Firefox",
                  "0",
                  "1"
                ],
                [
                  "38",
                  "SID_00039",
                  "234",
                  "TCP",
                  "5",
                  "1608.365096858205",
                  "DES",
                  "0.6459042598252172",
                  "4",
                  "Firefox",
                  "0",
                  "1"
                ],
                [
                  "39",
                  "SID_00040",
                  "539",
                  "TCP",
                  "4",
                  "361.9425945829811",
                  "DES",
                  "0.3087899599206534",
                  "0",
                  "Chrome",
                  "0",
                  "0"
                ],
                [
                  "40",
                  "SID_00041",
                  "647",
                  "TCP",
                  "2",
                  "1801.41325899014",
                  null,
                  "0.2991840394359722",
                  "1",
                  "Chrome",
                  "0",
                  "0"
                ],
                [
                  "41",
                  "SID_00042",
                  "534",
                  "TCP",
                  "4",
                  "888.2555882449734",
                  "AES",
                  "0.0367521363575246",
                  "3",
                  "Chrome",
                  "0",
                  "1"
                ],
                [
                  "42",
                  "SID_00043",
                  "476",
                  "TCP",
                  "4",
                  "460.1784563437431",
                  "DES",
                  "0.3974194615917665",
                  "2",
                  "Edge",
                  "0",
                  "0"
                ],
                [
                  "43",
                  "SID_00044",
                  "439",
                  "TCP",
                  "5",
                  "1653.5169443242044",
                  null,
                  "0.2453131148697448",
                  "2",
                  "Chrome",
                  "0",
                  "0"
                ],
                [
                  "44",
                  "SID_00045",
                  "204",
                  "TCP",
                  "4",
                  "899.8403029798167",
                  "DES",
                  "0.3373211395417786",
                  "1",
                  "Chrome",
                  "0",
                  "0"
                ],
                [
                  "45",
                  "SID_00046",
                  "356",
                  "TCP",
                  "2",
                  "1401.0372662699012",
                  "DES",
                  "0.6729768279913647",
                  "1",
                  "Chrome",
                  "0",
                  "1"
                ],
                [
                  "46",
                  "SID_00047",
                  "407",
                  "TCP",
                  "7",
                  "432.6976830475844",
                  "DES",
                  "0.081769711383674",
                  "3",
                  "Edge",
                  "1",
                  "1"
                ],
                [
                  "47",
                  "SID_00048",
                  "711",
                  "TCP",
                  "5",
                  "1282.4285713839413",
                  "AES",
                  "0.207445483534184",
                  "2",
                  "Edge",
                  "0",
                  "1"
                ],
                [
                  "48",
                  "SID_00049",
                  "568",
                  "TCP",
                  "6",
                  "365.73555486698257",
                  "AES",
                  "0.5343683322456065",
                  "2",
                  "Unknown",
                  "0",
                  "1"
                ],
                [
                  "49",
                  "SID_00050",
                  "147",
                  "TCP",
                  "1",
                  "1062.659149730583",
                  "AES",
                  "0.2633726317268964",
                  "1",
                  "Edge",
                  "0",
                  "0"
                ]
              ],
              "shape": {
                "columns": 11,
                "rows": 9537
              }
            },
            "text/html": [
              "<div>\n",
              "<style scoped>\n",
              "    .dataframe tbody tr th:only-of-type {\n",
              "        vertical-align: middle;\n",
              "    }\n",
              "\n",
              "    .dataframe tbody tr th {\n",
              "        vertical-align: top;\n",
              "    }\n",
              "\n",
              "    .dataframe thead th {\n",
              "        text-align: right;\n",
              "    }\n",
              "</style>\n",
              "<table border=\"1\" class=\"dataframe\">\n",
              "  <thead>\n",
              "    <tr style=\"text-align: right;\">\n",
              "      <th></th>\n",
              "      <th>session_id</th>\n",
              "      <th>network_packet_size</th>\n",
              "      <th>protocol_type</th>\n",
              "      <th>login_attempts</th>\n",
              "      <th>session_duration</th>\n",
              "      <th>encryption_used</th>\n",
              "      <th>ip_reputation_score</th>\n",
              "      <th>failed_logins</th>\n",
              "      <th>browser_type</th>\n",
              "      <th>unusual_time_access</th>\n",
              "      <th>attack_detected</th>\n",
              "    </tr>\n",
              "  </thead>\n",
              "  <tbody>\n",
              "    <tr>\n",
              "      <th>0</th>\n",
              "      <td>SID_00001</td>\n",
              "      <td>599</td>\n",
              "      <td>TCP</td>\n",
              "      <td>4</td>\n",
              "      <td>492.983263</td>\n",
              "      <td>DES</td>\n",
              "      <td>0.606818</td>\n",
              "      <td>1</td>\n",
              "      <td>Edge</td>\n",
              "      <td>0</td>\n",
              "      <td>1</td>\n",
              "    </tr>\n",
              "    <tr>\n",
              "      <th>1</th>\n",
              "      <td>SID_00002</td>\n",
              "      <td>472</td>\n",
              "      <td>TCP</td>\n",
              "      <td>3</td>\n",
              "      <td>1557.996461</td>\n",
              "      <td>DES</td>\n",
              "      <td>0.301569</td>\n",
              "      <td>0</td>\n",
              "      <td>Firefox</td>\n",
              "      <td>0</td>\n",
              "      <td>0</td>\n",
              "    </tr>\n",
              "    <tr>\n",
              "      <th>2</th>\n",
              "      <td>SID_00003</td>\n",
              "      <td>629</td>\n",
              "      <td>TCP</td>\n",
              "      <td>3</td>\n",
              "      <td>75.044262</td>\n",
              "      <td>DES</td>\n",
              "      <td>0.739164</td>\n",
              "      <td>2</td>\n",
              "      <td>Chrome</td>\n",
              "      <td>0</td>\n",
              "      <td>1</td>\n",
              "    </tr>\n",
              "    <tr>\n",
              "      <th>3</th>\n",
              "      <td>SID_00004</td>\n",
              "      <td>804</td>\n",
              "      <td>UDP</td>\n",
              "      <td>4</td>\n",
              "      <td>601.248835</td>\n",
              "      <td>DES</td>\n",
              "      <td>0.123267</td>\n",
              "      <td>0</td>\n",
              "      <td>Unknown</td>\n",
              "      <td>0</td>\n",
              "      <td>1</td>\n",
              "    </tr>\n",
              "    <tr>\n",
              "      <th>4</th>\n",
              "      <td>SID_00005</td>\n",
              "      <td>453</td>\n",
              "      <td>TCP</td>\n",
              "      <td>5</td>\n",
              "      <td>532.540888</td>\n",
              "      <td>AES</td>\n",
              "      <td>0.054874</td>\n",
              "      <td>1</td>\n",
              "      <td>Firefox</td>\n",
              "      <td>0</td>\n",
              "      <td>0</td>\n",
              "    </tr>\n",
              "    <tr>\n",
              "      <th>...</th>\n",
              "      <td>...</td>\n",
              "      <td>...</td>\n",
              "      <td>...</td>\n",
              "      <td>...</td>\n",
              "      <td>...</td>\n",
              "      <td>...</td>\n",
              "      <td>...</td>\n",
              "      <td>...</td>\n",
              "      <td>...</td>\n",
              "      <td>...</td>\n",
              "      <td>...</td>\n",
              "    </tr>\n",
              "    <tr>\n",
              "      <th>9532</th>\n",
              "      <td>SID_09533</td>\n",
              "      <td>194</td>\n",
              "      <td>ICMP</td>\n",
              "      <td>3</td>\n",
              "      <td>226.049889</td>\n",
              "      <td>AES</td>\n",
              "      <td>0.517737</td>\n",
              "      <td>3</td>\n",
              "      <td>Chrome</td>\n",
              "      <td>0</td>\n",
              "      <td>1</td>\n",
              "    </tr>\n",
              "    <tr>\n",
              "      <th>9533</th>\n",
              "      <td>SID_09534</td>\n",
              "      <td>380</td>\n",
              "      <td>TCP</td>\n",
              "      <td>3</td>\n",
              "      <td>182.848475</td>\n",
              "      <td>NaN</td>\n",
              "      <td>0.408485</td>\n",
              "      <td>0</td>\n",
              "      <td>Chrome</td>\n",
              "      <td>0</td>\n",
              "      <td>0</td>\n",
              "    </tr>\n",
              "    <tr>\n",
              "      <th>9534</th>\n",
              "      <td>SID_09535</td>\n",
              "      <td>664</td>\n",
              "      <td>TCP</td>\n",
              "      <td>5</td>\n",
              "      <td>35.170248</td>\n",
              "      <td>AES</td>\n",
              "      <td>0.359200</td>\n",
              "      <td>1</td>\n",
              "      <td>Firefox</td>\n",
              "      <td>0</td>\n",
              "      <td>0</td>\n",
              "    </tr>\n",
              "    <tr>\n",
              "      <th>9535</th>\n",
              "      <td>SID_09536</td>\n",
              "      <td>406</td>\n",
              "      <td>TCP</td>\n",
              "      <td>4</td>\n",
              "      <td>86.664703</td>\n",
              "      <td>AES</td>\n",
              "      <td>0.537417</td>\n",
              "      <td>1</td>\n",
              "      <td>Chrome</td>\n",
              "      <td>1</td>\n",
              "      <td>0</td>\n",
              "    </tr>\n",
              "    <tr>\n",
              "      <th>9536</th>\n",
              "      <td>SID_09537</td>\n",
              "      <td>340</td>\n",
              "      <td>TCP</td>\n",
              "      <td>6</td>\n",
              "      <td>86.876744</td>\n",
              "      <td>NaN</td>\n",
              "      <td>0.277069</td>\n",
              "      <td>4</td>\n",
              "      <td>Chrome</td>\n",
              "      <td>1</td>\n",
              "      <td>1</td>\n",
              "    </tr>\n",
              "  </tbody>\n",
              "</table>\n",
              "<p>9537 rows × 11 columns</p>\n",
              "</div>"
            ],
            "text/plain": [
              "     session_id  network_packet_size protocol_type  login_attempts  \\\n",
              "0     SID_00001                  599           TCP               4   \n",
              "1     SID_00002                  472           TCP               3   \n",
              "2     SID_00003                  629           TCP               3   \n",
              "3     SID_00004                  804           UDP               4   \n",
              "4     SID_00005                  453           TCP               5   \n",
              "...         ...                  ...           ...             ...   \n",
              "9532  SID_09533                  194          ICMP               3   \n",
              "9533  SID_09534                  380           TCP               3   \n",
              "9534  SID_09535                  664           TCP               5   \n",
              "9535  SID_09536                  406           TCP               4   \n",
              "9536  SID_09537                  340           TCP               6   \n",
              "\n",
              "      session_duration encryption_used  ip_reputation_score  failed_logins  \\\n",
              "0           492.983263             DES             0.606818              1   \n",
              "1          1557.996461             DES             0.301569              0   \n",
              "2            75.044262             DES             0.739164              2   \n",
              "3           601.248835             DES             0.123267              0   \n",
              "4           532.540888             AES             0.054874              1   \n",
              "...                ...             ...                  ...            ...   \n",
              "9532        226.049889             AES             0.517737              3   \n",
              "9533        182.848475             NaN             0.408485              0   \n",
              "9534         35.170248             AES             0.359200              1   \n",
              "9535         86.664703             AES             0.537417              1   \n",
              "9536         86.876744             NaN             0.277069              4   \n",
              "\n",
              "     browser_type  unusual_time_access  attack_detected  \n",
              "0            Edge                    0                1  \n",
              "1         Firefox                    0                0  \n",
              "2          Chrome                    0                1  \n",
              "3         Unknown                    0                1  \n",
              "4         Firefox                    0                0  \n",
              "...           ...                  ...              ...  \n",
              "9532       Chrome                    0                1  \n",
              "9533       Chrome                    0                0  \n",
              "9534      Firefox                    0                0  \n",
              "9535       Chrome                    1                0  \n",
              "9536       Chrome                    1                1  \n",
              "\n",
              "[9537 rows x 11 columns]"
            ]
          },
          "execution_count": 6,
          "metadata": {},
          "output_type": "execute_result"
        }
      ],
      "source": [
        "df = pd.read_csv('data/raw/cybersecurity_intrusion_data.csv')\n",
        "df"
      ]
    },
    {
      "cell_type": "markdown",
      "metadata": {},
      "source": [
        "## Feature Description\n",
        "Description of the features were provided with the dataset on [kaggle](https://www.kaggle.com/datasets/dnkumars/cybersecurity-intrusion-detection-dataset). Below is a brief summary of each feature:"
      ]
    },
    {
      "cell_type": "markdown",
      "metadata": {},
      "source": [
        "| **Feature Name**          | **Category**              | **Description** |\n",
        "|-----------------------------|----------------------------|-----------------|\n",
        "| `network_packet_size`       | Network-Based             | Represents the size of network packets (64–1500 bytes). Small packets (~64 bytes) may be control messages; large packets (~1500 bytes) carry bulk data. Abnormally small or large packets can indicate reconnaissance or exploitation. |\n",
        "| `protocol_type`             | Network-Based             | Communication protocol used in the session: **TCP** (reliable, common for HTTP/HTTPS/SSH), **UDP** (fast, less reliable, used in VoIP/streaming), or **ICMP** (network diagnostics, often abused in DoS attacks). |\n",
        "| `encryption_used`           | Network-Based             | Encryption protocol: **AES** (strong), **DES** (weak, outdated), or **None** (unencrypted). Attackers might avoid encryption or use weak ones to exploit vulnerabilities. |\n",
        "| `login_attempts`            | User Behavior-Based       | Number of login attempts. Typical users: 1–3. High values may indicate brute-force attacks with hundreds or thousands of attempts. |\n",
        "| `session_duration`          | User Behavior-Based       | Session length in seconds. Very long sessions may indicate unauthorized access or an attacker maintaining persistence. |\n",
        "| `failed_logins`             | User Behavior-Based       | Number of failed login attempts. High values suggest credential stuffing or dictionary attacks. A pattern of many failed attempts followed by a success could indicate compromise. |\n",
        "| `unusual_time_access`       | User Behavior-Based       | Binary flag (0 or 1) indicating login at an unusual time. Attackers often access systems outside normal business hours to evade detection. |\n",
        "| `ip_reputation_score`       | User Behavior-Based       | A score (0–1) representing IP trustworthiness. Higher scores indicate more suspicious activity (e.g., botnets, spam, or prior attacks). |\n",
        "| `browser_type`              | User Behavior-Based       | User’s browser (Chrome, Firefox, Edge, Safari, etc.). Unknown browsers could indicate bots or automated scripts. |\n",
        "| `attack_detected`           | **Target Variable**       | Binary classification target: **1** = attack detected, **0** = normal activity. |\n",
        "\n"
      ]
    },
    {
      "cell_type": "markdown",
      "metadata": {
        "id": "ZY3l0-AxO93d"
      },
      "source": [
        "---"
      ]
    },
    {
      "cell_type": "markdown",
      "metadata": {
        "id": "uFQo3ycuO-v6"
      },
      "source": [
        "# Data Cleaning\n",
        "The dataset will be cleaned to handle any missing values, duplicated entries and other inconsistencies."
      ]
    },
    {
      "cell_type": "code",
      "execution_count": 7,
      "metadata": {},
      "outputs": [
        {
          "name": "stdout",
          "output_type": "stream",
          "text": [
            "<class 'pandas.core.frame.DataFrame'>\n",
            "RangeIndex: 9537 entries, 0 to 9536\n",
            "Data columns (total 11 columns):\n",
            " #   Column               Non-Null Count  Dtype  \n",
            "---  ------               --------------  -----  \n",
            " 0   session_id           9537 non-null   object \n",
            " 1   network_packet_size  9537 non-null   int64  \n",
            " 2   protocol_type        9537 non-null   object \n",
            " 3   login_attempts       9537 non-null   int64  \n",
            " 4   session_duration     9537 non-null   float64\n",
            " 5   encryption_used      7571 non-null   object \n",
            " 6   ip_reputation_score  9537 non-null   float64\n",
            " 7   failed_logins        9537 non-null   int64  \n",
            " 8   browser_type         9537 non-null   object \n",
            " 9   unusual_time_access  9537 non-null   int64  \n",
            " 10  attack_detected      9537 non-null   int64  \n",
            "dtypes: float64(2), int64(5), object(4)\n",
            "memory usage: 819.7+ KB\n"
          ]
        }
      ],
      "source": [
        "df.info()"
      ]
    },
    {
      "cell_type": "markdown",
      "metadata": {},
      "source": [
        "## Handling Missing Values and Duplicates"
      ]
    },
    {
      "cell_type": "code",
      "execution_count": 8,
      "metadata": {},
      "outputs": [
        {
          "data": {
            "application/vnd.microsoft.datawrangler.viewer.v0+json": {
              "columns": [
                {
                  "name": "index",
                  "rawType": "object",
                  "type": "string"
                },
                {
                  "name": "0",
                  "rawType": "int64",
                  "type": "integer"
                }
              ],
              "ref": "10e9c44c-088d-485f-a7d4-9dff5fca8785",
              "rows": [
                [
                  "session_id",
                  "0"
                ],
                [
                  "network_packet_size",
                  "0"
                ],
                [
                  "protocol_type",
                  "0"
                ],
                [
                  "login_attempts",
                  "0"
                ],
                [
                  "session_duration",
                  "0"
                ],
                [
                  "encryption_used",
                  "1966"
                ],
                [
                  "ip_reputation_score",
                  "0"
                ],
                [
                  "failed_logins",
                  "0"
                ],
                [
                  "browser_type",
                  "0"
                ],
                [
                  "unusual_time_access",
                  "0"
                ],
                [
                  "attack_detected",
                  "0"
                ]
              ],
              "shape": {
                "columns": 1,
                "rows": 11
              }
            },
            "text/plain": [
              "session_id                0\n",
              "network_packet_size       0\n",
              "protocol_type             0\n",
              "login_attempts            0\n",
              "session_duration          0\n",
              "encryption_used        1966\n",
              "ip_reputation_score       0\n",
              "failed_logins             0\n",
              "browser_type              0\n",
              "unusual_time_access       0\n",
              "attack_detected           0\n",
              "dtype: int64"
            ]
          },
          "execution_count": 8,
          "metadata": {},
          "output_type": "execute_result"
        }
      ],
      "source": [
        "df.isna().sum()"
      ]
    },
    {
      "cell_type": "code",
      "execution_count": 9,
      "metadata": {},
      "outputs": [
        {
          "data": {
            "application/vnd.microsoft.datawrangler.viewer.v0+json": {
              "columns": [
                {
                  "name": "index",
                  "rawType": "int64",
                  "type": "integer"
                },
                {
                  "name": "encryption_used",
                  "rawType": "object",
                  "type": "unknown"
                },
                {
                  "name": "count",
                  "rawType": "int64",
                  "type": "integer"
                }
              ],
              "ref": "b27555b7-07ea-4eb4-b7bc-ad2370cafbd4",
              "rows": [
                [
                  "0",
                  "AES",
                  "4706"
                ],
                [
                  "1",
                  "DES",
                  "2865"
                ],
                [
                  "2",
                  null,
                  "1966"
                ]
              ],
              "shape": {
                "columns": 2,
                "rows": 3
              }
            },
            "text/html": [
              "<div>\n",
              "<style scoped>\n",
              "    .dataframe tbody tr th:only-of-type {\n",
              "        vertical-align: middle;\n",
              "    }\n",
              "\n",
              "    .dataframe tbody tr th {\n",
              "        vertical-align: top;\n",
              "    }\n",
              "\n",
              "    .dataframe thead th {\n",
              "        text-align: right;\n",
              "    }\n",
              "</style>\n",
              "<table border=\"1\" class=\"dataframe\">\n",
              "  <thead>\n",
              "    <tr style=\"text-align: right;\">\n",
              "      <th></th>\n",
              "      <th>encryption_used</th>\n",
              "      <th>count</th>\n",
              "    </tr>\n",
              "  </thead>\n",
              "  <tbody>\n",
              "    <tr>\n",
              "      <th>0</th>\n",
              "      <td>AES</td>\n",
              "      <td>4706</td>\n",
              "    </tr>\n",
              "    <tr>\n",
              "      <th>1</th>\n",
              "      <td>DES</td>\n",
              "      <td>2865</td>\n",
              "    </tr>\n",
              "    <tr>\n",
              "      <th>2</th>\n",
              "      <td>NaN</td>\n",
              "      <td>1966</td>\n",
              "    </tr>\n",
              "  </tbody>\n",
              "</table>\n",
              "</div>"
            ],
            "text/plain": [
              "  encryption_used  count\n",
              "0             AES   4706\n",
              "1             DES   2865\n",
              "2             NaN   1966"
            ]
          },
          "execution_count": 9,
          "metadata": {},
          "output_type": "execute_result"
        }
      ],
      "source": [
        "e_used_unique_counts = df['encryption_used'].value_counts(dropna=False).reset_index()\n",
        "e_used_unique_counts"
      ]
    },
    {
      "cell_type": "code",
      "execution_count": 10,
      "metadata": {},
      "outputs": [],
      "source": [
        "df['encryption_used'] = df['encryption_used'].fillna('No encryption')"
      ]
    },
    {
      "cell_type": "code",
      "execution_count": 11,
      "metadata": {},
      "outputs": [
        {
          "data": {
            "application/vnd.microsoft.datawrangler.viewer.v0+json": {
              "columns": [
                {
                  "name": "index",
                  "rawType": "object",
                  "type": "string"
                },
                {
                  "name": "0",
                  "rawType": "int64",
                  "type": "integer"
                }
              ],
              "ref": "0bded261-11fc-477a-be4a-235fcbe08aed",
              "rows": [
                [
                  "session_id",
                  "0"
                ],
                [
                  "network_packet_size",
                  "0"
                ],
                [
                  "protocol_type",
                  "0"
                ],
                [
                  "login_attempts",
                  "0"
                ],
                [
                  "session_duration",
                  "0"
                ],
                [
                  "encryption_used",
                  "0"
                ],
                [
                  "ip_reputation_score",
                  "0"
                ],
                [
                  "failed_logins",
                  "0"
                ],
                [
                  "browser_type",
                  "0"
                ],
                [
                  "unusual_time_access",
                  "0"
                ],
                [
                  "attack_detected",
                  "0"
                ]
              ],
              "shape": {
                "columns": 1,
                "rows": 11
              }
            },
            "text/plain": [
              "session_id             0\n",
              "network_packet_size    0\n",
              "protocol_type          0\n",
              "login_attempts         0\n",
              "session_duration       0\n",
              "encryption_used        0\n",
              "ip_reputation_score    0\n",
              "failed_logins          0\n",
              "browser_type           0\n",
              "unusual_time_access    0\n",
              "attack_detected        0\n",
              "dtype: int64"
            ]
          },
          "execution_count": 11,
          "metadata": {},
          "output_type": "execute_result"
        }
      ],
      "source": [
        "df.isna().sum()"
      ]
    },
    {
      "cell_type": "code",
      "execution_count": 12,
      "metadata": {},
      "outputs": [
        {
          "data": {
            "text/plain": [
              "0"
            ]
          },
          "execution_count": 12,
          "metadata": {},
          "output_type": "execute_result"
        }
      ],
      "source": [
        "df.duplicated().sum()"
      ]
    },
    {
      "cell_type": "markdown",
      "metadata": {},
      "source": [
        "## Checking for Data Inconsistencies"
      ]
    },
    {
      "cell_type": "code",
      "execution_count": 13,
      "metadata": {},
      "outputs": [
        {
          "data": {
            "application/vnd.microsoft.datawrangler.viewer.v0+json": {
              "columns": [
                {
                  "name": "index",
                  "rawType": "object",
                  "type": "string"
                },
                {
                  "name": "network_packet_size",
                  "rawType": "float64",
                  "type": "float"
                },
                {
                  "name": "login_attempts",
                  "rawType": "float64",
                  "type": "float"
                },
                {
                  "name": "session_duration",
                  "rawType": "float64",
                  "type": "float"
                },
                {
                  "name": "ip_reputation_score",
                  "rawType": "float64",
                  "type": "float"
                },
                {
                  "name": "failed_logins",
                  "rawType": "float64",
                  "type": "float"
                },
                {
                  "name": "unusual_time_access",
                  "rawType": "float64",
                  "type": "float"
                },
                {
                  "name": "attack_detected",
                  "rawType": "float64",
                  "type": "float"
                }
              ],
              "ref": "5e77e952-5f78-4065-944a-70c628ace79e",
              "rows": [
                [
                  "count",
                  "9537.0",
                  "9537.0",
                  "9537.0",
                  "9537.0",
                  "9537.0",
                  "9537.0",
                  "9537.0"
                ],
                [
                  "mean",
                  "500.43063856558666",
                  "4.032085561497326",
                  "792.7453115595799",
                  "0.33133799992013835",
                  "1.5177728845548915",
                  "0.14994232987312572",
                  "0.44710076543986577"
                ],
                [
                  "std",
                  "198.37936357533687",
                  "1.9630121541933145",
                  "786.5601443335571",
                  "0.1771748703067855",
                  "1.0339881279940444",
                  "0.35703360309299476",
                  "0.4972198648253835"
                ],
                [
                  "min",
                  "64.0",
                  "1.0",
                  "0.5",
                  "0.0024968331802346",
                  "0.0",
                  "0.0",
                  "0.0"
                ],
                [
                  "25%",
                  "365.0",
                  "3.0",
                  "231.95300642419463",
                  "0.191946488079701",
                  "1.0",
                  "0.0",
                  "0.0"
                ],
                [
                  "50%",
                  "499.0",
                  "4.0",
                  "556.277457433342",
                  "0.3147781474345736",
                  "1.0",
                  "0.0",
                  "0.0"
                ],
                [
                  "75%",
                  "635.0",
                  "5.0",
                  "1105.3806022240433",
                  "0.4533878446573279",
                  "2.0",
                  "0.0",
                  "1.0"
                ],
                [
                  "max",
                  "1285.0",
                  "13.0",
                  "7190.392212563188",
                  "0.924299191969215",
                  "5.0",
                  "1.0",
                  "1.0"
                ]
              ],
              "shape": {
                "columns": 7,
                "rows": 8
              }
            },
            "text/html": [
              "<div>\n",
              "<style scoped>\n",
              "    .dataframe tbody tr th:only-of-type {\n",
              "        vertical-align: middle;\n",
              "    }\n",
              "\n",
              "    .dataframe tbody tr th {\n",
              "        vertical-align: top;\n",
              "    }\n",
              "\n",
              "    .dataframe thead th {\n",
              "        text-align: right;\n",
              "    }\n",
              "</style>\n",
              "<table border=\"1\" class=\"dataframe\">\n",
              "  <thead>\n",
              "    <tr style=\"text-align: right;\">\n",
              "      <th></th>\n",
              "      <th>network_packet_size</th>\n",
              "      <th>login_attempts</th>\n",
              "      <th>session_duration</th>\n",
              "      <th>ip_reputation_score</th>\n",
              "      <th>failed_logins</th>\n",
              "      <th>unusual_time_access</th>\n",
              "      <th>attack_detected</th>\n",
              "    </tr>\n",
              "  </thead>\n",
              "  <tbody>\n",
              "    <tr>\n",
              "      <th>count</th>\n",
              "      <td>9537.000000</td>\n",
              "      <td>9537.000000</td>\n",
              "      <td>9537.000000</td>\n",
              "      <td>9537.000000</td>\n",
              "      <td>9537.000000</td>\n",
              "      <td>9537.000000</td>\n",
              "      <td>9537.000000</td>\n",
              "    </tr>\n",
              "    <tr>\n",
              "      <th>mean</th>\n",
              "      <td>500.430639</td>\n",
              "      <td>4.032086</td>\n",
              "      <td>792.745312</td>\n",
              "      <td>0.331338</td>\n",
              "      <td>1.517773</td>\n",
              "      <td>0.149942</td>\n",
              "      <td>0.447101</td>\n",
              "    </tr>\n",
              "    <tr>\n",
              "      <th>std</th>\n",
              "      <td>198.379364</td>\n",
              "      <td>1.963012</td>\n",
              "      <td>786.560144</td>\n",
              "      <td>0.177175</td>\n",
              "      <td>1.033988</td>\n",
              "      <td>0.357034</td>\n",
              "      <td>0.497220</td>\n",
              "    </tr>\n",
              "    <tr>\n",
              "      <th>min</th>\n",
              "      <td>64.000000</td>\n",
              "      <td>1.000000</td>\n",
              "      <td>0.500000</td>\n",
              "      <td>0.002497</td>\n",
              "      <td>0.000000</td>\n",
              "      <td>0.000000</td>\n",
              "      <td>0.000000</td>\n",
              "    </tr>\n",
              "    <tr>\n",
              "      <th>25%</th>\n",
              "      <td>365.000000</td>\n",
              "      <td>3.000000</td>\n",
              "      <td>231.953006</td>\n",
              "      <td>0.191946</td>\n",
              "      <td>1.000000</td>\n",
              "      <td>0.000000</td>\n",
              "      <td>0.000000</td>\n",
              "    </tr>\n",
              "    <tr>\n",
              "      <th>50%</th>\n",
              "      <td>499.000000</td>\n",
              "      <td>4.000000</td>\n",
              "      <td>556.277457</td>\n",
              "      <td>0.314778</td>\n",
              "      <td>1.000000</td>\n",
              "      <td>0.000000</td>\n",
              "      <td>0.000000</td>\n",
              "    </tr>\n",
              "    <tr>\n",
              "      <th>75%</th>\n",
              "      <td>635.000000</td>\n",
              "      <td>5.000000</td>\n",
              "      <td>1105.380602</td>\n",
              "      <td>0.453388</td>\n",
              "      <td>2.000000</td>\n",
              "      <td>0.000000</td>\n",
              "      <td>1.000000</td>\n",
              "    </tr>\n",
              "    <tr>\n",
              "      <th>max</th>\n",
              "      <td>1285.000000</td>\n",
              "      <td>13.000000</td>\n",
              "      <td>7190.392213</td>\n",
              "      <td>0.924299</td>\n",
              "      <td>5.000000</td>\n",
              "      <td>1.000000</td>\n",
              "      <td>1.000000</td>\n",
              "    </tr>\n",
              "  </tbody>\n",
              "</table>\n",
              "</div>"
            ],
            "text/plain": [
              "       network_packet_size  login_attempts  session_duration  \\\n",
              "count          9537.000000     9537.000000       9537.000000   \n",
              "mean            500.430639        4.032086        792.745312   \n",
              "std             198.379364        1.963012        786.560144   \n",
              "min              64.000000        1.000000          0.500000   \n",
              "25%             365.000000        3.000000        231.953006   \n",
              "50%             499.000000        4.000000        556.277457   \n",
              "75%             635.000000        5.000000       1105.380602   \n",
              "max            1285.000000       13.000000       7190.392213   \n",
              "\n",
              "       ip_reputation_score  failed_logins  unusual_time_access  \\\n",
              "count          9537.000000    9537.000000          9537.000000   \n",
              "mean              0.331338       1.517773             0.149942   \n",
              "std               0.177175       1.033988             0.357034   \n",
              "min               0.002497       0.000000             0.000000   \n",
              "25%               0.191946       1.000000             0.000000   \n",
              "50%               0.314778       1.000000             0.000000   \n",
              "75%               0.453388       2.000000             0.000000   \n",
              "max               0.924299       5.000000             1.000000   \n",
              "\n",
              "       attack_detected  \n",
              "count      9537.000000  \n",
              "mean          0.447101  \n",
              "std           0.497220  \n",
              "min           0.000000  \n",
              "25%           0.000000  \n",
              "50%           0.000000  \n",
              "75%           1.000000  \n",
              "max           1.000000  "
            ]
          },
          "execution_count": 13,
          "metadata": {},
          "output_type": "execute_result"
        }
      ],
      "source": [
        "df.describe()"
      ]
    },
    {
      "cell_type": "code",
      "execution_count": 14,
      "metadata": {},
      "outputs": [
        {
          "data": {
            "text/plain": [
              "9537"
            ]
          },
          "execution_count": 14,
          "metadata": {},
          "output_type": "execute_result"
        }
      ],
      "source": [
        "df['session_id'].nunique()"
      ]
    },
    {
      "cell_type": "code",
      "execution_count": 15,
      "metadata": {},
      "outputs": [
        {
          "name": "stdout",
          "output_type": "stream",
          "text": [
            "protocol_type\n",
            "TCP     6624\n",
            "UDP     2406\n",
            "ICMP     507\n",
            "Name: count, dtype: int64\n",
            "\n",
            "\n",
            "encryption_used\n",
            "AES              4706\n",
            "DES              2865\n",
            "No encryption    1966\n",
            "Name: count, dtype: int64\n",
            "\n",
            "\n",
            "browser_type\n",
            "Chrome     5137\n",
            "Firefox    1944\n",
            "Edge       1469\n",
            "Unknown     502\n",
            "Safari      485\n",
            "Name: count, dtype: int64\n",
            "\n",
            "\n"
          ]
        }
      ],
      "source": [
        "for col in ['protocol_type','encryption_used','browser_type']:\n",
        "    print(df[col].value_counts())\n",
        "    print(\"\\n\")"
      ]
    },
    {
      "cell_type": "code",
      "execution_count": 16,
      "metadata": {},
      "outputs": [
        {
          "name": "stdout",
          "output_type": "stream",
          "text": [
            "unusual_time_access\n",
            "0    8107\n",
            "1    1430\n",
            "Name: count, dtype: int64\n",
            "\n",
            "\n",
            "attack_detected\n",
            "0    5273\n",
            "1    4264\n",
            "Name: count, dtype: int64\n",
            "\n",
            "\n"
          ]
        }
      ],
      "source": [
        "for col in ['unusual_time_access', 'attack_detected']:\n",
        "    print(df[col].value_counts())\n",
        "    print(\"\\n\")"
      ]
    },
    {
      "cell_type": "code",
      "execution_count": 17,
      "metadata": {},
      "outputs": [
        {
          "data": {
            "application/vnd.microsoft.datawrangler.viewer.v0+json": {
              "columns": [
                {
                  "name": "index",
                  "rawType": "int64",
                  "type": "integer"
                },
                {
                  "name": "session_id",
                  "rawType": "object",
                  "type": "string"
                },
                {
                  "name": "network_packet_size",
                  "rawType": "int64",
                  "type": "integer"
                },
                {
                  "name": "protocol_type",
                  "rawType": "object",
                  "type": "string"
                },
                {
                  "name": "login_attempts",
                  "rawType": "int64",
                  "type": "integer"
                },
                {
                  "name": "session_duration",
                  "rawType": "float64",
                  "type": "float"
                },
                {
                  "name": "encryption_used",
                  "rawType": "object",
                  "type": "string"
                },
                {
                  "name": "ip_reputation_score",
                  "rawType": "float64",
                  "type": "float"
                },
                {
                  "name": "failed_logins",
                  "rawType": "int64",
                  "type": "integer"
                },
                {
                  "name": "browser_type",
                  "rawType": "object",
                  "type": "string"
                },
                {
                  "name": "unusual_time_access",
                  "rawType": "int64",
                  "type": "integer"
                },
                {
                  "name": "attack_detected",
                  "rawType": "int64",
                  "type": "integer"
                }
              ],
              "ref": "c3f6f6a0-2804-483b-a7d0-9f49e278a9ea",
              "rows": [
                [
                  "17",
                  "SID_00018",
                  "562",
                  "UDP",
                  "1",
                  "87.64100168835026",
                  "No encryption",
                  "0.1367291897579692",
                  "2",
                  "Firefox",
                  "0",
                  "0"
                ],
                [
                  "33",
                  "SID_00034",
                  "288",
                  "ICMP",
                  "2",
                  "1039.10118603804",
                  "AES",
                  "0.110269438624984",
                  "3",
                  "Chrome",
                  "0",
                  "1"
                ],
                [
                  "59",
                  "SID_00060",
                  "695",
                  "UDP",
                  "1",
                  "989.8897960942786",
                  "AES",
                  "0.259418552130799",
                  "2",
                  "Edge",
                  "0",
                  "1"
                ],
                [
                  "69",
                  "SID_00070",
                  "370",
                  "TCP",
                  "1",
                  "1105.3806022240433",
                  "AES",
                  "0.4086537168997098",
                  "2",
                  "Chrome",
                  "0",
                  "1"
                ],
                [
                  "101",
                  "SID_00102",
                  "415",
                  "TCP",
                  "2",
                  "294.5849672223419",
                  "AES",
                  "0.2046812710873537",
                  "3",
                  "Chrome",
                  "0",
                  "1"
                ],
                [
                  "104",
                  "SID_00105",
                  "467",
                  "ICMP",
                  "1",
                  "2505.1902247693133",
                  "AES",
                  "0.2099886202093015",
                  "2",
                  "Chrome",
                  "0",
                  "0"
                ],
                [
                  "130",
                  "SID_00131",
                  "189",
                  "TCP",
                  "1",
                  "43.94449986840703",
                  "AES",
                  "0.324800802082674",
                  "2",
                  "Chrome",
                  "0",
                  "0"
                ],
                [
                  "138",
                  "SID_00139",
                  "662",
                  "TCP",
                  "1",
                  "1185.7797753569248",
                  "AES",
                  "0.506076780728524",
                  "2",
                  "Chrome",
                  "0",
                  "0"
                ],
                [
                  "139",
                  "SID_00140",
                  "253",
                  "TCP",
                  "1",
                  "897.9900818952359",
                  "DES",
                  "0.2380386819236216",
                  "4",
                  "Unknown",
                  "0",
                  "1"
                ],
                [
                  "141",
                  "SID_00142",
                  "761",
                  "ICMP",
                  "1",
                  "959.6300158997273",
                  "AES",
                  "0.1775413015405739",
                  "2",
                  "Chrome",
                  "0",
                  "0"
                ],
                [
                  "150",
                  "SID_00151",
                  "550",
                  "TCP",
                  "1",
                  "555.2444851752033",
                  "No encryption",
                  "0.3650417976497674",
                  "2",
                  "Chrome",
                  "0",
                  "0"
                ],
                [
                  "157",
                  "SID_00158",
                  "594",
                  "TCP",
                  "3",
                  "97.24720087836856",
                  "AES",
                  "0.4076859456226729",
                  "4",
                  "Chrome",
                  "0",
                  "1"
                ],
                [
                  "168",
                  "SID_00169",
                  "450",
                  "UDP",
                  "1",
                  "508.49628287021335",
                  "AES",
                  "0.2577704856444119",
                  "2",
                  "Chrome",
                  "0",
                  "0"
                ],
                [
                  "180",
                  "SID_00181",
                  "625",
                  "TCP",
                  "1",
                  "1491.6272442087734",
                  "AES",
                  "0.2292396077650228",
                  "3",
                  "Chrome",
                  "0",
                  "1"
                ],
                [
                  "185",
                  "SID_00186",
                  "642",
                  "TCP",
                  "1",
                  "410.5743325044247",
                  "No encryption",
                  "0.2535139501498699",
                  "2",
                  "Chrome",
                  "0",
                  "0"
                ],
                [
                  "203",
                  "SID_00204",
                  "710",
                  "TCP",
                  "2",
                  "333.75180613210904",
                  "DES",
                  "0.3712473480414219",
                  "3",
                  "Firefox",
                  "0",
                  "1"
                ],
                [
                  "208",
                  "SID_00209",
                  "603",
                  "TCP",
                  "1",
                  "2988.9867876731164",
                  "DES",
                  "0.2760896524741578",
                  "2",
                  "Chrome",
                  "0",
                  "0"
                ],
                [
                  "226",
                  "SID_00227",
                  "512",
                  "TCP",
                  "2",
                  "60.71129061945858",
                  "AES",
                  "0.4276029431872097",
                  "3",
                  "Chrome",
                  "1",
                  "1"
                ],
                [
                  "258",
                  "SID_00259",
                  "588",
                  "UDP",
                  "2",
                  "850.8558379069228",
                  "DES",
                  "0.2079475511776274",
                  "4",
                  "Chrome",
                  "0",
                  "1"
                ],
                [
                  "272",
                  "SID_00273",
                  "732",
                  "TCP",
                  "2",
                  "1308.020307909569",
                  "AES",
                  "0.1919046573515208",
                  "4",
                  "Edge",
                  "0",
                  "1"
                ],
                [
                  "275",
                  "SID_00276",
                  "592",
                  "TCP",
                  "1",
                  "234.54194250047792",
                  "No encryption",
                  "0.408215129621812",
                  "2",
                  "Edge",
                  "0",
                  "0"
                ],
                [
                  "294",
                  "SID_00295",
                  "571",
                  "TCP",
                  "3",
                  "496.3834309128998",
                  "AES",
                  "0.308044553720591",
                  "4",
                  "Firefox",
                  "0",
                  "1"
                ],
                [
                  "296",
                  "SID_00297",
                  "679",
                  "ICMP",
                  "1",
                  "155.98117018839662",
                  "AES",
                  "0.3509090588433247",
                  "2",
                  "Edge",
                  "0",
                  "0"
                ],
                [
                  "306",
                  "SID_00307",
                  "755",
                  "TCP",
                  "1",
                  "948.3833026661184",
                  "AES",
                  "0.75885213312559",
                  "2",
                  "Firefox",
                  "0",
                  "1"
                ],
                [
                  "325",
                  "SID_00326",
                  "257",
                  "TCP",
                  "1",
                  "24.50807464508797",
                  "DES",
                  "0.0527489254674629",
                  "2",
                  "Chrome",
                  "0",
                  "0"
                ],
                [
                  "343",
                  "SID_00344",
                  "398",
                  "UDP",
                  "1",
                  "1724.0444421342936",
                  "No encryption",
                  "0.0201647170282324",
                  "3",
                  "Firefox",
                  "1",
                  "1"
                ],
                [
                  "357",
                  "SID_00358",
                  "442",
                  "TCP",
                  "2",
                  "3255.129333354427",
                  "AES",
                  "0.4621243006387462",
                  "3",
                  "Chrome",
                  "0",
                  "1"
                ],
                [
                  "376",
                  "SID_00377",
                  "674",
                  "UDP",
                  "1",
                  "1642.610566371037",
                  "DES",
                  "0.2647785893709732",
                  "2",
                  "Edge",
                  "1",
                  "0"
                ],
                [
                  "384",
                  "SID_00385",
                  "348",
                  "TCP",
                  "2",
                  "157.81374339733782",
                  "AES",
                  "0.1329296203186743",
                  "3",
                  "Firefox",
                  "0",
                  "1"
                ],
                [
                  "395",
                  "SID_00396",
                  "406",
                  "TCP",
                  "1",
                  "1470.7602446072638",
                  "No encryption",
                  "0.3867852722792184",
                  "2",
                  "Chrome",
                  "0",
                  "0"
                ],
                [
                  "399",
                  "SID_00400",
                  "747",
                  "ICMP",
                  "3",
                  "52.01584766087736",
                  "AES",
                  "0.1723968153176026",
                  "4",
                  "Chrome",
                  "0",
                  "1"
                ],
                [
                  "431",
                  "SID_00432",
                  "92",
                  "TCP",
                  "1",
                  "254.68878294385453",
                  "AES",
                  "0.2913318224183618",
                  "4",
                  "Chrome",
                  "0",
                  "1"
                ],
                [
                  "439",
                  "SID_00440",
                  "488",
                  "TCP",
                  "2",
                  "271.33946881162154",
                  "AES",
                  "0.1181121152724756",
                  "3",
                  "Chrome",
                  "0",
                  "1"
                ],
                [
                  "448",
                  "SID_00449",
                  "397",
                  "TCP",
                  "2",
                  "1663.6450617382643",
                  "DES",
                  "0.2772451559572069",
                  "3",
                  "Firefox",
                  "0",
                  "1"
                ],
                [
                  "493",
                  "SID_00494",
                  "327",
                  "TCP",
                  "2",
                  "87.57341324246734",
                  "DES",
                  "0.2466059331941914",
                  "4",
                  "Chrome",
                  "0",
                  "1"
                ],
                [
                  "502",
                  "SID_00503",
                  "220",
                  "TCP",
                  "2",
                  "164.7374052405895",
                  "No encryption",
                  "0.3267986179665448",
                  "3",
                  "Safari",
                  "0",
                  "1"
                ],
                [
                  "519",
                  "SID_00520",
                  "650",
                  "UDP",
                  "2",
                  "384.3209932767374",
                  "DES",
                  "0.5312668751436829",
                  "3",
                  "Chrome",
                  "0",
                  "1"
                ],
                [
                  "524",
                  "SID_00525",
                  "347",
                  "TCP",
                  "1",
                  "121.87608857038836",
                  "No encryption",
                  "0.2599774872505725",
                  "3",
                  "Firefox",
                  "0",
                  "1"
                ],
                [
                  "534",
                  "SID_00535",
                  "369",
                  "UDP",
                  "1",
                  "229.40741976519703",
                  "DES",
                  "0.185560846496481",
                  "3",
                  "Chrome",
                  "0",
                  "1"
                ],
                [
                  "536",
                  "SID_00537",
                  "327",
                  "TCP",
                  "3",
                  "205.20028216516903",
                  "No encryption",
                  "0.1600642617050865",
                  "4",
                  "Chrome",
                  "0",
                  "1"
                ],
                [
                  "544",
                  "SID_00545",
                  "64",
                  "TCP",
                  "1",
                  "29.13443062137344",
                  "DES",
                  "0.5140630158307588",
                  "2",
                  "Edge",
                  "1",
                  "0"
                ],
                [
                  "568",
                  "SID_00569",
                  "125",
                  "TCP",
                  "1",
                  "1452.8499985172157",
                  "AES",
                  "0.3091812934903772",
                  "2",
                  "Edge",
                  "0",
                  "1"
                ],
                [
                  "587",
                  "SID_00588",
                  "330",
                  "TCP",
                  "2",
                  "327.3891479419907",
                  "AES",
                  "0.1035812988191937",
                  "5",
                  "Chrome",
                  "0",
                  "1"
                ],
                [
                  "588",
                  "SID_00589",
                  "666",
                  "TCP",
                  "1",
                  "339.02314092820245",
                  "AES",
                  "0.2181042749690882",
                  "4",
                  "Chrome",
                  "0",
                  "1"
                ],
                [
                  "597",
                  "SID_00598",
                  "304",
                  "UDP",
                  "2",
                  "1827.8784945384327",
                  "AES",
                  "0.1477827855670451",
                  "3",
                  "Firefox",
                  "0",
                  "1"
                ],
                [
                  "620",
                  "SID_00621",
                  "341",
                  "TCP",
                  "2",
                  "3230.5509581034344",
                  "DES",
                  "0.5780838435090695",
                  "3",
                  "Chrome",
                  "0",
                  "1"
                ],
                [
                  "622",
                  "SID_00623",
                  "876",
                  "TCP",
                  "1",
                  "162.0967976104632",
                  "AES",
                  "0.6719558550557124",
                  "3",
                  "Chrome",
                  "0",
                  "1"
                ],
                [
                  "650",
                  "SID_00651",
                  "869",
                  "TCP",
                  "1",
                  "316.3072132256884",
                  "No encryption",
                  "0.2481869719401685",
                  "3",
                  "Chrome",
                  "0",
                  "1"
                ],
                [
                  "656",
                  "SID_00657",
                  "502",
                  "UDP",
                  "1",
                  "475.1490480934327",
                  "AES",
                  "0.4937274160818746",
                  "2",
                  "Firefox",
                  "0",
                  "1"
                ],
                [
                  "657",
                  "SID_00658",
                  "495",
                  "TCP",
                  "2",
                  "612.7247162102358",
                  "No encryption",
                  "0.363708220624496",
                  "3",
                  "Chrome",
                  "0",
                  "1"
                ]
              ],
              "shape": {
                "columns": 11,
                "rows": 730
              }
            },
            "text/html": [
              "<div>\n",
              "<style scoped>\n",
              "    .dataframe tbody tr th:only-of-type {\n",
              "        vertical-align: middle;\n",
              "    }\n",
              "\n",
              "    .dataframe tbody tr th {\n",
              "        vertical-align: top;\n",
              "    }\n",
              "\n",
              "    .dataframe thead th {\n",
              "        text-align: right;\n",
              "    }\n",
              "</style>\n",
              "<table border=\"1\" class=\"dataframe\">\n",
              "  <thead>\n",
              "    <tr style=\"text-align: right;\">\n",
              "      <th></th>\n",
              "      <th>session_id</th>\n",
              "      <th>network_packet_size</th>\n",
              "      <th>protocol_type</th>\n",
              "      <th>login_attempts</th>\n",
              "      <th>session_duration</th>\n",
              "      <th>encryption_used</th>\n",
              "      <th>ip_reputation_score</th>\n",
              "      <th>failed_logins</th>\n",
              "      <th>browser_type</th>\n",
              "      <th>unusual_time_access</th>\n",
              "      <th>attack_detected</th>\n",
              "    </tr>\n",
              "  </thead>\n",
              "  <tbody>\n",
              "    <tr>\n",
              "      <th>17</th>\n",
              "      <td>SID_00018</td>\n",
              "      <td>562</td>\n",
              "      <td>UDP</td>\n",
              "      <td>1</td>\n",
              "      <td>87.641002</td>\n",
              "      <td>No encryption</td>\n",
              "      <td>0.136729</td>\n",
              "      <td>2</td>\n",
              "      <td>Firefox</td>\n",
              "      <td>0</td>\n",
              "      <td>0</td>\n",
              "    </tr>\n",
              "    <tr>\n",
              "      <th>33</th>\n",
              "      <td>SID_00034</td>\n",
              "      <td>288</td>\n",
              "      <td>ICMP</td>\n",
              "      <td>2</td>\n",
              "      <td>1039.101186</td>\n",
              "      <td>AES</td>\n",
              "      <td>0.110269</td>\n",
              "      <td>3</td>\n",
              "      <td>Chrome</td>\n",
              "      <td>0</td>\n",
              "      <td>1</td>\n",
              "    </tr>\n",
              "    <tr>\n",
              "      <th>59</th>\n",
              "      <td>SID_00060</td>\n",
              "      <td>695</td>\n",
              "      <td>UDP</td>\n",
              "      <td>1</td>\n",
              "      <td>989.889796</td>\n",
              "      <td>AES</td>\n",
              "      <td>0.259419</td>\n",
              "      <td>2</td>\n",
              "      <td>Edge</td>\n",
              "      <td>0</td>\n",
              "      <td>1</td>\n",
              "    </tr>\n",
              "    <tr>\n",
              "      <th>69</th>\n",
              "      <td>SID_00070</td>\n",
              "      <td>370</td>\n",
              "      <td>TCP</td>\n",
              "      <td>1</td>\n",
              "      <td>1105.380602</td>\n",
              "      <td>AES</td>\n",
              "      <td>0.408654</td>\n",
              "      <td>2</td>\n",
              "      <td>Chrome</td>\n",
              "      <td>0</td>\n",
              "      <td>1</td>\n",
              "    </tr>\n",
              "    <tr>\n",
              "      <th>101</th>\n",
              "      <td>SID_00102</td>\n",
              "      <td>415</td>\n",
              "      <td>TCP</td>\n",
              "      <td>2</td>\n",
              "      <td>294.584967</td>\n",
              "      <td>AES</td>\n",
              "      <td>0.204681</td>\n",
              "      <td>3</td>\n",
              "      <td>Chrome</td>\n",
              "      <td>0</td>\n",
              "      <td>1</td>\n",
              "    </tr>\n",
              "    <tr>\n",
              "      <th>...</th>\n",
              "      <td>...</td>\n",
              "      <td>...</td>\n",
              "      <td>...</td>\n",
              "      <td>...</td>\n",
              "      <td>...</td>\n",
              "      <td>...</td>\n",
              "      <td>...</td>\n",
              "      <td>...</td>\n",
              "      <td>...</td>\n",
              "      <td>...</td>\n",
              "      <td>...</td>\n",
              "    </tr>\n",
              "    <tr>\n",
              "      <th>9440</th>\n",
              "      <td>SID_09441</td>\n",
              "      <td>148</td>\n",
              "      <td>TCP</td>\n",
              "      <td>1</td>\n",
              "      <td>443.215461</td>\n",
              "      <td>AES</td>\n",
              "      <td>0.313589</td>\n",
              "      <td>2</td>\n",
              "      <td>Chrome</td>\n",
              "      <td>0</td>\n",
              "      <td>0</td>\n",
              "    </tr>\n",
              "    <tr>\n",
              "      <th>9450</th>\n",
              "      <td>SID_09451</td>\n",
              "      <td>465</td>\n",
              "      <td>UDP</td>\n",
              "      <td>1</td>\n",
              "      <td>453.611248</td>\n",
              "      <td>DES</td>\n",
              "      <td>0.323267</td>\n",
              "      <td>4</td>\n",
              "      <td>Chrome</td>\n",
              "      <td>0</td>\n",
              "      <td>1</td>\n",
              "    </tr>\n",
              "    <tr>\n",
              "      <th>9472</th>\n",
              "      <td>SID_09473</td>\n",
              "      <td>128</td>\n",
              "      <td>UDP</td>\n",
              "      <td>1</td>\n",
              "      <td>1186.658300</td>\n",
              "      <td>AES</td>\n",
              "      <td>0.360473</td>\n",
              "      <td>2</td>\n",
              "      <td>Chrome</td>\n",
              "      <td>1</td>\n",
              "      <td>0</td>\n",
              "    </tr>\n",
              "    <tr>\n",
              "      <th>9487</th>\n",
              "      <td>SID_09488</td>\n",
              "      <td>739</td>\n",
              "      <td>UDP</td>\n",
              "      <td>2</td>\n",
              "      <td>392.207834</td>\n",
              "      <td>No encryption</td>\n",
              "      <td>0.420159</td>\n",
              "      <td>4</td>\n",
              "      <td>Chrome</td>\n",
              "      <td>0</td>\n",
              "      <td>1</td>\n",
              "    </tr>\n",
              "    <tr>\n",
              "      <th>9500</th>\n",
              "      <td>SID_09501</td>\n",
              "      <td>446</td>\n",
              "      <td>TCP</td>\n",
              "      <td>1</td>\n",
              "      <td>823.408520</td>\n",
              "      <td>DES</td>\n",
              "      <td>0.661118</td>\n",
              "      <td>3</td>\n",
              "      <td>Edge</td>\n",
              "      <td>0</td>\n",
              "      <td>1</td>\n",
              "    </tr>\n",
              "  </tbody>\n",
              "</table>\n",
              "<p>730 rows × 11 columns</p>\n",
              "</div>"
            ],
            "text/plain": [
              "     session_id  network_packet_size protocol_type  login_attempts  \\\n",
              "17    SID_00018                  562           UDP               1   \n",
              "33    SID_00034                  288          ICMP               2   \n",
              "59    SID_00060                  695           UDP               1   \n",
              "69    SID_00070                  370           TCP               1   \n",
              "101   SID_00102                  415           TCP               2   \n",
              "...         ...                  ...           ...             ...   \n",
              "9440  SID_09441                  148           TCP               1   \n",
              "9450  SID_09451                  465           UDP               1   \n",
              "9472  SID_09473                  128           UDP               1   \n",
              "9487  SID_09488                  739           UDP               2   \n",
              "9500  SID_09501                  446           TCP               1   \n",
              "\n",
              "      session_duration encryption_used  ip_reputation_score  failed_logins  \\\n",
              "17           87.641002   No encryption             0.136729              2   \n",
              "33         1039.101186             AES             0.110269              3   \n",
              "59          989.889796             AES             0.259419              2   \n",
              "69         1105.380602             AES             0.408654              2   \n",
              "101         294.584967             AES             0.204681              3   \n",
              "...                ...             ...                  ...            ...   \n",
              "9440        443.215461             AES             0.313589              2   \n",
              "9450        453.611248             DES             0.323267              4   \n",
              "9472       1186.658300             AES             0.360473              2   \n",
              "9487        392.207834   No encryption             0.420159              4   \n",
              "9500        823.408520             DES             0.661118              3   \n",
              "\n",
              "     browser_type  unusual_time_access  attack_detected  \n",
              "17        Firefox                    0                0  \n",
              "33         Chrome                    0                1  \n",
              "59           Edge                    0                1  \n",
              "69         Chrome                    0                1  \n",
              "101        Chrome                    0                1  \n",
              "...           ...                  ...              ...  \n",
              "9440       Chrome                    0                0  \n",
              "9450       Chrome                    0                1  \n",
              "9472       Chrome                    1                0  \n",
              "9487       Chrome                    0                1  \n",
              "9500         Edge                    0                1  \n",
              "\n",
              "[730 rows x 11 columns]"
            ]
          },
          "execution_count": 17,
          "metadata": {},
          "output_type": "execute_result"
        }
      ],
      "source": [
        "df[df['login_attempts'] < df['failed_logins']]"
      ]
    },
    {
      "cell_type": "code",
      "execution_count": 18,
      "metadata": {},
      "outputs": [
        {
          "data": {
            "text/plain": [
              "(0, 11)"
            ]
          },
          "execution_count": 18,
          "metadata": {},
          "output_type": "execute_result"
        }
      ],
      "source": [
        "df.drop(df[df['login_attempts'] < df['failed_logins']].index, inplace=True)\n",
        "df[df['login_attempts'] < df['failed_logins']].shape"
      ]
    },
    {
      "cell_type": "markdown",
      "metadata": {},
      "source": [
        "---"
      ]
    },
    {
      "cell_type": "markdown",
      "metadata": {},
      "source": [
        "# Saving Cleaned Data"
      ]
    },
    {
      "cell_type": "code",
      "execution_count": 19,
      "metadata": {},
      "outputs": [],
      "source": [
        "df.to_csv('data/processed/cybersecurity_intrusion_data_cleaned.csv', index=False)"
      ]
    },
    {
      "cell_type": "markdown",
      "metadata": {},
      "source": [
        "---"
      ]
    },
    {
      "cell_type": "markdown",
      "metadata": {
        "id": "ltNetd085qHf"
      },
      "source": [
        "# Conclusion"
      ]
    },
    {
      "cell_type": "markdown",
      "metadata": {},
      "source": [
        "* "
      ]
    },
    {
      "cell_type": "markdown",
      "metadata": {},
      "source": []
    }
  ],
  "metadata": {
    "accelerator": "GPU",
    "colab": {
      "name": "Data Practitioner Jupyter Notebook.ipynb",
      "provenance": [],
      "toc_visible": true
    },
    "kernelspec": {
      "display_name": ".venv (3.12.8)",
      "language": "python",
      "name": "python3"
    },
    "language_info": {
      "codemirror_mode": {
        "name": "ipython",
        "version": 3
      },
      "file_extension": ".py",
      "mimetype": "text/x-python",
      "name": "python",
      "nbconvert_exporter": "python",
      "pygments_lexer": "ipython3",
      "version": "3.12.8"
    },
    "orig_nbformat": 2
  },
  "nbformat": 4,
  "nbformat_minor": 2
}
