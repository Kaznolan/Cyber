{
  "cells": [
    {
      "cell_type": "markdown",
      "metadata": {
        "id": "0aStgWSO0E0E"
      },
      "source": [
        "# **Load data**"
      ]
    },
    {
      "cell_type": "markdown",
      "metadata": {
        "id": "1eLEkw5O0ECa"
      },
      "source": [
        "## Objectives\n",
        "\n",
        "* Write your notebook objective here, for example, \"Fetch data from Kaggle and save as raw data\", or \"engineer features for modelling\"\n",
        "\n",
        "## Inputs\n",
        "\n",
        "* Write down which data or information you need to run the notebook \n",
        "\n",
        "## Outputs\n",
        "\n",
        "* Write here which files, code or artefacts you generate by the end of the notebook \n",
        "\n",
        "## Additional Comments\n",
        "\n",
        "* If you have any additional comments that don't fit in the previous bullets, please state them here. \n",
        "\n"
      ]
    },
    {
      "cell_type": "markdown",
      "metadata": {
        "id": "9uWZXH9LwoQg"
      },
      "source": [
        "---"
      ]
    },
    {
      "cell_type": "markdown",
      "metadata": {
        "id": "cqP-UeN-z3i2"
      },
      "source": [
        "# Change working directory"
      ]
    },
    {
      "cell_type": "markdown",
      "metadata": {},
      "source": [
        "* We are assuming you will store the notebooks in a subfolder, therefore when running the notebook in the editor, you will need to change the working directory"
      ]
    },
    {
      "cell_type": "markdown",
      "metadata": {
        "id": "aOGIGS-uz3i2"
      },
      "source": [
        "We need to change the working directory from its current folder to its parent folder\n",
        "* We access the current directory with os.getcwd()"
      ]
    },
    {
      "cell_type": "code",
      "execution_count": 1,
      "metadata": {
        "id": "wZfF_j-Bz3i4",
        "outputId": "66943449-1436-4c3d-85c7-b85f9f78349b"
      },
      "outputs": [
        {
          "data": {
            "text/plain": [
              "'c:\\\\Code projects\\\\final-hackathon\\\\cybersecurity-intrusion-detection\\\\jupyter_notebooks'"
            ]
          },
          "execution_count": 1,
          "metadata": {},
          "output_type": "execute_result"
        }
      ],
      "source": [
        "import os\n",
        "current_dir = os.getcwd()\n",
        "current_dir"
      ]
    },
    {
      "cell_type": "markdown",
      "metadata": {
        "id": "9MWW8E7lz3i7"
      },
      "source": [
        "We want to make the parent of the current directory the new current directory\n",
        "* os.path.dirname() gets the parent directory\n",
        "* os.chir() defines the new current directory"
      ]
    },
    {
      "cell_type": "code",
      "execution_count": 2,
      "metadata": {
        "id": "TwHsQRWjz3i9",
        "outputId": "86849db3-cd2f-4cc5-ebb8-2d0caafa1a2c"
      },
      "outputs": [
        {
          "name": "stdout",
          "output_type": "stream",
          "text": [
            "You set a new current directory\n"
          ]
        }
      ],
      "source": [
        "os.chdir(os.path.dirname(current_dir))\n",
        "print(\"You set a new current directory\")"
      ]
    },
    {
      "cell_type": "markdown",
      "metadata": {
        "id": "M_xPk_Ijz3i-"
      },
      "source": [
        "Confirm the new current directory"
      ]
    },
    {
      "cell_type": "code",
      "execution_count": 3,
      "metadata": {
        "id": "vz3S-_kjz3jA",
        "outputId": "00b79ae4-75d0-4a96-d193-ac9ef9847ea2"
      },
      "outputs": [
        {
          "data": {
            "text/plain": [
              "'c:\\\\Code projects\\\\final-hackathon\\\\cybersecurity-intrusion-detection'"
            ]
          },
          "execution_count": 3,
          "metadata": {},
          "output_type": "execute_result"
        }
      ],
      "source": [
        "current_dir = os.getcwd()\n",
        "current_dir"
      ]
    },
    {
      "cell_type": "markdown",
      "metadata": {},
      "source": [
        "---"
      ]
    },
    {
      "cell_type": "markdown",
      "metadata": {
        "id": "-mavJ8DibrcQ"
      },
      "source": [
        "# Initial Setup and Extracting Data"
      ]
    },
    {
      "cell_type": "markdown",
      "metadata": {},
      "source": [
        "Importing libaries"
      ]
    },
    {
      "cell_type": "code",
      "execution_count": 4,
      "metadata": {},
      "outputs": [],
      "source": [
        "import numpy as np\n",
        "import pandas as pd\n",
        "import matplotlib.pyplot as plt\n",
        "import seaborn as sns"
      ]
    },
    {
      "cell_type": "code",
      "execution_count": 5,
      "metadata": {},
      "outputs": [
        {
          "data": {
            "text/html": [
              "<div>\n",
              "<style scoped>\n",
              "    .dataframe tbody tr th:only-of-type {\n",
              "        vertical-align: middle;\n",
              "    }\n",
              "\n",
              "    .dataframe tbody tr th {\n",
              "        vertical-align: top;\n",
              "    }\n",
              "\n",
              "    .dataframe thead th {\n",
              "        text-align: right;\n",
              "    }\n",
              "</style>\n",
              "<table border=\"1\" class=\"dataframe\">\n",
              "  <thead>\n",
              "    <tr style=\"text-align: right;\">\n",
              "      <th></th>\n",
              "      <th>session_id</th>\n",
              "      <th>network_packet_size</th>\n",
              "      <th>protocol_type</th>\n",
              "      <th>login_attempts</th>\n",
              "      <th>session_duration</th>\n",
              "      <th>encryption_used</th>\n",
              "      <th>ip_reputation_score</th>\n",
              "      <th>failed_logins</th>\n",
              "      <th>browser_type</th>\n",
              "      <th>unusual_time_access</th>\n",
              "      <th>attack_detected</th>\n",
              "    </tr>\n",
              "  </thead>\n",
              "  <tbody>\n",
              "    <tr>\n",
              "      <th>0</th>\n",
              "      <td>SID_00001</td>\n",
              "      <td>599</td>\n",
              "      <td>TCP</td>\n",
              "      <td>4</td>\n",
              "      <td>492.983263</td>\n",
              "      <td>DES</td>\n",
              "      <td>0.606818</td>\n",
              "      <td>1</td>\n",
              "      <td>Edge</td>\n",
              "      <td>0</td>\n",
              "      <td>1</td>\n",
              "    </tr>\n",
              "    <tr>\n",
              "      <th>1</th>\n",
              "      <td>SID_00002</td>\n",
              "      <td>472</td>\n",
              "      <td>TCP</td>\n",
              "      <td>3</td>\n",
              "      <td>1557.996461</td>\n",
              "      <td>DES</td>\n",
              "      <td>0.301569</td>\n",
              "      <td>0</td>\n",
              "      <td>Firefox</td>\n",
              "      <td>0</td>\n",
              "      <td>0</td>\n",
              "    </tr>\n",
              "    <tr>\n",
              "      <th>2</th>\n",
              "      <td>SID_00003</td>\n",
              "      <td>629</td>\n",
              "      <td>TCP</td>\n",
              "      <td>3</td>\n",
              "      <td>75.044262</td>\n",
              "      <td>DES</td>\n",
              "      <td>0.739164</td>\n",
              "      <td>2</td>\n",
              "      <td>Chrome</td>\n",
              "      <td>0</td>\n",
              "      <td>1</td>\n",
              "    </tr>\n",
              "    <tr>\n",
              "      <th>3</th>\n",
              "      <td>SID_00004</td>\n",
              "      <td>804</td>\n",
              "      <td>UDP</td>\n",
              "      <td>4</td>\n",
              "      <td>601.248835</td>\n",
              "      <td>DES</td>\n",
              "      <td>0.123267</td>\n",
              "      <td>0</td>\n",
              "      <td>Unknown</td>\n",
              "      <td>0</td>\n",
              "      <td>1</td>\n",
              "    </tr>\n",
              "    <tr>\n",
              "      <th>4</th>\n",
              "      <td>SID_00005</td>\n",
              "      <td>453</td>\n",
              "      <td>TCP</td>\n",
              "      <td>5</td>\n",
              "      <td>532.540888</td>\n",
              "      <td>AES</td>\n",
              "      <td>0.054874</td>\n",
              "      <td>1</td>\n",
              "      <td>Firefox</td>\n",
              "      <td>0</td>\n",
              "      <td>0</td>\n",
              "    </tr>\n",
              "    <tr>\n",
              "      <th>...</th>\n",
              "      <td>...</td>\n",
              "      <td>...</td>\n",
              "      <td>...</td>\n",
              "      <td>...</td>\n",
              "      <td>...</td>\n",
              "      <td>...</td>\n",
              "      <td>...</td>\n",
              "      <td>...</td>\n",
              "      <td>...</td>\n",
              "      <td>...</td>\n",
              "      <td>...</td>\n",
              "    </tr>\n",
              "    <tr>\n",
              "      <th>9532</th>\n",
              "      <td>SID_09533</td>\n",
              "      <td>194</td>\n",
              "      <td>ICMP</td>\n",
              "      <td>3</td>\n",
              "      <td>226.049889</td>\n",
              "      <td>AES</td>\n",
              "      <td>0.517737</td>\n",
              "      <td>3</td>\n",
              "      <td>Chrome</td>\n",
              "      <td>0</td>\n",
              "      <td>1</td>\n",
              "    </tr>\n",
              "    <tr>\n",
              "      <th>9533</th>\n",
              "      <td>SID_09534</td>\n",
              "      <td>380</td>\n",
              "      <td>TCP</td>\n",
              "      <td>3</td>\n",
              "      <td>182.848475</td>\n",
              "      <td>NaN</td>\n",
              "      <td>0.408485</td>\n",
              "      <td>0</td>\n",
              "      <td>Chrome</td>\n",
              "      <td>0</td>\n",
              "      <td>0</td>\n",
              "    </tr>\n",
              "    <tr>\n",
              "      <th>9534</th>\n",
              "      <td>SID_09535</td>\n",
              "      <td>664</td>\n",
              "      <td>TCP</td>\n",
              "      <td>5</td>\n",
              "      <td>35.170248</td>\n",
              "      <td>AES</td>\n",
              "      <td>0.359200</td>\n",
              "      <td>1</td>\n",
              "      <td>Firefox</td>\n",
              "      <td>0</td>\n",
              "      <td>0</td>\n",
              "    </tr>\n",
              "    <tr>\n",
              "      <th>9535</th>\n",
              "      <td>SID_09536</td>\n",
              "      <td>406</td>\n",
              "      <td>TCP</td>\n",
              "      <td>4</td>\n",
              "      <td>86.664703</td>\n",
              "      <td>AES</td>\n",
              "      <td>0.537417</td>\n",
              "      <td>1</td>\n",
              "      <td>Chrome</td>\n",
              "      <td>1</td>\n",
              "      <td>0</td>\n",
              "    </tr>\n",
              "    <tr>\n",
              "      <th>9536</th>\n",
              "      <td>SID_09537</td>\n",
              "      <td>340</td>\n",
              "      <td>TCP</td>\n",
              "      <td>6</td>\n",
              "      <td>86.876744</td>\n",
              "      <td>NaN</td>\n",
              "      <td>0.277069</td>\n",
              "      <td>4</td>\n",
              "      <td>Chrome</td>\n",
              "      <td>1</td>\n",
              "      <td>1</td>\n",
              "    </tr>\n",
              "  </tbody>\n",
              "</table>\n",
              "<p>9537 rows × 11 columns</p>\n",
              "</div>"
            ],
            "text/plain": [
              "     session_id  network_packet_size protocol_type  login_attempts  \\\n",
              "0     SID_00001                  599           TCP               4   \n",
              "1     SID_00002                  472           TCP               3   \n",
              "2     SID_00003                  629           TCP               3   \n",
              "3     SID_00004                  804           UDP               4   \n",
              "4     SID_00005                  453           TCP               5   \n",
              "...         ...                  ...           ...             ...   \n",
              "9532  SID_09533                  194          ICMP               3   \n",
              "9533  SID_09534                  380           TCP               3   \n",
              "9534  SID_09535                  664           TCP               5   \n",
              "9535  SID_09536                  406           TCP               4   \n",
              "9536  SID_09537                  340           TCP               6   \n",
              "\n",
              "      session_duration encryption_used  ip_reputation_score  failed_logins  \\\n",
              "0           492.983263             DES             0.606818              1   \n",
              "1          1557.996461             DES             0.301569              0   \n",
              "2            75.044262             DES             0.739164              2   \n",
              "3           601.248835             DES             0.123267              0   \n",
              "4           532.540888             AES             0.054874              1   \n",
              "...                ...             ...                  ...            ...   \n",
              "9532        226.049889             AES             0.517737              3   \n",
              "9533        182.848475             NaN             0.408485              0   \n",
              "9534         35.170248             AES             0.359200              1   \n",
              "9535         86.664703             AES             0.537417              1   \n",
              "9536         86.876744             NaN             0.277069              4   \n",
              "\n",
              "     browser_type  unusual_time_access  attack_detected  \n",
              "0            Edge                    0                1  \n",
              "1         Firefox                    0                0  \n",
              "2          Chrome                    0                1  \n",
              "3         Unknown                    0                1  \n",
              "4         Firefox                    0                0  \n",
              "...           ...                  ...              ...  \n",
              "9532       Chrome                    0                1  \n",
              "9533       Chrome                    0                0  \n",
              "9534      Firefox                    0                0  \n",
              "9535       Chrome                    1                0  \n",
              "9536       Chrome                    1                1  \n",
              "\n",
              "[9537 rows x 11 columns]"
            ]
          },
          "execution_count": 5,
          "metadata": {},
          "output_type": "execute_result"
        }
      ],
      "source": [
        "df = pd.read_csv('data/raw/cybersecurity_intrusion_data.csv')\n",
        "df"
      ]
    },
    {
      "cell_type": "markdown",
      "metadata": {},
      "source": [
        "## Feature Description\n",
        "Description of the features were provided with the dataset on [kaggle](https://www.kaggle.com/datasets/dnkumars/cybersecurity-intrusion-detection-dataset). Below is a brief summary of each feature:"
      ]
    },
    {
      "cell_type": "markdown",
      "metadata": {},
      "source": [
        "| **Feature Name**          | **Category**              | **Description** |\n",
        "|-----------------------------|----------------------------|-----------------|\n",
        "| `network_packet_size`       | Network-Based             | Represents the size of network packets (64–1500 bytes). Small packets (~64 bytes) may be control messages; large packets (~1500 bytes) carry bulk data. Abnormally small or large packets can indicate reconnaissance or exploitation. |\n",
        "| `protocol_type`             | Network-Based             | Communication protocol used in the session: **TCP** (reliable, common for HTTP/HTTPS/SSH), **UDP** (fast, less reliable, used in VoIP/streaming), or **ICMP** (network diagnostics, often abused in DoS attacks). |\n",
        "| `encryption_used`           | Network-Based             | Encryption protocol: **AES** (strong), **DES** (weak, outdated), or **None** (unencrypted). Attackers might avoid encryption or use weak ones to exploit vulnerabilities. |\n",
        "| `login_attempts`            | User Behavior-Based       | Number of login attempts. Typical users: 1–3. High values may indicate brute-force attacks with hundreds or thousands of attempts. |\n",
        "| `session_duration`          | User Behavior-Based       | Session length in seconds. Very long sessions may indicate unauthorized access or an attacker maintaining persistence. |\n",
        "| `failed_logins`             | User Behavior-Based       | Number of failed login attempts. High values suggest credential stuffing or dictionary attacks. A pattern of many failed attempts followed by a success could indicate compromise. |\n",
        "| `unusual_time_access`       | User Behavior-Based       | Binary flag (0 or 1) indicating login at an unusual time. Attackers often access systems outside normal business hours to evade detection. |\n",
        "| `ip_reputation_score`       | User Behavior-Based       | A score (0–1) representing IP trustworthiness. Higher scores indicate more suspicious activity (e.g., botnets, spam, or prior attacks). |\n",
        "| `browser_type`              | User Behavior-Based       | User’s browser (Chrome, Firefox, Edge, Safari, etc.). Unknown browsers could indicate bots or automated scripts. |\n",
        "| `attack_detected`           | **Target Variable**       | Binary classification target: **1** = attack detected, **0** = normal activity. |\n",
        "\n"
      ]
    },
    {
      "cell_type": "markdown",
      "metadata": {
        "id": "ZY3l0-AxO93d"
      },
      "source": [
        "---"
      ]
    },
    {
      "cell_type": "markdown",
      "metadata": {
        "id": "uFQo3ycuO-v6"
      },
      "source": [
        "# Data Cleaning\n",
        "The dataset will be cleaned to handle any missing values, duplicated entries and other inconsistencies."
      ]
    },
    {
      "cell_type": "code",
      "execution_count": 6,
      "metadata": {},
      "outputs": [
        {
          "name": "stdout",
          "output_type": "stream",
          "text": [
            "<class 'pandas.core.frame.DataFrame'>\n",
            "RangeIndex: 9537 entries, 0 to 9536\n",
            "Data columns (total 11 columns):\n",
            " #   Column               Non-Null Count  Dtype  \n",
            "---  ------               --------------  -----  \n",
            " 0   session_id           9537 non-null   object \n",
            " 1   network_packet_size  9537 non-null   int64  \n",
            " 2   protocol_type        9537 non-null   object \n",
            " 3   login_attempts       9537 non-null   int64  \n",
            " 4   session_duration     9537 non-null   float64\n",
            " 5   encryption_used      7571 non-null   object \n",
            " 6   ip_reputation_score  9537 non-null   float64\n",
            " 7   failed_logins        9537 non-null   int64  \n",
            " 8   browser_type         9537 non-null   object \n",
            " 9   unusual_time_access  9537 non-null   int64  \n",
            " 10  attack_detected      9537 non-null   int64  \n",
            "dtypes: float64(2), int64(5), object(4)\n",
            "memory usage: 819.7+ KB\n"
          ]
        }
      ],
      "source": [
        "df.info()"
      ]
    },
    {
      "cell_type": "markdown",
      "metadata": {},
      "source": [
        "## Handling Missing Values and Duplicates"
      ]
    },
    {
      "cell_type": "code",
      "execution_count": 7,
      "metadata": {},
      "outputs": [
        {
          "data": {
            "text/plain": [
              "session_id                0\n",
              "network_packet_size       0\n",
              "protocol_type             0\n",
              "login_attempts            0\n",
              "session_duration          0\n",
              "encryption_used        1966\n",
              "ip_reputation_score       0\n",
              "failed_logins             0\n",
              "browser_type              0\n",
              "unusual_time_access       0\n",
              "attack_detected           0\n",
              "dtype: int64"
            ]
          },
          "execution_count": 7,
          "metadata": {},
          "output_type": "execute_result"
        }
      ],
      "source": [
        "df.isna().sum()"
      ]
    },
    {
      "cell_type": "code",
      "execution_count": 8,
      "metadata": {},
      "outputs": [
        {
          "data": {
            "text/html": [
              "<div>\n",
              "<style scoped>\n",
              "    .dataframe tbody tr th:only-of-type {\n",
              "        vertical-align: middle;\n",
              "    }\n",
              "\n",
              "    .dataframe tbody tr th {\n",
              "        vertical-align: top;\n",
              "    }\n",
              "\n",
              "    .dataframe thead th {\n",
              "        text-align: right;\n",
              "    }\n",
              "</style>\n",
              "<table border=\"1\" class=\"dataframe\">\n",
              "  <thead>\n",
              "    <tr style=\"text-align: right;\">\n",
              "      <th></th>\n",
              "      <th>encryption_used</th>\n",
              "      <th>count</th>\n",
              "    </tr>\n",
              "  </thead>\n",
              "  <tbody>\n",
              "    <tr>\n",
              "      <th>0</th>\n",
              "      <td>AES</td>\n",
              "      <td>4706</td>\n",
              "    </tr>\n",
              "    <tr>\n",
              "      <th>1</th>\n",
              "      <td>DES</td>\n",
              "      <td>2865</td>\n",
              "    </tr>\n",
              "    <tr>\n",
              "      <th>2</th>\n",
              "      <td>NaN</td>\n",
              "      <td>1966</td>\n",
              "    </tr>\n",
              "  </tbody>\n",
              "</table>\n",
              "</div>"
            ],
            "text/plain": [
              "  encryption_used  count\n",
              "0             AES   4706\n",
              "1             DES   2865\n",
              "2             NaN   1966"
            ]
          },
          "execution_count": 8,
          "metadata": {},
          "output_type": "execute_result"
        }
      ],
      "source": [
        "e_used_unique_counts = df['encryption_used'].value_counts(dropna=False).reset_index()\n",
        "e_used_unique_counts"
      ]
    },
    {
      "cell_type": "code",
      "execution_count": 9,
      "metadata": {},
      "outputs": [],
      "source": [
        "df['encryption_used'] = df['encryption_used'].fillna('No encryption')"
      ]
    },
    {
      "cell_type": "code",
      "execution_count": 10,
      "metadata": {},
      "outputs": [
        {
          "data": {
            "text/plain": [
              "session_id             0\n",
              "network_packet_size    0\n",
              "protocol_type          0\n",
              "login_attempts         0\n",
              "session_duration       0\n",
              "encryption_used        0\n",
              "ip_reputation_score    0\n",
              "failed_logins          0\n",
              "browser_type           0\n",
              "unusual_time_access    0\n",
              "attack_detected        0\n",
              "dtype: int64"
            ]
          },
          "execution_count": 10,
          "metadata": {},
          "output_type": "execute_result"
        }
      ],
      "source": [
        "df.isna().sum()"
      ]
    },
    {
      "cell_type": "code",
      "execution_count": 11,
      "metadata": {},
      "outputs": [
        {
          "data": {
            "text/plain": [
              "0"
            ]
          },
          "execution_count": 11,
          "metadata": {},
          "output_type": "execute_result"
        }
      ],
      "source": [
        "df.duplicated().sum()"
      ]
    },
    {
      "cell_type": "markdown",
      "metadata": {},
      "source": [
        "## Checking for Data Inconsistencies"
      ]
    },
    {
      "cell_type": "code",
      "execution_count": 12,
      "metadata": {},
      "outputs": [
        {
          "data": {
            "text/html": [
              "<div>\n",
              "<style scoped>\n",
              "    .dataframe tbody tr th:only-of-type {\n",
              "        vertical-align: middle;\n",
              "    }\n",
              "\n",
              "    .dataframe tbody tr th {\n",
              "        vertical-align: top;\n",
              "    }\n",
              "\n",
              "    .dataframe thead th {\n",
              "        text-align: right;\n",
              "    }\n",
              "</style>\n",
              "<table border=\"1\" class=\"dataframe\">\n",
              "  <thead>\n",
              "    <tr style=\"text-align: right;\">\n",
              "      <th></th>\n",
              "      <th>network_packet_size</th>\n",
              "      <th>login_attempts</th>\n",
              "      <th>session_duration</th>\n",
              "      <th>ip_reputation_score</th>\n",
              "      <th>failed_logins</th>\n",
              "      <th>unusual_time_access</th>\n",
              "      <th>attack_detected</th>\n",
              "    </tr>\n",
              "  </thead>\n",
              "  <tbody>\n",
              "    <tr>\n",
              "      <th>count</th>\n",
              "      <td>9537.000000</td>\n",
              "      <td>9537.000000</td>\n",
              "      <td>9537.000000</td>\n",
              "      <td>9537.000000</td>\n",
              "      <td>9537.000000</td>\n",
              "      <td>9537.000000</td>\n",
              "      <td>9537.000000</td>\n",
              "    </tr>\n",
              "    <tr>\n",
              "      <th>mean</th>\n",
              "      <td>500.430639</td>\n",
              "      <td>4.032086</td>\n",
              "      <td>792.745312</td>\n",
              "      <td>0.331338</td>\n",
              "      <td>1.517773</td>\n",
              "      <td>0.149942</td>\n",
              "      <td>0.447101</td>\n",
              "    </tr>\n",
              "    <tr>\n",
              "      <th>std</th>\n",
              "      <td>198.379364</td>\n",
              "      <td>1.963012</td>\n",
              "      <td>786.560144</td>\n",
              "      <td>0.177175</td>\n",
              "      <td>1.033988</td>\n",
              "      <td>0.357034</td>\n",
              "      <td>0.497220</td>\n",
              "    </tr>\n",
              "    <tr>\n",
              "      <th>min</th>\n",
              "      <td>64.000000</td>\n",
              "      <td>1.000000</td>\n",
              "      <td>0.500000</td>\n",
              "      <td>0.002497</td>\n",
              "      <td>0.000000</td>\n",
              "      <td>0.000000</td>\n",
              "      <td>0.000000</td>\n",
              "    </tr>\n",
              "    <tr>\n",
              "      <th>25%</th>\n",
              "      <td>365.000000</td>\n",
              "      <td>3.000000</td>\n",
              "      <td>231.953006</td>\n",
              "      <td>0.191946</td>\n",
              "      <td>1.000000</td>\n",
              "      <td>0.000000</td>\n",
              "      <td>0.000000</td>\n",
              "    </tr>\n",
              "    <tr>\n",
              "      <th>50%</th>\n",
              "      <td>499.000000</td>\n",
              "      <td>4.000000</td>\n",
              "      <td>556.277457</td>\n",
              "      <td>0.314778</td>\n",
              "      <td>1.000000</td>\n",
              "      <td>0.000000</td>\n",
              "      <td>0.000000</td>\n",
              "    </tr>\n",
              "    <tr>\n",
              "      <th>75%</th>\n",
              "      <td>635.000000</td>\n",
              "      <td>5.000000</td>\n",
              "      <td>1105.380602</td>\n",
              "      <td>0.453388</td>\n",
              "      <td>2.000000</td>\n",
              "      <td>0.000000</td>\n",
              "      <td>1.000000</td>\n",
              "    </tr>\n",
              "    <tr>\n",
              "      <th>max</th>\n",
              "      <td>1285.000000</td>\n",
              "      <td>13.000000</td>\n",
              "      <td>7190.392213</td>\n",
              "      <td>0.924299</td>\n",
              "      <td>5.000000</td>\n",
              "      <td>1.000000</td>\n",
              "      <td>1.000000</td>\n",
              "    </tr>\n",
              "  </tbody>\n",
              "</table>\n",
              "</div>"
            ],
            "text/plain": [
              "       network_packet_size  login_attempts  session_duration  \\\n",
              "count          9537.000000     9537.000000       9537.000000   \n",
              "mean            500.430639        4.032086        792.745312   \n",
              "std             198.379364        1.963012        786.560144   \n",
              "min              64.000000        1.000000          0.500000   \n",
              "25%             365.000000        3.000000        231.953006   \n",
              "50%             499.000000        4.000000        556.277457   \n",
              "75%             635.000000        5.000000       1105.380602   \n",
              "max            1285.000000       13.000000       7190.392213   \n",
              "\n",
              "       ip_reputation_score  failed_logins  unusual_time_access  \\\n",
              "count          9537.000000    9537.000000          9537.000000   \n",
              "mean              0.331338       1.517773             0.149942   \n",
              "std               0.177175       1.033988             0.357034   \n",
              "min               0.002497       0.000000             0.000000   \n",
              "25%               0.191946       1.000000             0.000000   \n",
              "50%               0.314778       1.000000             0.000000   \n",
              "75%               0.453388       2.000000             0.000000   \n",
              "max               0.924299       5.000000             1.000000   \n",
              "\n",
              "       attack_detected  \n",
              "count      9537.000000  \n",
              "mean          0.447101  \n",
              "std           0.497220  \n",
              "min           0.000000  \n",
              "25%           0.000000  \n",
              "50%           0.000000  \n",
              "75%           1.000000  \n",
              "max           1.000000  "
            ]
          },
          "execution_count": 12,
          "metadata": {},
          "output_type": "execute_result"
        }
      ],
      "source": [
        "df.describe()"
      ]
    },
    {
      "cell_type": "code",
      "execution_count": 13,
      "metadata": {},
      "outputs": [
        {
          "data": {
            "text/plain": [
              "9537"
            ]
          },
          "execution_count": 13,
          "metadata": {},
          "output_type": "execute_result"
        }
      ],
      "source": [
        "df['session_id'].nunique()"
      ]
    },
    {
      "cell_type": "code",
      "execution_count": 14,
      "metadata": {},
      "outputs": [
        {
          "name": "stdout",
          "output_type": "stream",
          "text": [
            "protocol_type\n",
            "TCP     6624\n",
            "UDP     2406\n",
            "ICMP     507\n",
            "Name: count, dtype: int64\n",
            "\n",
            "\n",
            "encryption_used\n",
            "AES              4706\n",
            "DES              2865\n",
            "No encryption    1966\n",
            "Name: count, dtype: int64\n",
            "\n",
            "\n",
            "browser_type\n",
            "Chrome     5137\n",
            "Firefox    1944\n",
            "Edge       1469\n",
            "Unknown     502\n",
            "Safari      485\n",
            "Name: count, dtype: int64\n",
            "\n",
            "\n"
          ]
        }
      ],
      "source": [
        "for col in ['protocol_type','encryption_used','browser_type']:\n",
        "    print(df[col].value_counts())\n",
        "    print(\"\\n\")"
      ]
    },
    {
      "cell_type": "code",
      "execution_count": 15,
      "metadata": {},
      "outputs": [
        {
          "name": "stdout",
          "output_type": "stream",
          "text": [
            "unusual_time_access\n",
            "0    8107\n",
            "1    1430\n",
            "Name: count, dtype: int64\n",
            "\n",
            "\n",
            "attack_detected\n",
            "0    5273\n",
            "1    4264\n",
            "Name: count, dtype: int64\n",
            "\n",
            "\n"
          ]
        }
      ],
      "source": [
        "for col in ['unusual_time_access', 'attack_detected']:\n",
        "    print(df[col].value_counts())\n",
        "    print(\"\\n\")"
      ]
    },
    {
      "cell_type": "code",
      "execution_count": 16,
      "metadata": {},
      "outputs": [
        {
          "data": {
            "text/html": [
              "<div>\n",
              "<style scoped>\n",
              "    .dataframe tbody tr th:only-of-type {\n",
              "        vertical-align: middle;\n",
              "    }\n",
              "\n",
              "    .dataframe tbody tr th {\n",
              "        vertical-align: top;\n",
              "    }\n",
              "\n",
              "    .dataframe thead th {\n",
              "        text-align: right;\n",
              "    }\n",
              "</style>\n",
              "<table border=\"1\" class=\"dataframe\">\n",
              "  <thead>\n",
              "    <tr style=\"text-align: right;\">\n",
              "      <th></th>\n",
              "      <th>session_id</th>\n",
              "      <th>network_packet_size</th>\n",
              "      <th>protocol_type</th>\n",
              "      <th>login_attempts</th>\n",
              "      <th>session_duration</th>\n",
              "      <th>encryption_used</th>\n",
              "      <th>ip_reputation_score</th>\n",
              "      <th>failed_logins</th>\n",
              "      <th>browser_type</th>\n",
              "      <th>unusual_time_access</th>\n",
              "      <th>attack_detected</th>\n",
              "    </tr>\n",
              "  </thead>\n",
              "  <tbody>\n",
              "    <tr>\n",
              "      <th>7</th>\n",
              "      <td>SID_00008</td>\n",
              "      <td>653</td>\n",
              "      <td>TCP</td>\n",
              "      <td>3</td>\n",
              "      <td>12.599906</td>\n",
              "      <td>DES</td>\n",
              "      <td>0.097719</td>\n",
              "      <td>3</td>\n",
              "      <td>Chrome</td>\n",
              "      <td>1</td>\n",
              "      <td>1</td>\n",
              "    </tr>\n",
              "    <tr>\n",
              "      <th>12</th>\n",
              "      <td>SID_00013</td>\n",
              "      <td>548</td>\n",
              "      <td>TCP</td>\n",
              "      <td>2</td>\n",
              "      <td>186.147638</td>\n",
              "      <td>No encryption</td>\n",
              "      <td>0.406899</td>\n",
              "      <td>2</td>\n",
              "      <td>Safari</td>\n",
              "      <td>1</td>\n",
              "      <td>0</td>\n",
              "    </tr>\n",
              "    <tr>\n",
              "      <th>14</th>\n",
              "      <td>SID_00015</td>\n",
              "      <td>155</td>\n",
              "      <td>TCP</td>\n",
              "      <td>3</td>\n",
              "      <td>77.849952</td>\n",
              "      <td>No encryption</td>\n",
              "      <td>0.352476</td>\n",
              "      <td>3</td>\n",
              "      <td>Chrome</td>\n",
              "      <td>0</td>\n",
              "      <td>1</td>\n",
              "    </tr>\n",
              "    <tr>\n",
              "      <th>17</th>\n",
              "      <td>SID_00018</td>\n",
              "      <td>562</td>\n",
              "      <td>UDP</td>\n",
              "      <td>1</td>\n",
              "      <td>87.641002</td>\n",
              "      <td>No encryption</td>\n",
              "      <td>0.136729</td>\n",
              "      <td>2</td>\n",
              "      <td>Firefox</td>\n",
              "      <td>0</td>\n",
              "      <td>0</td>\n",
              "    </tr>\n",
              "    <tr>\n",
              "      <th>21</th>\n",
              "      <td>SID_00022</td>\n",
              "      <td>454</td>\n",
              "      <td>TCP</td>\n",
              "      <td>1</td>\n",
              "      <td>299.711548</td>\n",
              "      <td>No encryption</td>\n",
              "      <td>0.373875</td>\n",
              "      <td>1</td>\n",
              "      <td>Chrome</td>\n",
              "      <td>0</td>\n",
              "      <td>0</td>\n",
              "    </tr>\n",
              "    <tr>\n",
              "      <th>...</th>\n",
              "      <td>...</td>\n",
              "      <td>...</td>\n",
              "      <td>...</td>\n",
              "      <td>...</td>\n",
              "      <td>...</td>\n",
              "      <td>...</td>\n",
              "      <td>...</td>\n",
              "      <td>...</td>\n",
              "      <td>...</td>\n",
              "      <td>...</td>\n",
              "      <td>...</td>\n",
              "    </tr>\n",
              "    <tr>\n",
              "      <th>9500</th>\n",
              "      <td>SID_09501</td>\n",
              "      <td>446</td>\n",
              "      <td>TCP</td>\n",
              "      <td>1</td>\n",
              "      <td>823.408520</td>\n",
              "      <td>DES</td>\n",
              "      <td>0.661118</td>\n",
              "      <td>3</td>\n",
              "      <td>Edge</td>\n",
              "      <td>0</td>\n",
              "      <td>1</td>\n",
              "    </tr>\n",
              "    <tr>\n",
              "      <th>9506</th>\n",
              "      <td>SID_09507</td>\n",
              "      <td>475</td>\n",
              "      <td>UDP</td>\n",
              "      <td>1</td>\n",
              "      <td>25.957496</td>\n",
              "      <td>AES</td>\n",
              "      <td>0.528800</td>\n",
              "      <td>1</td>\n",
              "      <td>Firefox</td>\n",
              "      <td>0</td>\n",
              "      <td>1</td>\n",
              "    </tr>\n",
              "    <tr>\n",
              "      <th>9509</th>\n",
              "      <td>SID_09510</td>\n",
              "      <td>665</td>\n",
              "      <td>TCP</td>\n",
              "      <td>3</td>\n",
              "      <td>530.626417</td>\n",
              "      <td>No encryption</td>\n",
              "      <td>0.321948</td>\n",
              "      <td>3</td>\n",
              "      <td>Chrome</td>\n",
              "      <td>0</td>\n",
              "      <td>1</td>\n",
              "    </tr>\n",
              "    <tr>\n",
              "      <th>9524</th>\n",
              "      <td>SID_09525</td>\n",
              "      <td>315</td>\n",
              "      <td>UDP</td>\n",
              "      <td>3</td>\n",
              "      <td>1339.802736</td>\n",
              "      <td>DES</td>\n",
              "      <td>0.435285</td>\n",
              "      <td>3</td>\n",
              "      <td>Safari</td>\n",
              "      <td>0</td>\n",
              "      <td>1</td>\n",
              "    </tr>\n",
              "    <tr>\n",
              "      <th>9532</th>\n",
              "      <td>SID_09533</td>\n",
              "      <td>194</td>\n",
              "      <td>ICMP</td>\n",
              "      <td>3</td>\n",
              "      <td>226.049889</td>\n",
              "      <td>AES</td>\n",
              "      <td>0.517737</td>\n",
              "      <td>3</td>\n",
              "      <td>Chrome</td>\n",
              "      <td>0</td>\n",
              "      <td>1</td>\n",
              "    </tr>\n",
              "  </tbody>\n",
              "</table>\n",
              "<p>1766 rows × 11 columns</p>\n",
              "</div>"
            ],
            "text/plain": [
              "     session_id  network_packet_size protocol_type  login_attempts  \\\n",
              "7     SID_00008                  653           TCP               3   \n",
              "12    SID_00013                  548           TCP               2   \n",
              "14    SID_00015                  155           TCP               3   \n",
              "17    SID_00018                  562           UDP               1   \n",
              "21    SID_00022                  454           TCP               1   \n",
              "...         ...                  ...           ...             ...   \n",
              "9500  SID_09501                  446           TCP               1   \n",
              "9506  SID_09507                  475           UDP               1   \n",
              "9509  SID_09510                  665           TCP               3   \n",
              "9524  SID_09525                  315           UDP               3   \n",
              "9532  SID_09533                  194          ICMP               3   \n",
              "\n",
              "      session_duration encryption_used  ip_reputation_score  failed_logins  \\\n",
              "7            12.599906             DES             0.097719              3   \n",
              "12          186.147638   No encryption             0.406899              2   \n",
              "14           77.849952   No encryption             0.352476              3   \n",
              "17           87.641002   No encryption             0.136729              2   \n",
              "21          299.711548   No encryption             0.373875              1   \n",
              "...                ...             ...                  ...            ...   \n",
              "9500        823.408520             DES             0.661118              3   \n",
              "9506         25.957496             AES             0.528800              1   \n",
              "9509        530.626417   No encryption             0.321948              3   \n",
              "9524       1339.802736             DES             0.435285              3   \n",
              "9532        226.049889             AES             0.517737              3   \n",
              "\n",
              "     browser_type  unusual_time_access  attack_detected  \n",
              "7          Chrome                    1                1  \n",
              "12         Safari                    1                0  \n",
              "14         Chrome                    0                1  \n",
              "17        Firefox                    0                0  \n",
              "21         Chrome                    0                0  \n",
              "...           ...                  ...              ...  \n",
              "9500         Edge                    0                1  \n",
              "9506      Firefox                    0                1  \n",
              "9509       Chrome                    0                1  \n",
              "9524       Safari                    0                1  \n",
              "9532       Chrome                    0                1  \n",
              "\n",
              "[1766 rows x 11 columns]"
            ]
          },
          "execution_count": 16,
          "metadata": {},
          "output_type": "execute_result"
        }
      ],
      "source": [
        "df[df['login_attempts'] <= df['failed_logins']]"
      ]
    },
    {
      "cell_type": "code",
      "execution_count": 17,
      "metadata": {},
      "outputs": [
        {
          "data": {
            "text/plain": [
              "(0, 11)"
            ]
          },
          "execution_count": 17,
          "metadata": {},
          "output_type": "execute_result"
        }
      ],
      "source": [
        "df.loc[df[\"login_attempts\"] <= df[\"failed_logins\"], \"login_attempts\"] = (\n",
        "    df[\"login_attempts\"] + df[\"failed_logins\"]\n",
        ")\n",
        "df[df['login_attempts'] <= df['failed_logins']].shape"
      ]
    },
    {
      "cell_type": "markdown",
      "metadata": {},
      "source": [
        "---"
      ]
    },
    {
      "cell_type": "markdown",
      "metadata": {},
      "source": [
        "# Saving Cleaned Data"
      ]
    },
    {
      "cell_type": "code",
      "execution_count": 18,
      "metadata": {},
      "outputs": [],
      "source": [
        "df.to_csv('data/processed/cybersecurity_intrusion_data_cleaned.csv', index=False)"
      ]
    },
    {
      "cell_type": "markdown",
      "metadata": {},
      "source": [
        "---"
      ]
    },
    {
      "cell_type": "markdown",
      "metadata": {
        "id": "ltNetd085qHf"
      },
      "source": [
        "# Push files to Repo"
      ]
    },
    {
      "cell_type": "markdown",
      "metadata": {},
      "source": [
        "* In cases where you don't need to push files to Repo, you may replace this section with \"Conclusions and Next Steps\" and state your conclusions and next steps."
      ]
    }
  ],
  "metadata": {
    "accelerator": "GPU",
    "colab": {
      "name": "Data Practitioner Jupyter Notebook.ipynb",
      "provenance": [],
      "toc_visible": true
    },
    "kernelspec": {
      "display_name": ".venv (3.12.8)",
      "language": "python",
      "name": "python3"
    },
    "language_info": {
      "codemirror_mode": {
        "name": "ipython",
        "version": 3
      },
      "file_extension": ".py",
      "mimetype": "text/x-python",
      "name": "python",
      "nbconvert_exporter": "python",
      "pygments_lexer": "ipython3",
      "version": "3.12.8"
    },
    "orig_nbformat": 2
  },
  "nbformat": 4,
  "nbformat_minor": 2
}
