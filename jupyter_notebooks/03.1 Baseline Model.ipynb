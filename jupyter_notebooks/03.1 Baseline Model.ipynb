{
  "cells": [
    {
      "cell_type": "markdown",
      "metadata": {},
      "source": [
        "# **03 Baseline Model**\n"
      ]
    },
    {
      "cell_type": "markdown",
      "metadata": {},
      "source": [
        "## Objectives\n",
        "\n",
        "* Build a reproducible baseline machine learning pipeline using logistic regression for the intrusion detection dataset.\n",
        "\n",
        "## Inputs\n",
        "\n",
        "* `data/raw/cybersecurity_intrusion_data.csv`\n",
        "\n",
        "## Outputs\n",
        "\n",
        "* Baseline performance metrics printed within the notebook.\n",
        "* A fitted scikit-learn pipeline ready for downstream experimentation.\n",
        "\n",
        "## Additional Comments\n",
        "\n",
        "* The notebook adopts the shared template structure to stay consistent with the rest of the project.\n"
      ]
    },
    {
      "cell_type": "markdown",
      "metadata": {},
      "source": [
        "---\n"
      ]
    },
    {
      "cell_type": "markdown",
      "metadata": {},
      "source": [
        "# Change working directory\n"
      ]
    },
    {
      "cell_type": "markdown",
      "metadata": {},
      "source": [
        "* These notebooks live in the `jupyter_notebooks` subfolder, so the project root is one level up.\n",
        "* Capture the current directory so we can move to the repository root before referencing project-relative paths.\n"
      ]
    },
    {
      "cell_type": "code",
      "execution_count": 1,
      "metadata": {},
      "outputs": [
        {
          "data": {
            "text/plain": [
              "'c:\\\\Users\\\\marka\\\\OneDrive\\\\Desktop\\\\Cyber\\\\jupyter_notebooks'"
            ]
          },
          "execution_count": 1,
          "metadata": {},
          "output_type": "execute_result"
        }
      ],
      "source": [
        "import os\n",
        "current_dir = os.getcwd()\n",
        "current_dir"
      ]
    },
    {
      "cell_type": "markdown",
      "metadata": {},
      "source": [
        "* Set the working directory to the project root so relative paths in the remaining cells resolve correctly.\n"
      ]
    },
    {
      "cell_type": "code",
      "execution_count": 2,
      "metadata": {},
      "outputs": [
        {
          "name": "stdout",
          "output_type": "stream",
          "text": [
            "You set a new current directory: c:\\Users\\marka\\OneDrive\\Desktop\\Cyber\n"
          ]
        }
      ],
      "source": [
        "os.chdir(os.path.dirname(current_dir))\n",
        "print(f\"You set a new current directory: {os.getcwd()}\")"
      ]
    },
    {
      "cell_type": "markdown",
      "metadata": {},
      "source": [
        "* Double-check the update before continuing.\n"
      ]
    },
    {
      "cell_type": "code",
      "execution_count": 3,
      "metadata": {},
      "outputs": [
        {
          "data": {
            "text/plain": [
              "'c:\\\\Users\\\\marka\\\\OneDrive\\\\Desktop\\\\Cyber'"
            ]
          },
          "execution_count": 3,
          "metadata": {},
          "output_type": "execute_result"
        }
      ],
      "source": [
        "current_dir = os.getcwd()\n",
        "current_dir"
      ]
    },
    {
      "cell_type": "markdown",
      "metadata": {},
      "source": [
        "---\n"
      ]
    },
    {
      "cell_type": "markdown",
      "metadata": {},
      "source": [
        "# Data Loading\n",
        "* Load the intrusion detection dataset and perform a quick sanity check on its structure.\n"
      ]
    },
    {
      "cell_type": "code",
      "execution_count": 4,
      "metadata": {},
      "outputs": [
        {
          "name": "stdout",
          "output_type": "stream",
          "text": [
            "Dataset shape: (8807, 15)\n"
          ]
        },
        {
          "data": {
            "application/vnd.microsoft.datawrangler.viewer.v0+json": {
              "columns": [
                {
                  "name": "index",
                  "rawType": "int64",
                  "type": "integer"
                },
                {
                  "name": "session_id",
                  "rawType": "object",
                  "type": "string"
                },
                {
                  "name": "network_packet_size",
                  "rawType": "int64",
                  "type": "integer"
                },
                {
                  "name": "protocol_type",
                  "rawType": "object",
                  "type": "string"
                },
                {
                  "name": "login_attempts",
                  "rawType": "int64",
                  "type": "integer"
                },
                {
                  "name": "session_duration",
                  "rawType": "float64",
                  "type": "float"
                },
                {
                  "name": "encryption_used",
                  "rawType": "object",
                  "type": "string"
                },
                {
                  "name": "ip_reputation_score",
                  "rawType": "float64",
                  "type": "float"
                },
                {
                  "name": "failed_logins",
                  "rawType": "int64",
                  "type": "integer"
                },
                {
                  "name": "browser_type",
                  "rawType": "object",
                  "type": "string"
                },
                {
                  "name": "unusual_time_access",
                  "rawType": "int64",
                  "type": "integer"
                },
                {
                  "name": "attack_detected",
                  "rawType": "int64",
                  "type": "integer"
                },
                {
                  "name": "session_duration_log",
                  "rawType": "float64",
                  "type": "float"
                },
                {
                  "name": "ip_reputation_score_log",
                  "rawType": "float64",
                  "type": "float"
                },
                {
                  "name": "network_packet_size_is64",
                  "rawType": "bool",
                  "type": "boolean"
                },
                {
                  "name": "fail_ratio",
                  "rawType": "float64",
                  "type": "float"
                }
              ],
              "ref": "d698cc3f-4bf7-4ac6-bcc2-736a8df89b21",
              "rows": [
                [
                  "0",
                  "SID_00001",
                  "599",
                  "TCP",
                  "4",
                  "492.9832634426563",
                  "DES",
                  "0.606818080396889",
                  "1",
                  "Edge",
                  "0",
                  "1",
                  "6.202501636943257",
                  "0.4742558758649303",
                  "False",
                  "0.25"
                ],
                [
                  "1",
                  "SID_00002",
                  "472",
                  "TCP",
                  "3",
                  "1557.9964611204384",
                  "DES",
                  "0.3015689675960893",
                  "0",
                  "Firefox",
                  "0",
                  "0",
                  "7.351797599087553",
                  "0.2635704349022164",
                  "False",
                  "0.0"
                ],
                [
                  "2",
                  "SID_00003",
                  "629",
                  "TCP",
                  "3",
                  "75.04426166420741",
                  "DES",
                  "0.7391643279163831",
                  "2",
                  "Chrome",
                  "0",
                  "1",
                  "4.331315561081424",
                  "0.5534047265468075",
                  "False",
                  "0.6666666666666666"
                ],
                [
                  "3",
                  "SID_00004",
                  "804",
                  "UDP",
                  "4",
                  "601.2488351708328",
                  "DES",
                  "0.1232671757524846",
                  "0",
                  "Unknown",
                  "0",
                  "1",
                  "6.4006707073641484",
                  "0.1162415599729554",
                  "False",
                  "0.0"
                ],
                [
                  "4",
                  "SID_00005",
                  "453",
                  "TCP",
                  "5",
                  "532.5408884201419",
                  "AES",
                  "0.0548738567431703",
                  "1",
                  "Firefox",
                  "0",
                  "0",
                  "6.279535709642165",
                  "0.053421192711233",
                  "False",
                  "0.2"
                ]
              ],
              "shape": {
                "columns": 15,
                "rows": 5
              }
            },
            "text/html": [
              "<div>\n",
              "<style scoped>\n",
              "    .dataframe tbody tr th:only-of-type {\n",
              "        vertical-align: middle;\n",
              "    }\n",
              "\n",
              "    .dataframe tbody tr th {\n",
              "        vertical-align: top;\n",
              "    }\n",
              "\n",
              "    .dataframe thead th {\n",
              "        text-align: right;\n",
              "    }\n",
              "</style>\n",
              "<table border=\"1\" class=\"dataframe\">\n",
              "  <thead>\n",
              "    <tr style=\"text-align: right;\">\n",
              "      <th></th>\n",
              "      <th>session_id</th>\n",
              "      <th>network_packet_size</th>\n",
              "      <th>protocol_type</th>\n",
              "      <th>login_attempts</th>\n",
              "      <th>session_duration</th>\n",
              "      <th>encryption_used</th>\n",
              "      <th>ip_reputation_score</th>\n",
              "      <th>failed_logins</th>\n",
              "      <th>browser_type</th>\n",
              "      <th>unusual_time_access</th>\n",
              "      <th>attack_detected</th>\n",
              "      <th>session_duration_log</th>\n",
              "      <th>ip_reputation_score_log</th>\n",
              "      <th>network_packet_size_is64</th>\n",
              "      <th>fail_ratio</th>\n",
              "    </tr>\n",
              "  </thead>\n",
              "  <tbody>\n",
              "    <tr>\n",
              "      <th>0</th>\n",
              "      <td>SID_00001</td>\n",
              "      <td>599</td>\n",
              "      <td>TCP</td>\n",
              "      <td>4</td>\n",
              "      <td>492.983263</td>\n",
              "      <td>DES</td>\n",
              "      <td>0.606818</td>\n",
              "      <td>1</td>\n",
              "      <td>Edge</td>\n",
              "      <td>0</td>\n",
              "      <td>1</td>\n",
              "      <td>6.202502</td>\n",
              "      <td>0.474256</td>\n",
              "      <td>False</td>\n",
              "      <td>0.250000</td>\n",
              "    </tr>\n",
              "    <tr>\n",
              "      <th>1</th>\n",
              "      <td>SID_00002</td>\n",
              "      <td>472</td>\n",
              "      <td>TCP</td>\n",
              "      <td>3</td>\n",
              "      <td>1557.996461</td>\n",
              "      <td>DES</td>\n",
              "      <td>0.301569</td>\n",
              "      <td>0</td>\n",
              "      <td>Firefox</td>\n",
              "      <td>0</td>\n",
              "      <td>0</td>\n",
              "      <td>7.351798</td>\n",
              "      <td>0.263570</td>\n",
              "      <td>False</td>\n",
              "      <td>0.000000</td>\n",
              "    </tr>\n",
              "    <tr>\n",
              "      <th>2</th>\n",
              "      <td>SID_00003</td>\n",
              "      <td>629</td>\n",
              "      <td>TCP</td>\n",
              "      <td>3</td>\n",
              "      <td>75.044262</td>\n",
              "      <td>DES</td>\n",
              "      <td>0.739164</td>\n",
              "      <td>2</td>\n",
              "      <td>Chrome</td>\n",
              "      <td>0</td>\n",
              "      <td>1</td>\n",
              "      <td>4.331316</td>\n",
              "      <td>0.553405</td>\n",
              "      <td>False</td>\n",
              "      <td>0.666667</td>\n",
              "    </tr>\n",
              "    <tr>\n",
              "      <th>3</th>\n",
              "      <td>SID_00004</td>\n",
              "      <td>804</td>\n",
              "      <td>UDP</td>\n",
              "      <td>4</td>\n",
              "      <td>601.248835</td>\n",
              "      <td>DES</td>\n",
              "      <td>0.123267</td>\n",
              "      <td>0</td>\n",
              "      <td>Unknown</td>\n",
              "      <td>0</td>\n",
              "      <td>1</td>\n",
              "      <td>6.400671</td>\n",
              "      <td>0.116242</td>\n",
              "      <td>False</td>\n",
              "      <td>0.000000</td>\n",
              "    </tr>\n",
              "    <tr>\n",
              "      <th>4</th>\n",
              "      <td>SID_00005</td>\n",
              "      <td>453</td>\n",
              "      <td>TCP</td>\n",
              "      <td>5</td>\n",
              "      <td>532.540888</td>\n",
              "      <td>AES</td>\n",
              "      <td>0.054874</td>\n",
              "      <td>1</td>\n",
              "      <td>Firefox</td>\n",
              "      <td>0</td>\n",
              "      <td>0</td>\n",
              "      <td>6.279536</td>\n",
              "      <td>0.053421</td>\n",
              "      <td>False</td>\n",
              "      <td>0.200000</td>\n",
              "    </tr>\n",
              "  </tbody>\n",
              "</table>\n",
              "</div>"
            ],
            "text/plain": [
              "  session_id  network_packet_size protocol_type  login_attempts  \\\n",
              "0  SID_00001                  599           TCP               4   \n",
              "1  SID_00002                  472           TCP               3   \n",
              "2  SID_00003                  629           TCP               3   \n",
              "3  SID_00004                  804           UDP               4   \n",
              "4  SID_00005                  453           TCP               5   \n",
              "\n",
              "   session_duration encryption_used  ip_reputation_score  failed_logins  \\\n",
              "0        492.983263             DES             0.606818              1   \n",
              "1       1557.996461             DES             0.301569              0   \n",
              "2         75.044262             DES             0.739164              2   \n",
              "3        601.248835             DES             0.123267              0   \n",
              "4        532.540888             AES             0.054874              1   \n",
              "\n",
              "  browser_type  unusual_time_access  attack_detected  session_duration_log  \\\n",
              "0         Edge                    0                1              6.202502   \n",
              "1      Firefox                    0                0              7.351798   \n",
              "2       Chrome                    0                1              4.331316   \n",
              "3      Unknown                    0                1              6.400671   \n",
              "4      Firefox                    0                0              6.279536   \n",
              "\n",
              "   ip_reputation_score_log  network_packet_size_is64  fail_ratio  \n",
              "0                 0.474256                     False    0.250000  \n",
              "1                 0.263570                     False    0.000000  \n",
              "2                 0.553405                     False    0.666667  \n",
              "3                 0.116242                     False    0.000000  \n",
              "4                 0.053421                     False    0.200000  "
            ]
          },
          "execution_count": 4,
          "metadata": {},
          "output_type": "execute_result"
        }
      ],
      "source": [
        "import pandas as pd\n",
        "\n",
        "DATA_PATH = 'data/processed/cybersecurity_intrusion_data_eda.csv'\n",
        "df = pd.read_csv(DATA_PATH)\n",
        "print(f'Dataset shape: {df.shape}')\n",
        "df.head()"
      ]
    },
    {
      "cell_type": "code",
      "execution_count": 9,
      "metadata": {},
      "outputs": [],
      "source": [
        "df.drop(columns=['session_id', 'network_packet_size', 'session_duration', 'ip_reputation_score'], inplace=True)\n"
      ]
    },
    {
      "cell_type": "markdown",
      "metadata": {},
      "source": [
        "# Feature Preparation\n",
        "Remove identifier columns, separate the target, and catalogue numeric versus categorical predictors for preprocessing.\n"
      ]
    },
    {
      "cell_type": "code",
      "execution_count": 11,
      "metadata": {},
      "outputs": [
        {
          "name": "stdout",
          "output_type": "stream",
          "text": [
            "Numeric features: ['login_attempts', 'failed_logins', 'unusual_time_access', 'session_duration_log', 'ip_reputation_score_log', 'fail_ratio']\n",
            "Categorical features: ['protocol_type', 'encryption_used', 'browser_type']\n"
          ]
        }
      ],
      "source": [
        "target_col = 'attack_detected'\n",
        "id_cols = ['session_id']\n",
        "feature_frame = df.drop(columns=[target_col])\n",
        "target = df[target_col]\n",
        "numeric_features = feature_frame.select_dtypes(include=['int64', 'float64']).columns.tolist()\n",
        "categorical_features = feature_frame.select_dtypes(include=['object']).columns.tolist()\n",
        "print('Numeric features:', numeric_features)\n",
        "print('Categorical features:', categorical_features)"
      ]
    },
    {
      "cell_type": "markdown",
      "metadata": {},
      "source": [
        "# Train/Test Split and Pipeline Definition\n",
        "Split the data with stratification to keep class balance and define a preprocessing + logistic regression pipeline."
      ]
    },
    {
      "cell_type": "code",
      "execution_count": 12,
      "metadata": {},
      "outputs": [],
      "source": [
        "from sklearn.model_selection import train_test_split\n",
        "from sklearn.compose import ColumnTransformer\n",
        "from sklearn.preprocessing import OneHotEncoder, StandardScaler\n",
        "from sklearn.linear_model import LogisticRegression\n",
        "from sklearn.pipeline import Pipeline\n",
        "\n",
        "X_train, X_test, y_train, y_test = train_test_split(\n",
        "    feature_frame,\n",
        "    target,\n",
        "    test_size=0.2,\n",
        "    random_state=42,\n",
        "    stratify=target\n",
        ")\n",
        "\n",
        "preprocessor = ColumnTransformer(\n",
        "    transformers=[\n",
        "        ('num', StandardScaler(), numeric_features),\n",
        "        ('cat', OneHotEncoder(handle_unknown='ignore'), categorical_features)\n",
        "    ]\n",
        ")\n",
        "\n",
        "baseline_pipeline = Pipeline(\n",
        "    steps=[\n",
        "        ('preprocessor', preprocessor),\n",
        "        ('classifier', LogisticRegression(max_iter=1000))\n",
        "    ]\n",
        ")"
      ]
    },
    {
      "cell_type": "markdown",
      "metadata": {},
      "source": [
        "# Model Training and Evaluation\n",
        "Fit the pipeline and capture straightforward metrics to benchmark future experiments.\n"
      ]
    },
    {
      "cell_type": "code",
      "execution_count": 13,
      "metadata": {},
      "outputs": [
        {
          "name": "stdout",
          "output_type": "stream",
          "text": [
            "Baseline accuracy: 0.750\n",
            "Classification report:\n",
            "              precision    recall  f1-score   support\n",
            "\n",
            "           0       0.76      0.82      0.79      1012\n",
            "           1       0.73      0.66      0.69       750\n",
            "\n",
            "    accuracy                           0.75      1762\n",
            "   macro avg       0.75      0.74      0.74      1762\n",
            "weighted avg       0.75      0.75      0.75      1762\n",
            "\n"
          ]
        }
      ],
      "source": [
        "from sklearn.metrics import accuracy_score, classification_report\n",
        "\n",
        "baseline_pipeline.fit(X_train, y_train)\n",
        "y_pred = baseline_pipeline.predict(X_test)\n",
        "\n",
        "accuracy = accuracy_score(y_test, y_pred)\n",
        "print(f'Baseline accuracy: {accuracy:.3f}')\n",
        "print('Classification report:')\n",
        "print(classification_report(y_test, y_pred))"
      ]
    },
    {
      "cell_type": "code",
      "execution_count": 14,
      "metadata": {},
      "outputs": [
        {
          "data": {
            "image/png": "[encoded data removed]",
            "text/plain": [
              "<Figure size 640x480 with 2 Axes>"
            ]
          },
          "metadata": {},
          "output_type": "display_data"
        }
      ],
      "source": [
        "# confusion matrix\n",
        "from sklearn.metrics import ConfusionMatrixDisplay\n",
        "ConfusionMatrixDisplay.from_estimator(baseline_pipeline, X_test, y_test)\n",
        "import matplotlib.pyplot as plt\n",
        "plt.show()"
      ]
    },
    {
      "cell_type": "markdown",
      "metadata": {},
      "source": [
        "## The confusion matrix shows:\n",
        "\n",
        "- True negatives: 828\n",
        "- False positives: 184\n",
        "- False negatives: 256\n",
        "- True positives: 494\n",
        "\n",
        "That means the model correctly classified most normal cases but missed some positives (256 false negatives).\n",
        "Precision is decent, but recall for the positive class is lower. can be improved by:\n",
        "- Adjusting the decision threshold\n",
        "- Using class weighting (class_weight='balanced' in LogisticRegression)\n",
        "- Trying models like RandomForest or XGBoost for better recall balance."
      ]
    },
    {
      "cell_type": "code",
      "execution_count": 16,
      "metadata": {},
      "outputs": [
        {
          "data": {
            "image/png": "[encoded data removed]",
            "text/plain": [
              "<Figure size 640x480 with 1 Axes>"
            ]
          },
          "metadata": {},
          "output_type": "display_data"
        }
      ],
      "source": [
        "# ROC AUC curve\n",
        "from sklearn.metrics import RocCurveDisplay\n",
        "RocCurveDisplay.from_estimator(baseline_pipeline, X_test, y_test)\n",
        "# add the random classifier line\n",
        "plt.plot([0, 1], [0, 1], linestyle='--', label='Random Classifier', color='red')\n",
        "plt.legend()\n",
        "plt.show()"
      ]
    },
    {
      "cell_type": "code",
      "execution_count": null,
      "metadata": {},
      "outputs": [],
      "source": [
        "# write the predictions to a csv file\n",
        "output_df = X_test.copy()\n",
        "output_df['true_label'] = y_test\n",
        "output_df['predicted_label'] = baseline_pipeline.predict(X_test)\n",
        "output_df.to_csv('data/processed/cybersecurity_intrusion_predictions.csv', index=False)\n",
        "# can we get a probability score for the predictions?\n",
        "output_df['predicted_proba'] = baseline_pipeline.predict_proba(X_test)[:, 1]\n",
        "output_df.to_csv('data/processed/cybersecurity_intrusion_predictions_with_proba.csv', index=False)\n",
        "print(\"Predictions with probabilities saved to 'data/processed/cybersecurity_intrusion_predictions_with_proba.csv'\")\n",
        "print(\"Predictions saved to 'data/processed/cybersecurity_intrusion_predictions.csv'\")"
      ]
    },
    {
      "cell_type": "markdown",
      "metadata": {},
      "source": [
        "---\n"
      ]
    },
    {
      "cell_type": "markdown",
      "metadata": {},
      "source": [
        "# Conclusions and Next Steps\n",
        "* Logistic regression establishes a baseline accuracy that will anchor future model comparisons.\n",
        "* Consider exploring feature interactions or more expressive models (e.g., tree ensembles) to improve recall for the attack class.\n",
        "* Persist the fitted pipeline to disk once its performance is validated against additional evaluation metrics.\n"
      ]
    }
  ],
  "metadata": {
    "accelerator": "GPU",
    "colab": {
      "name": "Data Practitioner Jupyter Notebook.ipynb",
      "provenance": [],
      "toc_visible": true
    },
    "kernelspec": {
      "display_name": ".venv (3.12.8)",
      "language": "python",
      "name": "python3"
    },
    "language_info": {
      "codemirror_mode": {
        "name": "ipython",
        "version": 3
      },
      "file_extension": ".py",
      "mimetype": "text/x-python",
      "name": "python",
      "nbconvert_exporter": "python",
      "pygments_lexer": "ipython3",
      "version": "3.12.8"
    },
    "orig_nbformat": 2
  },
  "nbformat": 4,
  "nbformat_minor": 2
}
