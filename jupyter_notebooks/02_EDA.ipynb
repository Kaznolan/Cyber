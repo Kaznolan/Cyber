{
  "cells": [
    {
      "cell_type": "markdown",
      "metadata": {
        "id": "0aStgWSO0E0E"
      },
      "source": [
        "# **Exploratory Data Analysis**"
      ]
    },
    {
      "cell_type": "markdown",
      "metadata": {
        "id": "1eLEkw5O0ECa"
      },
      "source": [
        "## Objectives\n",
        "\n",
        "* Write your notebook objective here, for example, \"Fetch data from Kaggle and save as raw data\", or \"engineer features for modelling\"\n",
        "\n",
        "## Inputs\n",
        "\n",
        "* Write down which data or information you need to run the notebook \n",
        "\n",
        "## Outputs\n",
        "\n",
        "* Write here which files, code or artefacts you generate by the end of the notebook \n",
        "\n",
        "## Additional Comments\n",
        "\n",
        "* If you have any additional comments that don't fit in the previous bullets, please state them here. \n",
        "\n"
      ]
    },
    {
      "cell_type": "markdown",
      "metadata": {
        "id": "9uWZXH9LwoQg"
      },
      "source": [
        "---"
      ]
    },
    {
      "cell_type": "markdown",
      "metadata": {
        "id": "cqP-UeN-z3i2"
      },
      "source": [
        "# Change working directory"
      ]
    },
    {
      "cell_type": "markdown",
      "metadata": {},
      "source": [
        "* We are assuming you will store the notebooks in a subfolder, therefore when running the notebook in the editor, you will need to change the working directory"
      ]
    },
    {
      "cell_type": "markdown",
      "metadata": {
        "id": "aOGIGS-uz3i2"
      },
      "source": [
        "We need to change the working directory from its current folder to its parent folder\n",
        "* We access the current directory with os.getcwd()"
      ]
    },
    {
      "cell_type": "code",
      "execution_count": 1,
      "metadata": {
        "id": "wZfF_j-Bz3i4",
        "outputId": "66943449-1436-4c3d-85c7-b85f9f78349b"
      },
      "outputs": [
        {
          "data": {
            "text/plain": [
              "'c:\\\\Code projects\\\\final-hackathon\\\\cybersecurity-intrusion-detection\\\\jupyter_notebooks'"
            ]
          },
          "execution_count": 1,
          "metadata": {},
          "output_type": "execute_result"
        }
      ],
      "source": [
        "import os\n",
        "current_dir = os.getcwd()\n",
        "current_dir"
      ]
    },
    {
      "cell_type": "markdown",
      "metadata": {
        "id": "9MWW8E7lz3i7"
      },
      "source": [
        "We want to make the parent of the current directory the new current directory\n",
        "* os.path.dirname() gets the parent directory\n",
        "* os.chir() defines the new current directory"
      ]
    },
    {
      "cell_type": "code",
      "execution_count": 2,
      "metadata": {
        "id": "TwHsQRWjz3i9",
        "outputId": "86849db3-cd2f-4cc5-ebb8-2d0caafa1a2c"
      },
      "outputs": [
        {
          "name": "stdout",
          "output_type": "stream",
          "text": [
            "You set a new current directory\n"
          ]
        }
      ],
      "source": [
        "os.chdir(os.path.dirname(current_dir))\n",
        "print(\"You set a new current directory\")"
      ]
    },
    {
      "cell_type": "markdown",
      "metadata": {
        "id": "M_xPk_Ijz3i-"
      },
      "source": [
        "Confirm the new current directory"
      ]
    },
    {
      "cell_type": "code",
      "execution_count": 3,
      "metadata": {
        "id": "vz3S-_kjz3jA",
        "outputId": "00b79ae4-75d0-4a96-d193-ac9ef9847ea2"
      },
      "outputs": [
        {
          "data": {
            "text/plain": [
              "'c:\\\\Code projects\\\\final-hackathon\\\\cybersecurity-intrusion-detection'"
            ]
          },
          "execution_count": 3,
          "metadata": {},
          "output_type": "execute_result"
        }
      ],
      "source": [
        "current_dir = os.getcwd()\n",
        "current_dir"
      ]
    },
    {
      "cell_type": "markdown",
      "metadata": {
        "id": "-mavJ8DibrcQ"
      },
      "source": [
        "# Section 1"
      ]
    },
    {
      "cell_type": "markdown",
      "metadata": {},
      "source": [
        "Section 1 content"
      ]
    },
    {
      "cell_type": "code",
      "execution_count": 4,
      "metadata": {},
      "outputs": [],
      "source": [
        "import numpy as np\n",
        "import pandas as pd\n",
        "import matplotlib.pyplot as plt\n",
        "import seaborn as sns"
      ]
    },
    {
      "cell_type": "code",
      "execution_count": 5,
      "metadata": {},
      "outputs": [
        {
          "data": {
            "application/vnd.microsoft.datawrangler.viewer.v0+json": {
              "columns": [
                {
                  "name": "index",
                  "rawType": "int64",
                  "type": "integer"
                },
                {
                  "name": "session_id",
                  "rawType": "object",
                  "type": "string"
                },
                {
                  "name": "network_packet_size",
                  "rawType": "int64",
                  "type": "integer"
                },
                {
                  "name": "protocol_type",
                  "rawType": "object",
                  "type": "string"
                },
                {
                  "name": "login_attempts",
                  "rawType": "int64",
                  "type": "integer"
                },
                {
                  "name": "session_duration",
                  "rawType": "float64",
                  "type": "float"
                },
                {
                  "name": "encryption_used",
                  "rawType": "object",
                  "type": "string"
                },
                {
                  "name": "ip_reputation_score",
                  "rawType": "float64",
                  "type": "float"
                },
                {
                  "name": "failed_logins",
                  "rawType": "int64",
                  "type": "integer"
                },
                {
                  "name": "browser_type",
                  "rawType": "object",
                  "type": "string"
                },
                {
                  "name": "unusual_time_access",
                  "rawType": "int64",
                  "type": "integer"
                },
                {
                  "name": "attack_detected",
                  "rawType": "int64",
                  "type": "integer"
                }
              ],
              "ref": "5a65c606-bd12-4611-859e-08c98b691670",
              "rows": [
                [
                  "0",
                  "SID_00001",
                  "599",
                  "TCP",
                  "4",
                  "492.9832634426563",
                  "DES",
                  "0.606818080396889",
                  "1",
                  "Edge",
                  "0",
                  "1"
                ],
                [
                  "1",
                  "SID_00002",
                  "472",
                  "TCP",
                  "3",
                  "1557.9964611204384",
                  "DES",
                  "0.3015689675960893",
                  "0",
                  "Firefox",
                  "0",
                  "0"
                ],
                [
                  "2",
                  "SID_00003",
                  "629",
                  "TCP",
                  "3",
                  "75.04426166420741",
                  "DES",
                  "0.7391643279163831",
                  "2",
                  "Chrome",
                  "0",
                  "1"
                ],
                [
                  "3",
                  "SID_00004",
                  "804",
                  "UDP",
                  "4",
                  "601.2488351708328",
                  "DES",
                  "0.1232671757524846",
                  "0",
                  "Unknown",
                  "0",
                  "1"
                ],
                [
                  "4",
                  "SID_00005",
                  "453",
                  "TCP",
                  "5",
                  "532.5408884201419",
                  "AES",
                  "0.0548738567431703",
                  "1",
                  "Firefox",
                  "0",
                  "0"
                ]
              ],
              "shape": {
                "columns": 11,
                "rows": 5
              }
            },
            "text/html": [
              "<div>\n",
              "<style scoped>\n",
              "    .dataframe tbody tr th:only-of-type {\n",
              "        vertical-align: middle;\n",
              "    }\n",
              "\n",
              "    .dataframe tbody tr th {\n",
              "        vertical-align: top;\n",
              "    }\n",
              "\n",
              "    .dataframe thead th {\n",
              "        text-align: right;\n",
              "    }\n",
              "</style>\n",
              "<table border=\"1\" class=\"dataframe\">\n",
              "  <thead>\n",
              "    <tr style=\"text-align: right;\">\n",
              "      <th></th>\n",
              "      <th>session_id</th>\n",
              "      <th>network_packet_size</th>\n",
              "      <th>protocol_type</th>\n",
              "      <th>login_attempts</th>\n",
              "      <th>session_duration</th>\n",
              "      <th>encryption_used</th>\n",
              "      <th>ip_reputation_score</th>\n",
              "      <th>failed_logins</th>\n",
              "      <th>browser_type</th>\n",
              "      <th>unusual_time_access</th>\n",
              "      <th>attack_detected</th>\n",
              "    </tr>\n",
              "  </thead>\n",
              "  <tbody>\n",
              "    <tr>\n",
              "      <th>0</th>\n",
              "      <td>SID_00001</td>\n",
              "      <td>599</td>\n",
              "      <td>TCP</td>\n",
              "      <td>4</td>\n",
              "      <td>492.983263</td>\n",
              "      <td>DES</td>\n",
              "      <td>0.606818</td>\n",
              "      <td>1</td>\n",
              "      <td>Edge</td>\n",
              "      <td>0</td>\n",
              "      <td>1</td>\n",
              "    </tr>\n",
              "    <tr>\n",
              "      <th>1</th>\n",
              "      <td>SID_00002</td>\n",
              "      <td>472</td>\n",
              "      <td>TCP</td>\n",
              "      <td>3</td>\n",
              "      <td>1557.996461</td>\n",
              "      <td>DES</td>\n",
              "      <td>0.301569</td>\n",
              "      <td>0</td>\n",
              "      <td>Firefox</td>\n",
              "      <td>0</td>\n",
              "      <td>0</td>\n",
              "    </tr>\n",
              "    <tr>\n",
              "      <th>2</th>\n",
              "      <td>SID_00003</td>\n",
              "      <td>629</td>\n",
              "      <td>TCP</td>\n",
              "      <td>3</td>\n",
              "      <td>75.044262</td>\n",
              "      <td>DES</td>\n",
              "      <td>0.739164</td>\n",
              "      <td>2</td>\n",
              "      <td>Chrome</td>\n",
              "      <td>0</td>\n",
              "      <td>1</td>\n",
              "    </tr>\n",
              "    <tr>\n",
              "      <th>3</th>\n",
              "      <td>SID_00004</td>\n",
              "      <td>804</td>\n",
              "      <td>UDP</td>\n",
              "      <td>4</td>\n",
              "      <td>601.248835</td>\n",
              "      <td>DES</td>\n",
              "      <td>0.123267</td>\n",
              "      <td>0</td>\n",
              "      <td>Unknown</td>\n",
              "      <td>0</td>\n",
              "      <td>1</td>\n",
              "    </tr>\n",
              "    <tr>\n",
              "      <th>4</th>\n",
              "      <td>SID_00005</td>\n",
              "      <td>453</td>\n",
              "      <td>TCP</td>\n",
              "      <td>5</td>\n",
              "      <td>532.540888</td>\n",
              "      <td>AES</td>\n",
              "      <td>0.054874</td>\n",
              "      <td>1</td>\n",
              "      <td>Firefox</td>\n",
              "      <td>0</td>\n",
              "      <td>0</td>\n",
              "    </tr>\n",
              "  </tbody>\n",
              "</table>\n",
              "</div>"
            ],
            "text/plain": [
              "  session_id  network_packet_size protocol_type  login_attempts  \\\n",
              "0  SID_00001                  599           TCP               4   \n",
              "1  SID_00002                  472           TCP               3   \n",
              "2  SID_00003                  629           TCP               3   \n",
              "3  SID_00004                  804           UDP               4   \n",
              "4  SID_00005                  453           TCP               5   \n",
              "\n",
              "   session_duration encryption_used  ip_reputation_score  failed_logins  \\\n",
              "0        492.983263             DES             0.606818              1   \n",
              "1       1557.996461             DES             0.301569              0   \n",
              "2         75.044262             DES             0.739164              2   \n",
              "3        601.248835             DES             0.123267              0   \n",
              "4        532.540888             AES             0.054874              1   \n",
              "\n",
              "  browser_type  unusual_time_access  attack_detected  \n",
              "0         Edge                    0                1  \n",
              "1      Firefox                    0                0  \n",
              "2       Chrome                    0                1  \n",
              "3      Unknown                    0                1  \n",
              "4      Firefox                    0                0  "
            ]
          },
          "execution_count": 5,
          "metadata": {},
          "output_type": "execute_result"
        }
      ],
      "source": [
        "df = pd.read_csv('data/processed/cybersecurity_intrusion_data_cleaned.csv')\n",
        "df.head()"
      ]
    },
    {
      "cell_type": "markdown",
      "metadata": {
        "id": "ZY3l0-AxO93d"
      },
      "source": [
        "---"
      ]
    },
    {
      "cell_type": "markdown",
      "metadata": {
        "id": "uFQo3ycuO-v6"
      },
      "source": [
        "# Feature Engineering"
      ]
    },
    {
      "cell_type": "markdown",
      "metadata": {},
      "source": [
        "Section 2 content"
      ]
    },
    {
      "cell_type": "code",
      "execution_count": 6,
      "metadata": {},
      "outputs": [
        {
          "data": {
            "image/png": "[encoded data removed]",
            "text/plain": [
              "<Figure size 500x500 with 1 Axes>"
            ]
          },
          "metadata": {},
          "output_type": "display_data"
        }
      ],
      "source": [
        "sns.displot(df['session_duration'])\n",
        "plt.show()"
      ]
    },
    {
      "cell_type": "code",
      "execution_count": 7,
      "metadata": {},
      "outputs": [
        {
          "data": {
            "image/png": "[encoded data removed]",
            "text/plain": [
              "<Figure size 500x500 with 1 Axes>"
            ]
          },
          "metadata": {},
          "output_type": "display_data"
        }
      ],
      "source": [
        "sns.displot(df['session_duration'], log_scale=True)\n",
        "plt.show()"
      ]
    },
    {
      "cell_type": "code",
      "execution_count": 8,
      "metadata": {},
      "outputs": [
        {
          "data": {
            "image/png": "[encoded data removed]",
            "text/plain": [
              "<Figure size 500x500 with 1 Axes>"
            ]
          },
          "metadata": {},
          "output_type": "display_data"
        }
      ],
      "source": [
        "sns.displot(df['ip_reputation_score'])# Base values are more \n",
        "plt.show()"
      ]
    },
    {
      "cell_type": "code",
      "execution_count": 9,
      "metadata": {},
      "outputs": [
        {
          "data": {
            "image/png": "[encoded data removed]",
            "text/plain": [
              "<Figure size 500x500 with 1 Axes>"
            ]
          },
          "metadata": {},
          "output_type": "display_data"
        }
      ],
      "source": [
        "sns.displot(df['ip_reputation_score'], log_scale=True) # Decide to not log transform\n",
        "plt.show()"
      ]
    },
    {
      "cell_type": "code",
      "execution_count": 10,
      "metadata": {},
      "outputs": [
        {
          "data": {
            "image/png": "[encoded data removed]",
            "text/plain": [
              "<Figure size 500x500 with 1 Axes>"
            ]
          },
          "metadata": {},
          "output_type": "display_data"
        }
      ],
      "source": [
        "sns.displot(df['network_packet_size'])\n",
        "plt.show()"
      ]
    },
    {
      "cell_type": "code",
      "execution_count": 11,
      "metadata": {},
      "outputs": [
        {
          "data": {
            "text/plain": [
              "132"
            ]
          },
          "execution_count": 11,
          "metadata": {},
          "output_type": "execute_result"
        }
      ],
      "source": [
        "(df['network_packet_size'] == 64).sum()"
      ]
    },
    {
      "cell_type": "code",
      "execution_count": 12,
      "metadata": {},
      "outputs": [
        {
          "data": {
            "application/vnd.microsoft.datawrangler.viewer.v0+json": {
              "columns": [
                {
                  "name": "index",
                  "rawType": "int64",
                  "type": "integer"
                },
                {
                  "name": "session_id",
                  "rawType": "object",
                  "type": "string"
                },
                {
                  "name": "network_packet_size",
                  "rawType": "int64",
                  "type": "integer"
                },
                {
                  "name": "protocol_type",
                  "rawType": "object",
                  "type": "string"
                },
                {
                  "name": "login_attempts",
                  "rawType": "int64",
                  "type": "integer"
                },
                {
                  "name": "session_duration",
                  "rawType": "float64",
                  "type": "float"
                },
                {
                  "name": "encryption_used",
                  "rawType": "object",
                  "type": "string"
                },
                {
                  "name": "ip_reputation_score",
                  "rawType": "float64",
                  "type": "float"
                },
                {
                  "name": "failed_logins",
                  "rawType": "int64",
                  "type": "integer"
                },
                {
                  "name": "browser_type",
                  "rawType": "object",
                  "type": "string"
                },
                {
                  "name": "unusual_time_access",
                  "rawType": "int64",
                  "type": "integer"
                },
                {
                  "name": "attack_detected",
                  "rawType": "int64",
                  "type": "integer"
                },
                {
                  "name": "network_packet_size_is64",
                  "rawType": "bool",
                  "type": "boolean"
                }
              ],
              "ref": "c5784790-fb41-4745-8038-a5808f22c3e3",
              "rows": [
                [
                  "0",
                  "SID_00001",
                  "599",
                  "TCP",
                  "4",
                  "492.9832634426563",
                  "DES",
                  "0.606818080396889",
                  "1",
                  "Edge",
                  "0",
                  "1",
                  "False"
                ],
                [
                  "1",
                  "SID_00002",
                  "472",
                  "TCP",
                  "3",
                  "1557.9964611204384",
                  "DES",
                  "0.3015689675960893",
                  "0",
                  "Firefox",
                  "0",
                  "0",
                  "False"
                ],
                [
                  "2",
                  "SID_00003",
                  "629",
                  "TCP",
                  "3",
                  "75.04426166420741",
                  "DES",
                  "0.7391643279163831",
                  "2",
                  "Chrome",
                  "0",
                  "1",
                  "False"
                ],
                [
                  "3",
                  "SID_00004",
                  "804",
                  "UDP",
                  "4",
                  "601.2488351708328",
                  "DES",
                  "0.1232671757524846",
                  "0",
                  "Unknown",
                  "0",
                  "1",
                  "False"
                ],
                [
                  "4",
                  "SID_00005",
                  "453",
                  "TCP",
                  "5",
                  "532.5408884201419",
                  "AES",
                  "0.0548738567431703",
                  "1",
                  "Firefox",
                  "0",
                  "0",
                  "False"
                ],
                [
                  "5",
                  "SID_00006",
                  "453",
                  "UDP",
                  "5",
                  "380.4715502453134",
                  "AES",
                  "0.4224858607066699",
                  "2",
                  "Chrome",
                  "1",
                  "0",
                  "False"
                ],
                [
                  "6",
                  "SID_00007",
                  "815",
                  "ICMP",
                  "4",
                  "728.1071646972356",
                  "AES",
                  "0.4137719285892984",
                  "1",
                  "Chrome",
                  "0",
                  "1",
                  "False"
                ],
                [
                  "7",
                  "SID_00008",
                  "653",
                  "TCP",
                  "3",
                  "12.5999060098958",
                  "DES",
                  "0.0977193658576949",
                  "3",
                  "Chrome",
                  "1",
                  "1",
                  "False"
                ],
                [
                  "8",
                  "SID_00009",
                  "406",
                  "TCP",
                  "2",
                  "542.5588952208974",
                  "No encryption",
                  "0.2945796876500889",
                  "0",
                  "Chrome",
                  "1",
                  "0",
                  "False"
                ],
                [
                  "9",
                  "SID_00010",
                  "608",
                  "UDP",
                  "6",
                  "531.9441066211396",
                  "No encryption",
                  "0.4241165641663546",
                  "1",
                  "Chrome",
                  "0",
                  "0",
                  "False"
                ],
                [
                  "10",
                  "SID_00011",
                  "407",
                  "UDP",
                  "6",
                  "580.7219253670751",
                  "DES",
                  "0.1228937389064628",
                  "3",
                  "Firefox",
                  "0",
                  "1",
                  "False"
                ],
                [
                  "11",
                  "SID_00012",
                  "406",
                  "UDP",
                  "9",
                  "191.0528369326706",
                  "DES",
                  "0.3397112713433893",
                  "1",
                  "Edge",
                  "0",
                  "1",
                  "False"
                ],
                [
                  "12",
                  "SID_00013",
                  "548",
                  "TCP",
                  "2",
                  "186.1476383415076",
                  "No encryption",
                  "0.4068986326067099",
                  "2",
                  "Safari",
                  "1",
                  "0",
                  "False"
                ],
                [
                  "13",
                  "SID_00014",
                  "117",
                  "TCP",
                  "4",
                  "833.4889649491395",
                  "DES",
                  "0.4732919047923998",
                  "2",
                  "Unknown",
                  "0",
                  "1",
                  "False"
                ],
                [
                  "14",
                  "SID_00015",
                  "155",
                  "TCP",
                  "3",
                  "77.84995157439054",
                  "No encryption",
                  "0.3524755745227921",
                  "3",
                  "Chrome",
                  "0",
                  "1",
                  "False"
                ],
                [
                  "15",
                  "SID_00016",
                  "387",
                  "ICMP",
                  "6",
                  "292.1361960073892",
                  "DES",
                  "0.2549124511362793",
                  "3",
                  "Chrome",
                  "0",
                  "1",
                  "False"
                ],
                [
                  "16",
                  "SID_00017",
                  "297",
                  "TCP",
                  "8",
                  "1421.414371761036",
                  "AES",
                  "0.345367552273892",
                  "3",
                  "Firefox",
                  "0",
                  "1",
                  "False"
                ],
                [
                  "17",
                  "SID_00019",
                  "318",
                  "TCP",
                  "5",
                  "504.98866997657433",
                  "AES",
                  "0.3942314568896387",
                  "1",
                  "Unknown",
                  "0",
                  "1",
                  "False"
                ],
                [
                  "18",
                  "SID_00020",
                  "217",
                  "ICMP",
                  "2",
                  "883.6175678484254",
                  "DES",
                  "0.3101131570512104",
                  "0",
                  "Chrome",
                  "0",
                  "0",
                  "False"
                ],
                [
                  "19",
                  "SID_00021",
                  "793",
                  "TCP",
                  "3",
                  "122.1894142089281",
                  "AES",
                  "0.3693246493280864",
                  "2",
                  "Firefox",
                  "0",
                  "0",
                  "False"
                ],
                [
                  "20",
                  "SID_00022",
                  "454",
                  "TCP",
                  "1",
                  "299.71154797427783",
                  "No encryption",
                  "0.3738745916057353",
                  "1",
                  "Chrome",
                  "0",
                  "0",
                  "False"
                ],
                [
                  "21",
                  "SID_00023",
                  "513",
                  "TCP",
                  "3",
                  "654.5261426459776",
                  "AES",
                  "0.4970295435549451",
                  "1",
                  "Firefox",
                  "0",
                  "0",
                  "False"
                ],
                [
                  "22",
                  "SID_00024",
                  "215",
                  "TCP",
                  "8",
                  "317.0788581057768",
                  "AES",
                  "0.461950842242767",
                  "2",
                  "Chrome",
                  "0",
                  "1",
                  "False"
                ],
                [
                  "23",
                  "SID_00025",
                  "391",
                  "TCP",
                  "5",
                  "93.17112499822254",
                  "AES",
                  "0.536245189457405",
                  "2",
                  "Firefox",
                  "0",
                  "0",
                  "False"
                ],
                [
                  "24",
                  "SID_00026",
                  "522",
                  "TCP",
                  "4",
                  "211.59584253834697",
                  "AES",
                  "0.1078985576055601",
                  "3",
                  "Firefox",
                  "0",
                  "1",
                  "False"
                ],
                [
                  "25",
                  "SID_00027",
                  "269",
                  "TCP",
                  "9",
                  "92.70169297371484",
                  "No encryption",
                  "0.5068194256848887",
                  "0",
                  "Chrome",
                  "0",
                  "1",
                  "False"
                ],
                [
                  "26",
                  "SID_00028",
                  "575",
                  "TCP",
                  "3",
                  "3286.221727767748",
                  "DES",
                  "0.4204711850467863",
                  "0",
                  "Chrome",
                  "0",
                  "0",
                  "False"
                ],
                [
                  "27",
                  "SID_00029",
                  "379",
                  "UDP",
                  "2",
                  "214.98212232301017",
                  "AES",
                  "0.7863154442710675",
                  "2",
                  "Chrome",
                  "0",
                  "1",
                  "False"
                ],
                [
                  "28",
                  "SID_00030",
                  "441",
                  "TCP",
                  "7",
                  "604.9615522886485",
                  "AES",
                  "0.3360318477936075",
                  "0",
                  "Firefox",
                  "0",
                  "1",
                  "False"
                ],
                [
                  "29",
                  "SID_00031",
                  "379",
                  "TCP",
                  "1",
                  "447.62330730772806",
                  "DES",
                  "0.0993898185618982",
                  "0",
                  "Chrome",
                  "0",
                  "0",
                  "False"
                ],
                [
                  "30",
                  "SID_00032",
                  "870",
                  "UDP",
                  "2",
                  "674.2716307687525",
                  "DES",
                  "0.2720868405623606",
                  "1",
                  "Chrome",
                  "0",
                  "1",
                  "False"
                ],
                [
                  "31",
                  "SID_00033",
                  "497",
                  "TCP",
                  "1",
                  "551.4693389958693",
                  "No encryption",
                  "0.0351392525704552",
                  "1",
                  "Chrome",
                  "1",
                  "0",
                  "False"
                ],
                [
                  "32",
                  "SID_00035",
                  "664",
                  "TCP",
                  "6",
                  "1650.942099269792",
                  "No encryption",
                  "0.3915442086550267",
                  "2",
                  "Chrome",
                  "1",
                  "0",
                  "False"
                ],
                [
                  "33",
                  "SID_00036",
                  "255",
                  "TCP",
                  "2",
                  "268.71323796747225",
                  "AES",
                  "0.5173361768348047",
                  "1",
                  "Chrome",
                  "1",
                  "0",
                  "False"
                ],
                [
                  "34",
                  "SID_00037",
                  "541",
                  "TCP",
                  "5",
                  "162.2873080817919",
                  "No encryption",
                  "0.1379758234123113",
                  "2",
                  "Chrome",
                  "0",
                  "0",
                  "False"
                ],
                [
                  "35",
                  "SID_00038",
                  "108",
                  "TCP",
                  "7",
                  "3325.3086894656926",
                  "AES",
                  "0.0795093219361312",
                  "2",
                  "Firefox",
                  "0",
                  "1",
                  "False"
                ],
                [
                  "36",
                  "SID_00039",
                  "234",
                  "TCP",
                  "5",
                  "1608.365096858205",
                  "DES",
                  "0.6459042598252172",
                  "4",
                  "Firefox",
                  "0",
                  "1",
                  "False"
                ],
                [
                  "37",
                  "SID_00040",
                  "539",
                  "TCP",
                  "4",
                  "361.9425945829811",
                  "DES",
                  "0.3087899599206534",
                  "0",
                  "Chrome",
                  "0",
                  "0",
                  "False"
                ],
                [
                  "38",
                  "SID_00041",
                  "647",
                  "TCP",
                  "2",
                  "1801.41325899014",
                  "No encryption",
                  "0.2991840394359722",
                  "1",
                  "Chrome",
                  "0",
                  "0",
                  "False"
                ],
                [
                  "39",
                  "SID_00042",
                  "534",
                  "TCP",
                  "4",
                  "888.2555882449734",
                  "AES",
                  "0.0367521363575246",
                  "3",
                  "Chrome",
                  "0",
                  "1",
                  "False"
                ],
                [
                  "40",
                  "SID_00043",
                  "476",
                  "TCP",
                  "4",
                  "460.1784563437431",
                  "DES",
                  "0.3974194615917665",
                  "2",
                  "Edge",
                  "0",
                  "0",
                  "False"
                ],
                [
                  "41",
                  "SID_00044",
                  "439",
                  "TCP",
                  "5",
                  "1653.5169443242044",
                  "No encryption",
                  "0.2453131148697448",
                  "2",
                  "Chrome",
                  "0",
                  "0",
                  "False"
                ],
                [
                  "42",
                  "SID_00045",
                  "204",
                  "TCP",
                  "4",
                  "899.8403029798167",
                  "DES",
                  "0.3373211395417786",
                  "1",
                  "Chrome",
                  "0",
                  "0",
                  "False"
                ],
                [
                  "43",
                  "SID_00046",
                  "356",
                  "TCP",
                  "2",
                  "1401.0372662699012",
                  "DES",
                  "0.6729768279913647",
                  "1",
                  "Chrome",
                  "0",
                  "1",
                  "False"
                ],
                [
                  "44",
                  "SID_00047",
                  "407",
                  "TCP",
                  "7",
                  "432.6976830475844",
                  "DES",
                  "0.081769711383674",
                  "3",
                  "Edge",
                  "1",
                  "1",
                  "False"
                ],
                [
                  "45",
                  "SID_00048",
                  "711",
                  "TCP",
                  "5",
                  "1282.4285713839413",
                  "AES",
                  "0.207445483534184",
                  "2",
                  "Edge",
                  "0",
                  "1",
                  "False"
                ],
                [
                  "46",
                  "SID_00049",
                  "568",
                  "TCP",
                  "6",
                  "365.73555486698257",
                  "AES",
                  "0.5343683322456065",
                  "2",
                  "Unknown",
                  "0",
                  "1",
                  "False"
                ],
                [
                  "47",
                  "SID_00050",
                  "147",
                  "TCP",
                  "1",
                  "1062.659149730583",
                  "AES",
                  "0.2633726317268964",
                  "1",
                  "Edge",
                  "0",
                  "0",
                  "False"
                ],
                [
                  "48",
                  "SID_00051",
                  "564",
                  "TCP",
                  "2",
                  "457.4952008808089",
                  "No encryption",
                  "0.219704731816743",
                  "1",
                  "Edge",
                  "1",
                  "0",
                  "False"
                ],
                [
                  "49",
                  "SID_00052",
                  "422",
                  "TCP",
                  "5",
                  "415.6167950841102",
                  "AES",
                  "0.4663241681421678",
                  "1",
                  "Chrome",
                  "0",
                  "0",
                  "False"
                ]
              ],
              "shape": {
                "columns": 12,
                "rows": 8807
              }
            },
            "text/html": [
              "<div>\n",
              "<style scoped>\n",
              "    .dataframe tbody tr th:only-of-type {\n",
              "        vertical-align: middle;\n",
              "    }\n",
              "\n",
              "    .dataframe tbody tr th {\n",
              "        vertical-align: top;\n",
              "    }\n",
              "\n",
              "    .dataframe thead th {\n",
              "        text-align: right;\n",
              "    }\n",
              "</style>\n",
              "<table border=\"1\" class=\"dataframe\">\n",
              "  <thead>\n",
              "    <tr style=\"text-align: right;\">\n",
              "      <th></th>\n",
              "      <th>session_id</th>\n",
              "      <th>network_packet_size</th>\n",
              "      <th>protocol_type</th>\n",
              "      <th>login_attempts</th>\n",
              "      <th>session_duration</th>\n",
              "      <th>encryption_used</th>\n",
              "      <th>ip_reputation_score</th>\n",
              "      <th>failed_logins</th>\n",
              "      <th>browser_type</th>\n",
              "      <th>unusual_time_access</th>\n",
              "      <th>attack_detected</th>\n",
              "      <th>network_packet_size_is64</th>\n",
              "    </tr>\n",
              "  </thead>\n",
              "  <tbody>\n",
              "    <tr>\n",
              "      <th>0</th>\n",
              "      <td>SID_00001</td>\n",
              "      <td>599</td>\n",
              "      <td>TCP</td>\n",
              "      <td>4</td>\n",
              "      <td>492.983263</td>\n",
              "      <td>DES</td>\n",
              "      <td>0.606818</td>\n",
              "      <td>1</td>\n",
              "      <td>Edge</td>\n",
              "      <td>0</td>\n",
              "      <td>1</td>\n",
              "      <td>False</td>\n",
              "    </tr>\n",
              "    <tr>\n",
              "      <th>1</th>\n",
              "      <td>SID_00002</td>\n",
              "      <td>472</td>\n",
              "      <td>TCP</td>\n",
              "      <td>3</td>\n",
              "      <td>1557.996461</td>\n",
              "      <td>DES</td>\n",
              "      <td>0.301569</td>\n",
              "      <td>0</td>\n",
              "      <td>Firefox</td>\n",
              "      <td>0</td>\n",
              "      <td>0</td>\n",
              "      <td>False</td>\n",
              "    </tr>\n",
              "    <tr>\n",
              "      <th>2</th>\n",
              "      <td>SID_00003</td>\n",
              "      <td>629</td>\n",
              "      <td>TCP</td>\n",
              "      <td>3</td>\n",
              "      <td>75.044262</td>\n",
              "      <td>DES</td>\n",
              "      <td>0.739164</td>\n",
              "      <td>2</td>\n",
              "      <td>Chrome</td>\n",
              "      <td>0</td>\n",
              "      <td>1</td>\n",
              "      <td>False</td>\n",
              "    </tr>\n",
              "    <tr>\n",
              "      <th>3</th>\n",
              "      <td>SID_00004</td>\n",
              "      <td>804</td>\n",
              "      <td>UDP</td>\n",
              "      <td>4</td>\n",
              "      <td>601.248835</td>\n",
              "      <td>DES</td>\n",
              "      <td>0.123267</td>\n",
              "      <td>0</td>\n",
              "      <td>Unknown</td>\n",
              "      <td>0</td>\n",
              "      <td>1</td>\n",
              "      <td>False</td>\n",
              "    </tr>\n",
              "    <tr>\n",
              "      <th>4</th>\n",
              "      <td>SID_00005</td>\n",
              "      <td>453</td>\n",
              "      <td>TCP</td>\n",
              "      <td>5</td>\n",
              "      <td>532.540888</td>\n",
              "      <td>AES</td>\n",
              "      <td>0.054874</td>\n",
              "      <td>1</td>\n",
              "      <td>Firefox</td>\n",
              "      <td>0</td>\n",
              "      <td>0</td>\n",
              "      <td>False</td>\n",
              "    </tr>\n",
              "    <tr>\n",
              "      <th>...</th>\n",
              "      <td>...</td>\n",
              "      <td>...</td>\n",
              "      <td>...</td>\n",
              "      <td>...</td>\n",
              "      <td>...</td>\n",
              "      <td>...</td>\n",
              "      <td>...</td>\n",
              "      <td>...</td>\n",
              "      <td>...</td>\n",
              "      <td>...</td>\n",
              "      <td>...</td>\n",
              "      <td>...</td>\n",
              "    </tr>\n",
              "    <tr>\n",
              "      <th>8802</th>\n",
              "      <td>SID_09533</td>\n",
              "      <td>194</td>\n",
              "      <td>ICMP</td>\n",
              "      <td>3</td>\n",
              "      <td>226.049889</td>\n",
              "      <td>AES</td>\n",
              "      <td>0.517737</td>\n",
              "      <td>3</td>\n",
              "      <td>Chrome</td>\n",
              "      <td>0</td>\n",
              "      <td>1</td>\n",
              "      <td>False</td>\n",
              "    </tr>\n",
              "    <tr>\n",
              "      <th>8803</th>\n",
              "      <td>SID_09534</td>\n",
              "      <td>380</td>\n",
              "      <td>TCP</td>\n",
              "      <td>3</td>\n",
              "      <td>182.848475</td>\n",
              "      <td>No encryption</td>\n",
              "      <td>0.408485</td>\n",
              "      <td>0</td>\n",
              "      <td>Chrome</td>\n",
              "      <td>0</td>\n",
              "      <td>0</td>\n",
              "      <td>False</td>\n",
              "    </tr>\n",
              "    <tr>\n",
              "      <th>8804</th>\n",
              "      <td>SID_09535</td>\n",
              "      <td>664</td>\n",
              "      <td>TCP</td>\n",
              "      <td>5</td>\n",
              "      <td>35.170248</td>\n",
              "      <td>AES</td>\n",
              "      <td>0.359200</td>\n",
              "      <td>1</td>\n",
              "      <td>Firefox</td>\n",
              "      <td>0</td>\n",
              "      <td>0</td>\n",
              "      <td>False</td>\n",
              "    </tr>\n",
              "    <tr>\n",
              "      <th>8805</th>\n",
              "      <td>SID_09536</td>\n",
              "      <td>406</td>\n",
              "      <td>TCP</td>\n",
              "      <td>4</td>\n",
              "      <td>86.664703</td>\n",
              "      <td>AES</td>\n",
              "      <td>0.537417</td>\n",
              "      <td>1</td>\n",
              "      <td>Chrome</td>\n",
              "      <td>1</td>\n",
              "      <td>0</td>\n",
              "      <td>False</td>\n",
              "    </tr>\n",
              "    <tr>\n",
              "      <th>8806</th>\n",
              "      <td>SID_09537</td>\n",
              "      <td>340</td>\n",
              "      <td>TCP</td>\n",
              "      <td>6</td>\n",
              "      <td>86.876744</td>\n",
              "      <td>No encryption</td>\n",
              "      <td>0.277069</td>\n",
              "      <td>4</td>\n",
              "      <td>Chrome</td>\n",
              "      <td>1</td>\n",
              "      <td>1</td>\n",
              "      <td>False</td>\n",
              "    </tr>\n",
              "  </tbody>\n",
              "</table>\n",
              "<p>8807 rows × 12 columns</p>\n",
              "</div>"
            ],
            "text/plain": [
              "     session_id  network_packet_size protocol_type  login_attempts  \\\n",
              "0     SID_00001                  599           TCP               4   \n",
              "1     SID_00002                  472           TCP               3   \n",
              "2     SID_00003                  629           TCP               3   \n",
              "3     SID_00004                  804           UDP               4   \n",
              "4     SID_00005                  453           TCP               5   \n",
              "...         ...                  ...           ...             ...   \n",
              "8802  SID_09533                  194          ICMP               3   \n",
              "8803  SID_09534                  380           TCP               3   \n",
              "8804  SID_09535                  664           TCP               5   \n",
              "8805  SID_09536                  406           TCP               4   \n",
              "8806  SID_09537                  340           TCP               6   \n",
              "\n",
              "      session_duration encryption_used  ip_reputation_score  failed_logins  \\\n",
              "0           492.983263             DES             0.606818              1   \n",
              "1          1557.996461             DES             0.301569              0   \n",
              "2            75.044262             DES             0.739164              2   \n",
              "3           601.248835             DES             0.123267              0   \n",
              "4           532.540888             AES             0.054874              1   \n",
              "...                ...             ...                  ...            ...   \n",
              "8802        226.049889             AES             0.517737              3   \n",
              "8803        182.848475   No encryption             0.408485              0   \n",
              "8804         35.170248             AES             0.359200              1   \n",
              "8805         86.664703             AES             0.537417              1   \n",
              "8806         86.876744   No encryption             0.277069              4   \n",
              "\n",
              "     browser_type  unusual_time_access  attack_detected  \\\n",
              "0            Edge                    0                1   \n",
              "1         Firefox                    0                0   \n",
              "2          Chrome                    0                1   \n",
              "3         Unknown                    0                1   \n",
              "4         Firefox                    0                0   \n",
              "...           ...                  ...              ...   \n",
              "8802       Chrome                    0                1   \n",
              "8803       Chrome                    0                0   \n",
              "8804      Firefox                    0                0   \n",
              "8805       Chrome                    1                0   \n",
              "8806       Chrome                    1                1   \n",
              "\n",
              "      network_packet_size_is64  \n",
              "0                        False  \n",
              "1                        False  \n",
              "2                        False  \n",
              "3                        False  \n",
              "4                        False  \n",
              "...                        ...  \n",
              "8802                     False  \n",
              "8803                     False  \n",
              "8804                     False  \n",
              "8805                     False  \n",
              "8806                     False  \n",
              "\n",
              "[8807 rows x 12 columns]"
            ]
          },
          "execution_count": 12,
          "metadata": {},
          "output_type": "execute_result"
        }
      ],
      "source": [
        "df['network_packet_size_is64'] = df['network_packet_size'] == 64\n",
        "df"
      ]
    },
    {
      "cell_type": "code",
      "execution_count": 13,
      "metadata": {},
      "outputs": [
        {
          "data": {
            "text/plain": [
              "132"
            ]
          },
          "execution_count": 13,
          "metadata": {},
          "output_type": "execute_result"
        }
      ],
      "source": [
        "(df['network_packet_size_is64'] == True).sum()"
      ]
    },
    {
      "cell_type": "code",
      "execution_count": 14,
      "metadata": {},
      "outputs": [
        {
          "data": {
            "application/vnd.microsoft.datawrangler.viewer.v0+json": {
              "columns": [
                {
                  "name": "index",
                  "rawType": "int64",
                  "type": "integer"
                },
                {
                  "name": "session_id",
                  "rawType": "object",
                  "type": "string"
                },
                {
                  "name": "network_packet_size",
                  "rawType": "int64",
                  "type": "integer"
                },
                {
                  "name": "protocol_type",
                  "rawType": "object",
                  "type": "string"
                },
                {
                  "name": "login_attempts",
                  "rawType": "int64",
                  "type": "integer"
                },
                {
                  "name": "session_duration",
                  "rawType": "float64",
                  "type": "float"
                },
                {
                  "name": "encryption_used",
                  "rawType": "object",
                  "type": "string"
                },
                {
                  "name": "ip_reputation_score",
                  "rawType": "float64",
                  "type": "float"
                },
                {
                  "name": "failed_logins",
                  "rawType": "int64",
                  "type": "integer"
                },
                {
                  "name": "browser_type",
                  "rawType": "object",
                  "type": "string"
                },
                {
                  "name": "unusual_time_access",
                  "rawType": "int64",
                  "type": "integer"
                },
                {
                  "name": "attack_detected",
                  "rawType": "int64",
                  "type": "integer"
                },
                {
                  "name": "network_packet_size_is64",
                  "rawType": "bool",
                  "type": "boolean"
                },
                {
                  "name": "fail_ratio",
                  "rawType": "float64",
                  "type": "float"
                }
              ],
              "ref": "53e14b40-0785-4447-a12b-657a7ebad8e8",
              "rows": [
                [
                  "0",
                  "SID_00001",
                  "599",
                  "TCP",
                  "4",
                  "492.9832634426563",
                  "DES",
                  "0.606818080396889",
                  "1",
                  "Edge",
                  "0",
                  "1",
                  "False",
                  "0.25"
                ],
                [
                  "1",
                  "SID_00002",
                  "472",
                  "TCP",
                  "3",
                  "1557.9964611204384",
                  "DES",
                  "0.3015689675960893",
                  "0",
                  "Firefox",
                  "0",
                  "0",
                  "False",
                  "0.0"
                ],
                [
                  "2",
                  "SID_00003",
                  "629",
                  "TCP",
                  "3",
                  "75.04426166420741",
                  "DES",
                  "0.7391643279163831",
                  "2",
                  "Chrome",
                  "0",
                  "1",
                  "False",
                  "0.6666666666666666"
                ],
                [
                  "3",
                  "SID_00004",
                  "804",
                  "UDP",
                  "4",
                  "601.2488351708328",
                  "DES",
                  "0.1232671757524846",
                  "0",
                  "Unknown",
                  "0",
                  "1",
                  "False",
                  "0.0"
                ],
                [
                  "4",
                  "SID_00005",
                  "453",
                  "TCP",
                  "5",
                  "532.5408884201419",
                  "AES",
                  "0.0548738567431703",
                  "1",
                  "Firefox",
                  "0",
                  "0",
                  "False",
                  "0.2"
                ],
                [
                  "5",
                  "SID_00006",
                  "453",
                  "UDP",
                  "5",
                  "380.4715502453134",
                  "AES",
                  "0.4224858607066699",
                  "2",
                  "Chrome",
                  "1",
                  "0",
                  "False",
                  "0.4"
                ],
                [
                  "6",
                  "SID_00007",
                  "815",
                  "ICMP",
                  "4",
                  "728.1071646972356",
                  "AES",
                  "0.4137719285892984",
                  "1",
                  "Chrome",
                  "0",
                  "1",
                  "False",
                  "0.25"
                ],
                [
                  "7",
                  "SID_00008",
                  "653",
                  "TCP",
                  "3",
                  "12.5999060098958",
                  "DES",
                  "0.0977193658576949",
                  "3",
                  "Chrome",
                  "1",
                  "1",
                  "False",
                  "1.0"
                ],
                [
                  "8",
                  "SID_00009",
                  "406",
                  "TCP",
                  "2",
                  "542.5588952208974",
                  "No encryption",
                  "0.2945796876500889",
                  "0",
                  "Chrome",
                  "1",
                  "0",
                  "False",
                  "0.0"
                ],
                [
                  "9",
                  "SID_00010",
                  "608",
                  "UDP",
                  "6",
                  "531.9441066211396",
                  "No encryption",
                  "0.4241165641663546",
                  "1",
                  "Chrome",
                  "0",
                  "0",
                  "False",
                  "0.16666666666666666"
                ],
                [
                  "10",
                  "SID_00011",
                  "407",
                  "UDP",
                  "6",
                  "580.7219253670751",
                  "DES",
                  "0.1228937389064628",
                  "3",
                  "Firefox",
                  "0",
                  "1",
                  "False",
                  "0.5"
                ],
                [
                  "11",
                  "SID_00012",
                  "406",
                  "UDP",
                  "9",
                  "191.0528369326706",
                  "DES",
                  "0.3397112713433893",
                  "1",
                  "Edge",
                  "0",
                  "1",
                  "False",
                  "0.1111111111111111"
                ],
                [
                  "12",
                  "SID_00013",
                  "548",
                  "TCP",
                  "2",
                  "186.1476383415076",
                  "No encryption",
                  "0.4068986326067099",
                  "2",
                  "Safari",
                  "1",
                  "0",
                  "False",
                  "1.0"
                ],
                [
                  "13",
                  "SID_00014",
                  "117",
                  "TCP",
                  "4",
                  "833.4889649491395",
                  "DES",
                  "0.4732919047923998",
                  "2",
                  "Unknown",
                  "0",
                  "1",
                  "False",
                  "0.5"
                ],
                [
                  "14",
                  "SID_00015",
                  "155",
                  "TCP",
                  "3",
                  "77.84995157439054",
                  "No encryption",
                  "0.3524755745227921",
                  "3",
                  "Chrome",
                  "0",
                  "1",
                  "False",
                  "1.0"
                ],
                [
                  "15",
                  "SID_00016",
                  "387",
                  "ICMP",
                  "6",
                  "292.1361960073892",
                  "DES",
                  "0.2549124511362793",
                  "3",
                  "Chrome",
                  "0",
                  "1",
                  "False",
                  "0.5"
                ],
                [
                  "16",
                  "SID_00017",
                  "297",
                  "TCP",
                  "8",
                  "1421.414371761036",
                  "AES",
                  "0.345367552273892",
                  "3",
                  "Firefox",
                  "0",
                  "1",
                  "False",
                  "0.375"
                ],
                [
                  "17",
                  "SID_00019",
                  "318",
                  "TCP",
                  "5",
                  "504.98866997657433",
                  "AES",
                  "0.3942314568896387",
                  "1",
                  "Unknown",
                  "0",
                  "1",
                  "False",
                  "0.2"
                ],
                [
                  "18",
                  "SID_00020",
                  "217",
                  "ICMP",
                  "2",
                  "883.6175678484254",
                  "DES",
                  "0.3101131570512104",
                  "0",
                  "Chrome",
                  "0",
                  "0",
                  "False",
                  "0.0"
                ],
                [
                  "19",
                  "SID_00021",
                  "793",
                  "TCP",
                  "3",
                  "122.1894142089281",
                  "AES",
                  "0.3693246493280864",
                  "2",
                  "Firefox",
                  "0",
                  "0",
                  "False",
                  "0.6666666666666666"
                ],
                [
                  "20",
                  "SID_00022",
                  "454",
                  "TCP",
                  "1",
                  "299.71154797427783",
                  "No encryption",
                  "0.3738745916057353",
                  "1",
                  "Chrome",
                  "0",
                  "0",
                  "False",
                  "1.0"
                ],
                [
                  "21",
                  "SID_00023",
                  "513",
                  "TCP",
                  "3",
                  "654.5261426459776",
                  "AES",
                  "0.4970295435549451",
                  "1",
                  "Firefox",
                  "0",
                  "0",
                  "False",
                  "0.3333333333333333"
                ],
                [
                  "22",
                  "SID_00024",
                  "215",
                  "TCP",
                  "8",
                  "317.0788581057768",
                  "AES",
                  "0.461950842242767",
                  "2",
                  "Chrome",
                  "0",
                  "1",
                  "False",
                  "0.25"
                ],
                [
                  "23",
                  "SID_00025",
                  "391",
                  "TCP",
                  "5",
                  "93.17112499822254",
                  "AES",
                  "0.536245189457405",
                  "2",
                  "Firefox",
                  "0",
                  "0",
                  "False",
                  "0.4"
                ],
                [
                  "24",
                  "SID_00026",
                  "522",
                  "TCP",
                  "4",
                  "211.59584253834697",
                  "AES",
                  "0.1078985576055601",
                  "3",
                  "Firefox",
                  "0",
                  "1",
                  "False",
                  "0.75"
                ],
                [
                  "25",
                  "SID_00027",
                  "269",
                  "TCP",
                  "9",
                  "92.70169297371484",
                  "No encryption",
                  "0.5068194256848887",
                  "0",
                  "Chrome",
                  "0",
                  "1",
                  "False",
                  "0.0"
                ],
                [
                  "26",
                  "SID_00028",
                  "575",
                  "TCP",
                  "3",
                  "3286.221727767748",
                  "DES",
                  "0.4204711850467863",
                  "0",
                  "Chrome",
                  "0",
                  "0",
                  "False",
                  "0.0"
                ],
                [
                  "27",
                  "SID_00029",
                  "379",
                  "UDP",
                  "2",
                  "214.98212232301017",
                  "AES",
                  "0.7863154442710675",
                  "2",
                  "Chrome",
                  "0",
                  "1",
                  "False",
                  "1.0"
                ],
                [
                  "28",
                  "SID_00030",
                  "441",
                  "TCP",
                  "7",
                  "604.9615522886485",
                  "AES",
                  "0.3360318477936075",
                  "0",
                  "Firefox",
                  "0",
                  "1",
                  "False",
                  "0.0"
                ],
                [
                  "29",
                  "SID_00031",
                  "379",
                  "TCP",
                  "1",
                  "447.62330730772806",
                  "DES",
                  "0.0993898185618982",
                  "0",
                  "Chrome",
                  "0",
                  "0",
                  "False",
                  "0.0"
                ],
                [
                  "30",
                  "SID_00032",
                  "870",
                  "UDP",
                  "2",
                  "674.2716307687525",
                  "DES",
                  "0.2720868405623606",
                  "1",
                  "Chrome",
                  "0",
                  "1",
                  "False",
                  "0.5"
                ],
                [
                  "31",
                  "SID_00033",
                  "497",
                  "TCP",
                  "1",
                  "551.4693389958693",
                  "No encryption",
                  "0.0351392525704552",
                  "1",
                  "Chrome",
                  "1",
                  "0",
                  "False",
                  "1.0"
                ],
                [
                  "32",
                  "SID_00035",
                  "664",
                  "TCP",
                  "6",
                  "1650.942099269792",
                  "No encryption",
                  "0.3915442086550267",
                  "2",
                  "Chrome",
                  "1",
                  "0",
                  "False",
                  "0.3333333333333333"
                ],
                [
                  "33",
                  "SID_00036",
                  "255",
                  "TCP",
                  "2",
                  "268.71323796747225",
                  "AES",
                  "0.5173361768348047",
                  "1",
                  "Chrome",
                  "1",
                  "0",
                  "False",
                  "0.5"
                ],
                [
                  "34",
                  "SID_00037",
                  "541",
                  "TCP",
                  "5",
                  "162.2873080817919",
                  "No encryption",
                  "0.1379758234123113",
                  "2",
                  "Chrome",
                  "0",
                  "0",
                  "False",
                  "0.4"
                ],
                [
                  "35",
                  "SID_00038",
                  "108",
                  "TCP",
                  "7",
                  "3325.3086894656926",
                  "AES",
                  "0.0795093219361312",
                  "2",
                  "Firefox",
                  "0",
                  "1",
                  "False",
                  "0.2857142857142857"
                ],
                [
                  "36",
                  "SID_00039",
                  "234",
                  "TCP",
                  "5",
                  "1608.365096858205",
                  "DES",
                  "0.6459042598252172",
                  "4",
                  "Firefox",
                  "0",
                  "1",
                  "False",
                  "0.8"
                ],
                [
                  "37",
                  "SID_00040",
                  "539",
                  "TCP",
                  "4",
                  "361.9425945829811",
                  "DES",
                  "0.3087899599206534",
                  "0",
                  "Chrome",
                  "0",
                  "0",
                  "False",
                  "0.0"
                ],
                [
                  "38",
                  "SID_00041",
                  "647",
                  "TCP",
                  "2",
                  "1801.41325899014",
                  "No encryption",
                  "0.2991840394359722",
                  "1",
                  "Chrome",
                  "0",
                  "0",
                  "False",
                  "0.5"
                ],
                [
                  "39",
                  "SID_00042",
                  "534",
                  "TCP",
                  "4",
                  "888.2555882449734",
                  "AES",
                  "0.0367521363575246",
                  "3",
                  "Chrome",
                  "0",
                  "1",
                  "False",
                  "0.75"
                ],
                [
                  "40",
                  "SID_00043",
                  "476",
                  "TCP",
                  "4",
                  "460.1784563437431",
                  "DES",
                  "0.3974194615917665",
                  "2",
                  "Edge",
                  "0",
                  "0",
                  "False",
                  "0.5"
                ],
                [
                  "41",
                  "SID_00044",
                  "439",
                  "TCP",
                  "5",
                  "1653.5169443242044",
                  "No encryption",
                  "0.2453131148697448",
                  "2",
                  "Chrome",
                  "0",
                  "0",
                  "False",
                  "0.4"
                ],
                [
                  "42",
                  "SID_00045",
                  "204",
                  "TCP",
                  "4",
                  "899.8403029798167",
                  "DES",
                  "0.3373211395417786",
                  "1",
                  "Chrome",
                  "0",
                  "0",
                  "False",
                  "0.25"
                ],
                [
                  "43",
                  "SID_00046",
                  "356",
                  "TCP",
                  "2",
                  "1401.0372662699012",
                  "DES",
                  "0.6729768279913647",
                  "1",
                  "Chrome",
                  "0",
                  "1",
                  "False",
                  "0.5"
                ],
                [
                  "44",
                  "SID_00047",
                  "407",
                  "TCP",
                  "7",
                  "432.6976830475844",
                  "DES",
                  "0.081769711383674",
                  "3",
                  "Edge",
                  "1",
                  "1",
                  "False",
                  "0.42857142857142855"
                ],
                [
                  "45",
                  "SID_00048",
                  "711",
                  "TCP",
                  "5",
                  "1282.4285713839413",
                  "AES",
                  "0.207445483534184",
                  "2",
                  "Edge",
                  "0",
                  "1",
                  "False",
                  "0.4"
                ],
                [
                  "46",
                  "SID_00049",
                  "568",
                  "TCP",
                  "6",
                  "365.73555486698257",
                  "AES",
                  "0.5343683322456065",
                  "2",
                  "Unknown",
                  "0",
                  "1",
                  "False",
                  "0.3333333333333333"
                ],
                [
                  "47",
                  "SID_00050",
                  "147",
                  "TCP",
                  "1",
                  "1062.659149730583",
                  "AES",
                  "0.2633726317268964",
                  "1",
                  "Edge",
                  "0",
                  "0",
                  "False",
                  "1.0"
                ],
                [
                  "48",
                  "SID_00051",
                  "564",
                  "TCP",
                  "2",
                  "457.4952008808089",
                  "No encryption",
                  "0.219704731816743",
                  "1",
                  "Edge",
                  "1",
                  "0",
                  "False",
                  "0.5"
                ],
                [
                  "49",
                  "SID_00052",
                  "422",
                  "TCP",
                  "5",
                  "415.6167950841102",
                  "AES",
                  "0.4663241681421678",
                  "1",
                  "Chrome",
                  "0",
                  "0",
                  "False",
                  "0.2"
                ]
              ],
              "shape": {
                "columns": 13,
                "rows": 8807
              }
            },
            "text/html": [
              "<div>\n",
              "<style scoped>\n",
              "    .dataframe tbody tr th:only-of-type {\n",
              "        vertical-align: middle;\n",
              "    }\n",
              "\n",
              "    .dataframe tbody tr th {\n",
              "        vertical-align: top;\n",
              "    }\n",
              "\n",
              "    .dataframe thead th {\n",
              "        text-align: right;\n",
              "    }\n",
              "</style>\n",
              "<table border=\"1\" class=\"dataframe\">\n",
              "  <thead>\n",
              "    <tr style=\"text-align: right;\">\n",
              "      <th></th>\n",
              "      <th>session_id</th>\n",
              "      <th>network_packet_size</th>\n",
              "      <th>protocol_type</th>\n",
              "      <th>login_attempts</th>\n",
              "      <th>session_duration</th>\n",
              "      <th>encryption_used</th>\n",
              "      <th>ip_reputation_score</th>\n",
              "      <th>failed_logins</th>\n",
              "      <th>browser_type</th>\n",
              "      <th>unusual_time_access</th>\n",
              "      <th>attack_detected</th>\n",
              "      <th>network_packet_size_is64</th>\n",
              "      <th>fail_ratio</th>\n",
              "    </tr>\n",
              "  </thead>\n",
              "  <tbody>\n",
              "    <tr>\n",
              "      <th>0</th>\n",
              "      <td>SID_00001</td>\n",
              "      <td>599</td>\n",
              "      <td>TCP</td>\n",
              "      <td>4</td>\n",
              "      <td>492.983263</td>\n",
              "      <td>DES</td>\n",
              "      <td>0.606818</td>\n",
              "      <td>1</td>\n",
              "      <td>Edge</td>\n",
              "      <td>0</td>\n",
              "      <td>1</td>\n",
              "      <td>False</td>\n",
              "      <td>0.250000</td>\n",
              "    </tr>\n",
              "    <tr>\n",
              "      <th>1</th>\n",
              "      <td>SID_00002</td>\n",
              "      <td>472</td>\n",
              "      <td>TCP</td>\n",
              "      <td>3</td>\n",
              "      <td>1557.996461</td>\n",
              "      <td>DES</td>\n",
              "      <td>0.301569</td>\n",
              "      <td>0</td>\n",
              "      <td>Firefox</td>\n",
              "      <td>0</td>\n",
              "      <td>0</td>\n",
              "      <td>False</td>\n",
              "      <td>0.000000</td>\n",
              "    </tr>\n",
              "    <tr>\n",
              "      <th>2</th>\n",
              "      <td>SID_00003</td>\n",
              "      <td>629</td>\n",
              "      <td>TCP</td>\n",
              "      <td>3</td>\n",
              "      <td>75.044262</td>\n",
              "      <td>DES</td>\n",
              "      <td>0.739164</td>\n",
              "      <td>2</td>\n",
              "      <td>Chrome</td>\n",
              "      <td>0</td>\n",
              "      <td>1</td>\n",
              "      <td>False</td>\n",
              "      <td>0.666667</td>\n",
              "    </tr>\n",
              "    <tr>\n",
              "      <th>3</th>\n",
              "      <td>SID_00004</td>\n",
              "      <td>804</td>\n",
              "      <td>UDP</td>\n",
              "      <td>4</td>\n",
              "      <td>601.248835</td>\n",
              "      <td>DES</td>\n",
              "      <td>0.123267</td>\n",
              "      <td>0</td>\n",
              "      <td>Unknown</td>\n",
              "      <td>0</td>\n",
              "      <td>1</td>\n",
              "      <td>False</td>\n",
              "      <td>0.000000</td>\n",
              "    </tr>\n",
              "    <tr>\n",
              "      <th>4</th>\n",
              "      <td>SID_00005</td>\n",
              "      <td>453</td>\n",
              "      <td>TCP</td>\n",
              "      <td>5</td>\n",
              "      <td>532.540888</td>\n",
              "      <td>AES</td>\n",
              "      <td>0.054874</td>\n",
              "      <td>1</td>\n",
              "      <td>Firefox</td>\n",
              "      <td>0</td>\n",
              "      <td>0</td>\n",
              "      <td>False</td>\n",
              "      <td>0.200000</td>\n",
              "    </tr>\n",
              "    <tr>\n",
              "      <th>...</th>\n",
              "      <td>...</td>\n",
              "      <td>...</td>\n",
              "      <td>...</td>\n",
              "      <td>...</td>\n",
              "      <td>...</td>\n",
              "      <td>...</td>\n",
              "      <td>...</td>\n",
              "      <td>...</td>\n",
              "      <td>...</td>\n",
              "      <td>...</td>\n",
              "      <td>...</td>\n",
              "      <td>...</td>\n",
              "      <td>...</td>\n",
              "    </tr>\n",
              "    <tr>\n",
              "      <th>8802</th>\n",
              "      <td>SID_09533</td>\n",
              "      <td>194</td>\n",
              "      <td>ICMP</td>\n",
              "      <td>3</td>\n",
              "      <td>226.049889</td>\n",
              "      <td>AES</td>\n",
              "      <td>0.517737</td>\n",
              "      <td>3</td>\n",
              "      <td>Chrome</td>\n",
              "      <td>0</td>\n",
              "      <td>1</td>\n",
              "      <td>False</td>\n",
              "      <td>1.000000</td>\n",
              "    </tr>\n",
              "    <tr>\n",
              "      <th>8803</th>\n",
              "      <td>SID_09534</td>\n",
              "      <td>380</td>\n",
              "      <td>TCP</td>\n",
              "      <td>3</td>\n",
              "      <td>182.848475</td>\n",
              "      <td>No encryption</td>\n",
              "      <td>0.408485</td>\n",
              "      <td>0</td>\n",
              "      <td>Chrome</td>\n",
              "      <td>0</td>\n",
              "      <td>0</td>\n",
              "      <td>False</td>\n",
              "      <td>0.000000</td>\n",
              "    </tr>\n",
              "    <tr>\n",
              "      <th>8804</th>\n",
              "      <td>SID_09535</td>\n",
              "      <td>664</td>\n",
              "      <td>TCP</td>\n",
              "      <td>5</td>\n",
              "      <td>35.170248</td>\n",
              "      <td>AES</td>\n",
              "      <td>0.359200</td>\n",
              "      <td>1</td>\n",
              "      <td>Firefox</td>\n",
              "      <td>0</td>\n",
              "      <td>0</td>\n",
              "      <td>False</td>\n",
              "      <td>0.200000</td>\n",
              "    </tr>\n",
              "    <tr>\n",
              "      <th>8805</th>\n",
              "      <td>SID_09536</td>\n",
              "      <td>406</td>\n",
              "      <td>TCP</td>\n",
              "      <td>4</td>\n",
              "      <td>86.664703</td>\n",
              "      <td>AES</td>\n",
              "      <td>0.537417</td>\n",
              "      <td>1</td>\n",
              "      <td>Chrome</td>\n",
              "      <td>1</td>\n",
              "      <td>0</td>\n",
              "      <td>False</td>\n",
              "      <td>0.250000</td>\n",
              "    </tr>\n",
              "    <tr>\n",
              "      <th>8806</th>\n",
              "      <td>SID_09537</td>\n",
              "      <td>340</td>\n",
              "      <td>TCP</td>\n",
              "      <td>6</td>\n",
              "      <td>86.876744</td>\n",
              "      <td>No encryption</td>\n",
              "      <td>0.277069</td>\n",
              "      <td>4</td>\n",
              "      <td>Chrome</td>\n",
              "      <td>1</td>\n",
              "      <td>1</td>\n",
              "      <td>False</td>\n",
              "      <td>0.666667</td>\n",
              "    </tr>\n",
              "  </tbody>\n",
              "</table>\n",
              "<p>8807 rows × 13 columns</p>\n",
              "</div>"
            ],
            "text/plain": [
              "     session_id  network_packet_size protocol_type  login_attempts  \\\n",
              "0     SID_00001                  599           TCP               4   \n",
              "1     SID_00002                  472           TCP               3   \n",
              "2     SID_00003                  629           TCP               3   \n",
              "3     SID_00004                  804           UDP               4   \n",
              "4     SID_00005                  453           TCP               5   \n",
              "...         ...                  ...           ...             ...   \n",
              "8802  SID_09533                  194          ICMP               3   \n",
              "8803  SID_09534                  380           TCP               3   \n",
              "8804  SID_09535                  664           TCP               5   \n",
              "8805  SID_09536                  406           TCP               4   \n",
              "8806  SID_09537                  340           TCP               6   \n",
              "\n",
              "      session_duration encryption_used  ip_reputation_score  failed_logins  \\\n",
              "0           492.983263             DES             0.606818              1   \n",
              "1          1557.996461             DES             0.301569              0   \n",
              "2            75.044262             DES             0.739164              2   \n",
              "3           601.248835             DES             0.123267              0   \n",
              "4           532.540888             AES             0.054874              1   \n",
              "...                ...             ...                  ...            ...   \n",
              "8802        226.049889             AES             0.517737              3   \n",
              "8803        182.848475   No encryption             0.408485              0   \n",
              "8804         35.170248             AES             0.359200              1   \n",
              "8805         86.664703             AES             0.537417              1   \n",
              "8806         86.876744   No encryption             0.277069              4   \n",
              "\n",
              "     browser_type  unusual_time_access  attack_detected  \\\n",
              "0            Edge                    0                1   \n",
              "1         Firefox                    0                0   \n",
              "2          Chrome                    0                1   \n",
              "3         Unknown                    0                1   \n",
              "4         Firefox                    0                0   \n",
              "...           ...                  ...              ...   \n",
              "8802       Chrome                    0                1   \n",
              "8803       Chrome                    0                0   \n",
              "8804      Firefox                    0                0   \n",
              "8805       Chrome                    1                0   \n",
              "8806       Chrome                    1                1   \n",
              "\n",
              "      network_packet_size_is64  fail_ratio  \n",
              "0                        False    0.250000  \n",
              "1                        False    0.000000  \n",
              "2                        False    0.666667  \n",
              "3                        False    0.000000  \n",
              "4                        False    0.200000  \n",
              "...                        ...         ...  \n",
              "8802                     False    1.000000  \n",
              "8803                     False    0.000000  \n",
              "8804                     False    0.200000  \n",
              "8805                     False    0.250000  \n",
              "8806                     False    0.666667  \n",
              "\n",
              "[8807 rows x 13 columns]"
            ]
          },
          "execution_count": 14,
          "metadata": {},
          "output_type": "execute_result"
        }
      ],
      "source": [
        "df['fail_ratio'] = df['failed_logins'] / df['login_attempts']\n",
        "df"
      ]
    },
    {
      "cell_type": "code",
      "execution_count": 15,
      "metadata": {},
      "outputs": [
        {
          "data": {
            "image/png": "[encoded data removed]",
            "text/plain": [
              "<Figure size 500x500 with 1 Axes>"
            ]
          },
          "metadata": {},
          "output_type": "display_data"
        }
      ],
      "source": [
        "sns.displot(df['fail_ratio'])\n",
        "plt.show()"
      ]
    },
    {
      "cell_type": "markdown",
      "metadata": {},
      "source": [
        "---"
      ]
    },
    {
      "cell_type": "markdown",
      "metadata": {},
      "source": [
        "NOTE"
      ]
    },
    {
      "cell_type": "markdown",
      "metadata": {},
      "source": [
        "* You may add as many sections as you want, as long as it supports your project workflow.\n",
        "* All notebook's cells should be run top-down (you can't create a dynamic wherein a given point you need to go back to a previous cell to execute some task, like go back to a previous cell and refresh a variable content)"
      ]
    },
    {
      "cell_type": "markdown",
      "metadata": {},
      "source": [
        "---"
      ]
    },
    {
      "cell_type": "markdown",
      "metadata": {
        "id": "ltNetd085qHf"
      },
      "source": [
        "# Push files to Repo"
      ]
    },
    {
      "cell_type": "markdown",
      "metadata": {},
      "source": [
        "* In cases where you don't need to push files to Repo, you may replace this section with \"Conclusions and Next Steps\" and state your conclusions and next steps."
      ]
    }
  ],
  "metadata": {
    "accelerator": "GPU",
    "colab": {
      "name": "Data Practitioner Jupyter Notebook.ipynb",
      "provenance": [],
      "toc_visible": true
    },
    "kernelspec": {
      "display_name": ".venv (3.12.8)",
      "language": "python",
      "name": "python3"
    },
    "language_info": {
      "codemirror_mode": {
        "name": "ipython",
        "version": 3
      },
      "file_extension": ".py",
      "mimetype": "text/x-python",
      "name": "python",
      "nbconvert_exporter": "python",
      "pygments_lexer": "ipython3",
      "version": "3.12.8"
    },
    "orig_nbformat": 2
  },
  "nbformat": 4,
  "nbformat_minor": 2
}
