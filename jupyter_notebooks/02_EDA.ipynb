{
  "cells": [
    {
      "cell_type": "markdown",
      "metadata": {
        "id": "0aStgWSO0E0E"
      },
      "source": [
        "# **Exploratory Data Analysis**"
      ]
    },
    {
      "cell_type": "markdown",
      "metadata": {
        "id": "1eLEkw5O0ECa"
      },
      "source": [
        "## Objectives\n",
        "\n",
        "The objective of this notebook is to perform exploratory data analysis (EDA) on the cleaned cybersecurity intrusion detection dataset. The goal is to engineer features and test hypotheses to generate insights and conclusions.\n",
        "\n",
        "## Inputs\n",
        "\n",
        "* Cleaned file: `cybersecurity_data_cleaned.csv`\n",
        "* Location: `data/processed/cybersecurity_data_cleaned.csv`\n",
        "\n",
        "\n",
        "## Hypotheses\n",
        "\n",
        "- **H1: More failed attempts are more likely to be attacks.**\n",
        "- **H2: Sessions too long or too short are more likely to be attacks.**\n",
        "- **H3: The number of login attempts is positively correlated with the chance of attack.**\n",
        "- **H4: Certain protocols are more likely to be used for attacks.**\n",
        "- **H5: Sessions from less trusted IPs are more likely to be attacks.**\n",
        "- **H6: Network packet sizes too big or too small are more likely to be attacks**\n",
        "\n",
        "## Outputs\n",
        "\n",
        "* Processed file: `cybersecurity_data_eda.csv`\n",
        "* Location: `data/processed/cybersecurity_data_eda.csv`\n",
        "\n",
        "## Additional Comments\n",
        "\n",
        "* If you have any additional comments that don't fit in the previous bullets, please state them here. \n",
        "\n"
      ]
    },
    {
      "cell_type": "markdown",
      "metadata": {
        "id": "9uWZXH9LwoQg"
      },
      "source": [
        "---"
      ]
    },
    {
      "cell_type": "markdown",
      "metadata": {
        "id": "cqP-UeN-z3i2"
      },
      "source": [
        "# Change working directory"
      ]
    },
    {
      "cell_type": "markdown",
      "metadata": {
        "id": "aOGIGS-uz3i2"
      },
      "source": [
        "We need to change the working directory from its current folder to its parent folder\n",
        "* We access the current directory with os.getcwd()"
      ]
    },
    {
      "cell_type": "code",
      "execution_count": 2,
      "metadata": {
        "id": "wZfF_j-Bz3i4",
        "outputId": "66943449-1436-4c3d-85c7-b85f9f78349b"
      },
      "outputs": [
        {
          "data": {
            "text/plain": [
              "'c:\\\\Code projects\\\\final-hackathon\\\\cybersecurity-intrusion-detection\\\\jupyter_notebooks'"
            ]
          },
          "execution_count": 2,
          "metadata": {},
          "output_type": "execute_result"
        }
      ],
      "source": [
        "import os\n",
        "current_dir = os.getcwd()\n",
        "current_dir"
      ]
    },
    {
      "cell_type": "markdown",
      "metadata": {
        "id": "9MWW8E7lz3i7"
      },
      "source": [
        "We want to make the parent of the current directory the new current directory\n",
        "* os.path.dirname() gets the parent directory\n",
        "* os.chir() defines the new current directory"
      ]
    },
    {
      "cell_type": "code",
      "execution_count": 3,
      "metadata": {
        "id": "TwHsQRWjz3i9",
        "outputId": "86849db3-cd2f-4cc5-ebb8-2d0caafa1a2c"
      },
      "outputs": [
        {
          "name": "stdout",
          "output_type": "stream",
          "text": [
            "You set a new current directory\n"
          ]
        }
      ],
      "source": [
        "os.chdir(os.path.dirname(current_dir))\n",
        "print(\"You set a new current directory\")"
      ]
    },
    {
      "cell_type": "markdown",
      "metadata": {
        "id": "M_xPk_Ijz3i-"
      },
      "source": [
        "Confirm the new current directory"
      ]
    },
    {
      "cell_type": "code",
      "execution_count": 4,
      "metadata": {
        "id": "vz3S-_kjz3jA",
        "outputId": "00b79ae4-75d0-4a96-d193-ac9ef9847ea2"
      },
      "outputs": [
        {
          "data": {
            "text/plain": [
              "'c:\\\\Code projects\\\\final-hackathon\\\\cybersecurity-intrusion-detection'"
            ]
          },
          "execution_count": 4,
          "metadata": {},
          "output_type": "execute_result"
        }
      ],
      "source": [
        "current_dir = os.getcwd()\n",
        "current_dir"
      ]
    },
    {
      "cell_type": "markdown",
      "metadata": {},
      "source": [
        "---"
      ]
    },
    {
      "cell_type": "markdown",
      "metadata": {
        "id": "-mavJ8DibrcQ"
      },
      "source": [
        "# Initial Setup and Extracting Data"
      ]
    },
    {
      "cell_type": "markdown",
      "metadata": {},
      "source": [
        "Import necessary libraries:\n",
        "- numpy for numerical operations\n",
        "- pandas for data manipulation\n",
        "- seaborn and Matplotlib for data visualization\n",
        "- scipy stats for statistical analysis"
      ]
    },
    {
      "cell_type": "code",
      "execution_count": 5,
      "metadata": {},
      "outputs": [],
      "source": [
        "import numpy as np\n",
        "import pandas as pd\n",
        "import matplotlib.pyplot as plt\n",
        "import seaborn as sns\n",
        "from scipy.stats import shapiro, chi2_contingency, ttest_ind, mannwhitneyu, spearmanr"
      ]
    },
    {
      "cell_type": "markdown",
      "metadata": {},
      "source": [
        "The DataFrame is loaded from the cleaned CSV file located at `data/processed/cybersecurity_data_cleaned.csv`."
      ]
    },
    {
      "cell_type": "code",
      "execution_count": 6,
      "metadata": {},
      "outputs": [
        {
          "data": {
            "application/vnd.microsoft.datawrangler.viewer.v0+json": {
              "columns": [
                {
                  "name": "index",
                  "rawType": "int64",
                  "type": "integer"
                },
                {
                  "name": "session_id",
                  "rawType": "object",
                  "type": "string"
                },
                {
                  "name": "network_packet_size",
                  "rawType": "int64",
                  "type": "integer"
                },
                {
                  "name": "protocol_type",
                  "rawType": "object",
                  "type": "string"
                },
                {
                  "name": "login_attempts",
                  "rawType": "int64",
                  "type": "integer"
                },
                {
                  "name": "session_duration",
                  "rawType": "float64",
                  "type": "float"
                },
                {
                  "name": "encryption_used",
                  "rawType": "object",
                  "type": "string"
                },
                {
                  "name": "ip_reputation_score",
                  "rawType": "float64",
                  "type": "float"
                },
                {
                  "name": "failed_logins",
                  "rawType": "int64",
                  "type": "integer"
                },
                {
                  "name": "browser_type",
                  "rawType": "object",
                  "type": "string"
                },
                {
                  "name": "unusual_time_access",
                  "rawType": "int64",
                  "type": "integer"
                },
                {
                  "name": "attack_detected",
                  "rawType": "int64",
                  "type": "integer"
                }
              ],
              "ref": "bb3bb517-5870-447b-b61e-69ce1aea833f",
              "rows": [
                [
                  "0",
                  "SID_00001",
                  "599",
                  "TCP",
                  "4",
                  "492.9832634426563",
                  "DES",
                  "0.606818080396889",
                  "1",
                  "Edge",
                  "0",
                  "1"
                ],
                [
                  "1",
                  "SID_00002",
                  "472",
                  "TCP",
                  "3",
                  "1557.9964611204384",
                  "DES",
                  "0.3015689675960893",
                  "0",
                  "Firefox",
                  "0",
                  "0"
                ],
                [
                  "2",
                  "SID_00003",
                  "629",
                  "TCP",
                  "3",
                  "75.04426166420741",
                  "DES",
                  "0.7391643279163831",
                  "2",
                  "Chrome",
                  "0",
                  "1"
                ],
                [
                  "3",
                  "SID_00004",
                  "804",
                  "UDP",
                  "4",
                  "601.2488351708328",
                  "DES",
                  "0.1232671757524846",
                  "0",
                  "Unknown",
                  "0",
                  "1"
                ],
                [
                  "4",
                  "SID_00005",
                  "453",
                  "TCP",
                  "5",
                  "532.5408884201419",
                  "AES",
                  "0.0548738567431703",
                  "1",
                  "Firefox",
                  "0",
                  "0"
                ]
              ],
              "shape": {
                "columns": 11,
                "rows": 5
              }
            },
            "text/html": [
              "<div>\n",
              "<style scoped>\n",
              "    .dataframe tbody tr th:only-of-type {\n",
              "        vertical-align: middle;\n",
              "    }\n",
              "\n",
              "    .dataframe tbody tr th {\n",
              "        vertical-align: top;\n",
              "    }\n",
              "\n",
              "    .dataframe thead th {\n",
              "        text-align: right;\n",
              "    }\n",
              "</style>\n",
              "<table border=\"1\" class=\"dataframe\">\n",
              "  <thead>\n",
              "    <tr style=\"text-align: right;\">\n",
              "      <th></th>\n",
              "      <th>session_id</th>\n",
              "      <th>network_packet_size</th>\n",
              "      <th>protocol_type</th>\n",
              "      <th>login_attempts</th>\n",
              "      <th>session_duration</th>\n",
              "      <th>encryption_used</th>\n",
              "      <th>ip_reputation_score</th>\n",
              "      <th>failed_logins</th>\n",
              "      <th>browser_type</th>\n",
              "      <th>unusual_time_access</th>\n",
              "      <th>attack_detected</th>\n",
              "    </tr>\n",
              "  </thead>\n",
              "  <tbody>\n",
              "    <tr>\n",
              "      <th>0</th>\n",
              "      <td>SID_00001</td>\n",
              "      <td>599</td>\n",
              "      <td>TCP</td>\n",
              "      <td>4</td>\n",
              "      <td>492.983263</td>\n",
              "      <td>DES</td>\n",
              "      <td>0.606818</td>\n",
              "      <td>1</td>\n",
              "      <td>Edge</td>\n",
              "      <td>0</td>\n",
              "      <td>1</td>\n",
              "    </tr>\n",
              "    <tr>\n",
              "      <th>1</th>\n",
              "      <td>SID_00002</td>\n",
              "      <td>472</td>\n",
              "      <td>TCP</td>\n",
              "      <td>3</td>\n",
              "      <td>1557.996461</td>\n",
              "      <td>DES</td>\n",
              "      <td>0.301569</td>\n",
              "      <td>0</td>\n",
              "      <td>Firefox</td>\n",
              "      <td>0</td>\n",
              "      <td>0</td>\n",
              "    </tr>\n",
              "    <tr>\n",
              "      <th>2</th>\n",
              "      <td>SID_00003</td>\n",
              "      <td>629</td>\n",
              "      <td>TCP</td>\n",
              "      <td>3</td>\n",
              "      <td>75.044262</td>\n",
              "      <td>DES</td>\n",
              "      <td>0.739164</td>\n",
              "      <td>2</td>\n",
              "      <td>Chrome</td>\n",
              "      <td>0</td>\n",
              "      <td>1</td>\n",
              "    </tr>\n",
              "    <tr>\n",
              "      <th>3</th>\n",
              "      <td>SID_00004</td>\n",
              "      <td>804</td>\n",
              "      <td>UDP</td>\n",
              "      <td>4</td>\n",
              "      <td>601.248835</td>\n",
              "      <td>DES</td>\n",
              "      <td>0.123267</td>\n",
              "      <td>0</td>\n",
              "      <td>Unknown</td>\n",
              "      <td>0</td>\n",
              "      <td>1</td>\n",
              "    </tr>\n",
              "    <tr>\n",
              "      <th>4</th>\n",
              "      <td>SID_00005</td>\n",
              "      <td>453</td>\n",
              "      <td>TCP</td>\n",
              "      <td>5</td>\n",
              "      <td>532.540888</td>\n",
              "      <td>AES</td>\n",
              "      <td>0.054874</td>\n",
              "      <td>1</td>\n",
              "      <td>Firefox</td>\n",
              "      <td>0</td>\n",
              "      <td>0</td>\n",
              "    </tr>\n",
              "  </tbody>\n",
              "</table>\n",
              "</div>"
            ],
            "text/plain": [
              "  session_id  network_packet_size protocol_type  login_attempts  \\\n",
              "0  SID_00001                  599           TCP               4   \n",
              "1  SID_00002                  472           TCP               3   \n",
              "2  SID_00003                  629           TCP               3   \n",
              "3  SID_00004                  804           UDP               4   \n",
              "4  SID_00005                  453           TCP               5   \n",
              "\n",
              "   session_duration encryption_used  ip_reputation_score  failed_logins  \\\n",
              "0        492.983263             DES             0.606818              1   \n",
              "1       1557.996461             DES             0.301569              0   \n",
              "2         75.044262             DES             0.739164              2   \n",
              "3        601.248835             DES             0.123267              0   \n",
              "4        532.540888             AES             0.054874              1   \n",
              "\n",
              "  browser_type  unusual_time_access  attack_detected  \n",
              "0         Edge                    0                1  \n",
              "1      Firefox                    0                0  \n",
              "2       Chrome                    0                1  \n",
              "3      Unknown                    0                1  \n",
              "4      Firefox                    0                0  "
            ]
          },
          "execution_count": 6,
          "metadata": {},
          "output_type": "execute_result"
        }
      ],
      "source": [
        "df = pd.read_csv('data/processed/cybersecurity_intrusion_data_cleaned.csv')\n",
        "df.head()"
      ]
    },
    {
      "cell_type": "markdown",
      "metadata": {
        "id": "ZY3l0-AxO93d"
      },
      "source": [
        "---"
      ]
    },
    {
      "cell_type": "markdown",
      "metadata": {
        "id": "uFQo3ycuO-v6"
      },
      "source": [
        "# Feature Engineering\n",
        "Existing features are analyzed and transformed to create new features that may be more informative and useful for analysis."
      ]
    },
    {
      "cell_type": "markdown",
      "metadata": {},
      "source": [
        "## Log Transformations\n",
        "\n",
        "Skewed numerical distributions may be misleading and may cause issues with the machinelearning steps later on. In cases where numerical features are heavily right-skewed, applying a log transformation can help normalize the distribution. The distributions of the following features are examined for potential log transformations:\n",
        "- `session_duration`\n",
        "- `ip_reputation_score`\n"
      ]
    },
    {
      "cell_type": "code",
      "execution_count": 7,
      "metadata": {},
      "outputs": [
        {
          "data": {
            "image/png": "[encoded data removed]",
            "text/plain": [
              "<Figure size 500x500 with 1 Axes>"
            ]
          },
          "metadata": {},
          "output_type": "display_data"
        }
      ],
      "source": [
        "sns.displot(df['session_duration'])\n",
        "plt.show()"
      ]
    },
    {
      "cell_type": "code",
      "execution_count": 8,
      "metadata": {},
      "outputs": [
        {
          "data": {
            "image/png": "[encoded data removed]",
            "text/plain": [
              "<Figure size 500x500 with 1 Axes>"
            ]
          },
          "metadata": {},
          "output_type": "display_data"
        }
      ],
      "source": [
        "df['session_duration_log'] = np.log1p(df['session_duration'])\n",
        "sns.displot(df['session_duration_log'])\n",
        "plt.show()"
      ]
    },
    {
      "cell_type": "code",
      "execution_count": 9,
      "metadata": {},
      "outputs": [
        {
          "data": {
            "image/png": "[encoded data removed]",
            "text/plain": [
              "<Figure size 500x500 with 1 Axes>"
            ]
          },
          "metadata": {},
          "output_type": "display_data"
        }
      ],
      "source": [
        "sns.displot(df['ip_reputation_score'])# Base values are more \n",
        "plt.show()"
      ]
    },
    {
      "cell_type": "code",
      "execution_count": 10,
      "metadata": {},
      "outputs": [],
      "source": [
        "df['ip_reputation_score_log'] = np.log1p(df['ip_reputation_score'])"
      ]
    },
    {
      "cell_type": "code",
      "execution_count": 11,
      "metadata": {},
      "outputs": [
        {
          "data": {
            "image/png": "[encoded data removed]",
            "text/plain": [
              "<Figure size 500x500 with 1 Axes>"
            ]
          },
          "metadata": {},
          "output_type": "display_data"
        }
      ],
      "source": [
        "sns.displot(df['ip_reputation_score_log'])\n",
        "plt.show()"
      ]
    },
    {
      "cell_type": "markdown",
      "metadata": {},
      "source": [
        "Both features are found to benefit from log transformations, which are applied accordingly. New columns `session_duration_logn` and `ip_reputation_score_log` are created to store the transformed values."
      ]
    },
    {
      "cell_type": "markdown",
      "metadata": {},
      "source": [
        "## Flagging Unusual Distrbutions\n",
        "For the `network_packet_size` feature, there is a noticeable spike at the minimum `network_packet_size` value 0f 64, which may indicate abnormal activity. A new binary feature `network_packet_size_is64` is created to flag sessions with packet sizes equal to 64."
      ]
    },
    {
      "cell_type": "code",
      "execution_count": 12,
      "metadata": {},
      "outputs": [
        {
          "data": {
            "image/png": "[encoded data removed]",
            "text/plain": [
              "<Figure size 500x500 with 1 Axes>"
            ]
          },
          "metadata": {},
          "output_type": "display_data"
        }
      ],
      "source": [
        "sns.displot(df['network_packet_size'])\n",
        "plt.show()"
      ]
    },
    {
      "cell_type": "code",
      "execution_count": 13,
      "metadata": {},
      "outputs": [
        {
          "data": {
            "text/plain": [
              "132"
            ]
          },
          "execution_count": 13,
          "metadata": {},
          "output_type": "execute_result"
        }
      ],
      "source": [
        "(df['network_packet_size'] == 64).sum()"
      ]
    },
    {
      "cell_type": "markdown",
      "metadata": {},
      "source": [
        "Create the new feature by checking if `network_packet_size` equals 64"
      ]
    },
    {
      "cell_type": "code",
      "execution_count": 14,
      "metadata": {},
      "outputs": [
        {
          "data": {
            "application/vnd.microsoft.datawrangler.viewer.v0+json": {
              "columns": [
                {
                  "name": "index",
                  "rawType": "int64",
                  "type": "integer"
                },
                {
                  "name": "session_id",
                  "rawType": "object",
                  "type": "string"
                },
                {
                  "name": "network_packet_size",
                  "rawType": "int64",
                  "type": "integer"
                },
                {
                  "name": "protocol_type",
                  "rawType": "object",
                  "type": "string"
                },
                {
                  "name": "login_attempts",
                  "rawType": "int64",
                  "type": "integer"
                },
                {
                  "name": "session_duration",
                  "rawType": "float64",
                  "type": "float"
                },
                {
                  "name": "encryption_used",
                  "rawType": "object",
                  "type": "string"
                },
                {
                  "name": "ip_reputation_score",
                  "rawType": "float64",
                  "type": "float"
                },
                {
                  "name": "failed_logins",
                  "rawType": "int64",
                  "type": "integer"
                },
                {
                  "name": "browser_type",
                  "rawType": "object",
                  "type": "string"
                },
                {
                  "name": "unusual_time_access",
                  "rawType": "int64",
                  "type": "integer"
                },
                {
                  "name": "attack_detected",
                  "rawType": "int64",
                  "type": "integer"
                },
                {
                  "name": "session_duration_log",
                  "rawType": "float64",
                  "type": "float"
                },
                {
                  "name": "ip_reputation_score_log",
                  "rawType": "float64",
                  "type": "float"
                },
                {
                  "name": "network_packet_size_is64",
                  "rawType": "bool",
                  "type": "boolean"
                }
              ],
              "ref": "2e4db957-48a4-4469-8dc5-0dc032410949",
              "rows": [
                [
                  "0",
                  "SID_00001",
                  "599",
                  "TCP",
                  "4",
                  "492.9832634426563",
                  "DES",
                  "0.606818080396889",
                  "1",
                  "Edge",
                  "0",
                  "1",
                  "6.202501636943257",
                  "0.47425587586493034",
                  "False"
                ],
                [
                  "1",
                  "SID_00002",
                  "472",
                  "TCP",
                  "3",
                  "1557.9964611204384",
                  "DES",
                  "0.3015689675960893",
                  "0",
                  "Firefox",
                  "0",
                  "0",
                  "7.351797599087553",
                  "0.2635704349022164",
                  "False"
                ],
                [
                  "2",
                  "SID_00003",
                  "629",
                  "TCP",
                  "3",
                  "75.04426166420741",
                  "DES",
                  "0.7391643279163831",
                  "2",
                  "Chrome",
                  "0",
                  "1",
                  "4.331315561081424",
                  "0.5534047265468075",
                  "False"
                ],
                [
                  "3",
                  "SID_00004",
                  "804",
                  "UDP",
                  "4",
                  "601.2488351708328",
                  "DES",
                  "0.1232671757524846",
                  "0",
                  "Unknown",
                  "0",
                  "1",
                  "6.4006707073641484",
                  "0.11624155997295549",
                  "False"
                ],
                [
                  "4",
                  "SID_00005",
                  "453",
                  "TCP",
                  "5",
                  "532.5408884201419",
                  "AES",
                  "0.0548738567431703",
                  "1",
                  "Firefox",
                  "0",
                  "0",
                  "6.279535709642165",
                  "0.05342119271123307",
                  "False"
                ],
                [
                  "5",
                  "SID_00006",
                  "453",
                  "UDP",
                  "5",
                  "380.4715502453134",
                  "AES",
                  "0.4224858607066699",
                  "2",
                  "Chrome",
                  "1",
                  "0",
                  "5.944036274536997",
                  "0.3524059472196838",
                  "False"
                ],
                [
                  "6",
                  "SID_00007",
                  "815",
                  "ICMP",
                  "4",
                  "728.1071646972356",
                  "AES",
                  "0.4137719285892984",
                  "1",
                  "Chrome",
                  "0",
                  "1",
                  "6.591820723533044",
                  "0.34626125926639556",
                  "False"
                ],
                [
                  "7",
                  "SID_00008",
                  "653",
                  "TCP",
                  "3",
                  "12.5999060098958",
                  "DES",
                  "0.0977193658576949",
                  "3",
                  "Chrome",
                  "1",
                  "1",
                  "2.6100628816810514",
                  "0.0932347237689534",
                  "False"
                ],
                [
                  "8",
                  "SID_00009",
                  "406",
                  "TCP",
                  "2",
                  "542.5588952208974",
                  "No encryption",
                  "0.2945796876500889",
                  "0",
                  "Chrome",
                  "1",
                  "0",
                  "6.2981380635623685",
                  "0.25818607694754575",
                  "False"
                ],
                [
                  "9",
                  "SID_00010",
                  "608",
                  "UDP",
                  "6",
                  "531.9441066211396",
                  "No encryption",
                  "0.4241165641663546",
                  "1",
                  "Chrome",
                  "0",
                  "0",
                  "6.278416553040681",
                  "0.3535516664980893",
                  "False"
                ],
                [
                  "10",
                  "SID_00011",
                  "407",
                  "UDP",
                  "6",
                  "580.7219253670751",
                  "DES",
                  "0.1228937389064628",
                  "3",
                  "Firefox",
                  "0",
                  "1",
                  "6.365992542087218",
                  "0.11590904875612736",
                  "False"
                ],
                [
                  "11",
                  "SID_00012",
                  "406",
                  "UDP",
                  "9",
                  "191.0528369326706",
                  "DES",
                  "0.3397112713433893",
                  "1",
                  "Edge",
                  "0",
                  "1",
                  "5.257770526526969",
                  "0.29245412159928397",
                  "False"
                ],
                [
                  "12",
                  "SID_00013",
                  "548",
                  "TCP",
                  "2",
                  "186.1476383415076",
                  "No encryption",
                  "0.4068986326067099",
                  "2",
                  "Safari",
                  "1",
                  "0",
                  "5.231897815203265",
                  "0.34138773048123905",
                  "False"
                ],
                [
                  "13",
                  "SID_00014",
                  "117",
                  "TCP",
                  "4",
                  "833.4889649491395",
                  "DES",
                  "0.4732919047923998",
                  "2",
                  "Unknown",
                  "0",
                  "1",
                  "6.7268195194663924",
                  "0.3874992881069672",
                  "False"
                ],
                [
                  "14",
                  "SID_00015",
                  "155",
                  "TCP",
                  "3",
                  "77.84995157439054",
                  "No encryption",
                  "0.3524755745227921",
                  "3",
                  "Chrome",
                  "0",
                  "1",
                  "4.367546699260356",
                  "0.30193667207286806",
                  "False"
                ],
                [
                  "15",
                  "SID_00016",
                  "387",
                  "ICMP",
                  "6",
                  "292.1361960073892",
                  "DES",
                  "0.2549124511362793",
                  "3",
                  "Chrome",
                  "0",
                  "1",
                  "5.680637333805497",
                  "0.22706581009962826",
                  "False"
                ],
                [
                  "16",
                  "SID_00017",
                  "297",
                  "TCP",
                  "8",
                  "1421.414371761036",
                  "AES",
                  "0.345367552273892",
                  "3",
                  "Firefox",
                  "0",
                  "1",
                  "7.260110968590089",
                  "0.2966672487876099",
                  "False"
                ],
                [
                  "17",
                  "SID_00019",
                  "318",
                  "TCP",
                  "5",
                  "504.98866997657433",
                  "AES",
                  "0.3942314568896387",
                  "1",
                  "Unknown",
                  "0",
                  "1",
                  "6.226514277686132",
                  "0.33234333649647607",
                  "False"
                ],
                [
                  "18",
                  "SID_00020",
                  "217",
                  "ICMP",
                  "2",
                  "883.6175678484254",
                  "DES",
                  "0.3101131570512104",
                  "0",
                  "Chrome",
                  "0",
                  "0",
                  "6.785155424889327",
                  "0.27011351291097707",
                  "False"
                ],
                [
                  "19",
                  "SID_00021",
                  "793",
                  "TCP",
                  "3",
                  "122.1894142089281",
                  "AES",
                  "0.3693246493280864",
                  "2",
                  "Firefox",
                  "0",
                  "0",
                  "4.813723123778942",
                  "0.31431766160210933",
                  "False"
                ],
                [
                  "20",
                  "SID_00022",
                  "454",
                  "TCP",
                  "1",
                  "299.71154797427783",
                  "No encryption",
                  "0.3738745916057353",
                  "1",
                  "Chrome",
                  "0",
                  "0",
                  "5.706151492896184",
                  "0.317634917149662",
                  "False"
                ],
                [
                  "21",
                  "SID_00023",
                  "513",
                  "TCP",
                  "3",
                  "654.5261426459776",
                  "AES",
                  "0.4970295435549451",
                  "1",
                  "Firefox",
                  "0",
                  "0",
                  "6.485438184400827",
                  "0.4034828404163993",
                  "False"
                ],
                [
                  "22",
                  "SID_00024",
                  "215",
                  "TCP",
                  "8",
                  "317.0788581057768",
                  "AES",
                  "0.461950842242767",
                  "2",
                  "Chrome",
                  "0",
                  "1",
                  "5.762299333502563",
                  "0.37977173712534135",
                  "False"
                ],
                [
                  "23",
                  "SID_00025",
                  "391",
                  "TCP",
                  "5",
                  "93.17112499822254",
                  "AES",
                  "0.536245189457405",
                  "2",
                  "Firefox",
                  "0",
                  "0",
                  "4.545113605911509",
                  "0.42934125053919664",
                  "False"
                ],
                [
                  "24",
                  "SID_00026",
                  "522",
                  "TCP",
                  "4",
                  "211.59584253834697",
                  "AES",
                  "0.1078985576055601",
                  "3",
                  "Firefox",
                  "0",
                  "1",
                  "5.359392910393718",
                  "0.10246502962610506",
                  "False"
                ],
                [
                  "25",
                  "SID_00027",
                  "269",
                  "TCP",
                  "9",
                  "92.70169297371484",
                  "No encryption",
                  "0.5068194256848887",
                  "0",
                  "Chrome",
                  "0",
                  "1",
                  "4.540116257103722",
                  "0.4100010887654488",
                  "False"
                ],
                [
                  "26",
                  "SID_00028",
                  "575",
                  "TCP",
                  "3",
                  "3286.221727767748",
                  "DES",
                  "0.4204711850467863",
                  "0",
                  "Chrome",
                  "0",
                  "0",
                  "8.09779802735745",
                  "0.35098863702842065",
                  "False"
                ],
                [
                  "27",
                  "SID_00029",
                  "379",
                  "UDP",
                  "2",
                  "214.98212232301017",
                  "AES",
                  "0.7863154442710675",
                  "2",
                  "Chrome",
                  "0",
                  "1",
                  "5.375195637235685",
                  "0.5801550873912499",
                  "False"
                ],
                [
                  "28",
                  "SID_00030",
                  "441",
                  "TCP",
                  "7",
                  "604.9615522886485",
                  "AES",
                  "0.3360318477936075",
                  "0",
                  "Firefox",
                  "0",
                  "1",
                  "6.4068165389883545",
                  "0.28970391299919723",
                  "False"
                ],
                [
                  "29",
                  "SID_00031",
                  "379",
                  "TCP",
                  "1",
                  "447.62330730772806",
                  "DES",
                  "0.0993898185618982",
                  "0",
                  "Chrome",
                  "0",
                  "0",
                  "6.106183576393454",
                  "0.09475531549731837",
                  "False"
                ],
                [
                  "30",
                  "SID_00032",
                  "870",
                  "UDP",
                  "2",
                  "674.2716307687525",
                  "DES",
                  "0.2720868405623606",
                  "1",
                  "Chrome",
                  "0",
                  "1",
                  "6.515115025878653",
                  "0.2406587334699387",
                  "False"
                ],
                [
                  "31",
                  "SID_00033",
                  "497",
                  "TCP",
                  "1",
                  "551.4693389958693",
                  "No encryption",
                  "0.0351392525704552",
                  "1",
                  "Chrome",
                  "1",
                  "0",
                  "6.3143979368219005",
                  "0.03453596121349475",
                  "False"
                ],
                [
                  "32",
                  "SID_00035",
                  "664",
                  "TCP",
                  "6",
                  "1650.942099269792",
                  "No encryption",
                  "0.3915442086550267",
                  "2",
                  "Chrome",
                  "1",
                  "0",
                  "7.409706904598533",
                  "0.3304140719822101",
                  "False"
                ],
                [
                  "33",
                  "SID_00036",
                  "255",
                  "TCP",
                  "2",
                  "268.71323796747225",
                  "AES",
                  "0.5173361768348047",
                  "1",
                  "Chrome",
                  "1",
                  "0",
                  "5.597359312988089",
                  "0.41695628216655745",
                  "False"
                ],
                [
                  "34",
                  "SID_00037",
                  "541",
                  "TCP",
                  "5",
                  "162.2873080817919",
                  "No encryption",
                  "0.1379758234123113",
                  "2",
                  "Chrome",
                  "0",
                  "0",
                  "5.095511275472739",
                  "0.12925109067381776",
                  "False"
                ],
                [
                  "35",
                  "SID_00038",
                  "108",
                  "TCP",
                  "7",
                  "3325.3086894656926",
                  "AES",
                  "0.0795093219361312",
                  "2",
                  "Firefox",
                  "0",
                  "1",
                  "8.109618466470156",
                  "0.0765066063556634",
                  "False"
                ],
                [
                  "36",
                  "SID_00039",
                  "234",
                  "TCP",
                  "5",
                  "1608.365096858205",
                  "DES",
                  "0.6459042598252172",
                  "4",
                  "Firefox",
                  "0",
                  "1",
                  "7.383595030424675",
                  "0.4982899352079331",
                  "False"
                ],
                [
                  "37",
                  "SID_00040",
                  "539",
                  "TCP",
                  "4",
                  "361.9425945829811",
                  "DES",
                  "0.3087899599206534",
                  "0",
                  "Chrome",
                  "0",
                  "0",
                  "5.894244680114462",
                  "0.26910301562715194",
                  "False"
                ],
                [
                  "38",
                  "SID_00041",
                  "647",
                  "TCP",
                  "2",
                  "1801.41325899014",
                  "No encryption",
                  "0.2991840394359722",
                  "1",
                  "Chrome",
                  "0",
                  "0",
                  "7.496881745388214",
                  "0.2617364054329229",
                  "False"
                ],
                [
                  "39",
                  "SID_00042",
                  "534",
                  "TCP",
                  "4",
                  "888.2555882449734",
                  "AES",
                  "0.0367521363575246",
                  "3",
                  "Chrome",
                  "0",
                  "1",
                  "6.790384695031449",
                  "0.036092880771624904",
                  "False"
                ],
                [
                  "40",
                  "SID_00043",
                  "476",
                  "TCP",
                  "4",
                  "460.1784563437431",
                  "DES",
                  "0.3974194615917665",
                  "2",
                  "Edge",
                  "0",
                  "0",
                  "6.13378507512637",
                  "0.33462729404064073",
                  "False"
                ],
                [
                  "41",
                  "SID_00044",
                  "439",
                  "TCP",
                  "5",
                  "1653.5169443242044",
                  "No encryption",
                  "0.2453131148697448",
                  "2",
                  "Chrome",
                  "0",
                  "0",
                  "7.411264368665649",
                  "0.21938699618372398",
                  "False"
                ],
                [
                  "42",
                  "SID_00045",
                  "204",
                  "TCP",
                  "4",
                  "899.8403029798167",
                  "DES",
                  "0.3373211395417786",
                  "1",
                  "Chrome",
                  "0",
                  "0",
                  "6.803327997703187",
                  "0.2906684634003133",
                  "False"
                ],
                [
                  "43",
                  "SID_00046",
                  "356",
                  "TCP",
                  "2",
                  "1401.0372662699012",
                  "DES",
                  "0.6729768279913647",
                  "1",
                  "Chrome",
                  "0",
                  "1",
                  "7.245681648032928",
                  "0.5146045713357631",
                  "False"
                ],
                [
                  "44",
                  "SID_00047",
                  "407",
                  "TCP",
                  "7",
                  "432.6976830475844",
                  "DES",
                  "0.081769711383674",
                  "3",
                  "Edge",
                  "1",
                  "1",
                  "6.072347708534186",
                  "0.07859832171203039",
                  "False"
                ],
                [
                  "45",
                  "SID_00048",
                  "711",
                  "TCP",
                  "5",
                  "1282.4285713839413",
                  "AES",
                  "0.207445483534184",
                  "2",
                  "Edge",
                  "0",
                  "1",
                  "7.157290347328192",
                  "0.18850695731352357",
                  "False"
                ],
                [
                  "46",
                  "SID_00049",
                  "568",
                  "TCP",
                  "6",
                  "365.73555486698257",
                  "AES",
                  "0.5343683322456065",
                  "2",
                  "Unknown",
                  "0",
                  "1",
                  "5.904641029381648",
                  "0.42811878640799483",
                  "False"
                ],
                [
                  "47",
                  "SID_00050",
                  "147",
                  "TCP",
                  "1",
                  "1062.659149730583",
                  "AES",
                  "0.2633726317268964",
                  "1",
                  "Edge",
                  "0",
                  "0",
                  "6.9694702705816365",
                  "0.23378483685024903",
                  "False"
                ],
                [
                  "48",
                  "SID_00051",
                  "564",
                  "TCP",
                  "2",
                  "457.4952008808089",
                  "No encryption",
                  "0.219704731816743",
                  "1",
                  "Edge",
                  "1",
                  "0",
                  "6.127949824642414",
                  "0.19860880635181777",
                  "False"
                ],
                [
                  "49",
                  "SID_00052",
                  "422",
                  "TCP",
                  "5",
                  "415.6167950841102",
                  "AES",
                  "0.4663241681421678",
                  "1",
                  "Chrome",
                  "0",
                  "0",
                  "6.0321668426664665",
                  "0.38275870326441386",
                  "False"
                ]
              ],
              "shape": {
                "columns": 14,
                "rows": 8807
              }
            },
            "text/html": [
              "<div>\n",
              "<style scoped>\n",
              "    .dataframe tbody tr th:only-of-type {\n",
              "        vertical-align: middle;\n",
              "    }\n",
              "\n",
              "    .dataframe tbody tr th {\n",
              "        vertical-align: top;\n",
              "    }\n",
              "\n",
              "    .dataframe thead th {\n",
              "        text-align: right;\n",
              "    }\n",
              "</style>\n",
              "<table border=\"1\" class=\"dataframe\">\n",
              "  <thead>\n",
              "    <tr style=\"text-align: right;\">\n",
              "      <th></th>\n",
              "      <th>session_id</th>\n",
              "      <th>network_packet_size</th>\n",
              "      <th>protocol_type</th>\n",
              "      <th>login_attempts</th>\n",
              "      <th>session_duration</th>\n",
              "      <th>encryption_used</th>\n",
              "      <th>ip_reputation_score</th>\n",
              "      <th>failed_logins</th>\n",
              "      <th>browser_type</th>\n",
              "      <th>unusual_time_access</th>\n",
              "      <th>attack_detected</th>\n",
              "      <th>session_duration_log</th>\n",
              "      <th>ip_reputation_score_log</th>\n",
              "      <th>network_packet_size_is64</th>\n",
              "    </tr>\n",
              "  </thead>\n",
              "  <tbody>\n",
              "    <tr>\n",
              "      <th>0</th>\n",
              "      <td>SID_00001</td>\n",
              "      <td>599</td>\n",
              "      <td>TCP</td>\n",
              "      <td>4</td>\n",
              "      <td>492.983263</td>\n",
              "      <td>DES</td>\n",
              "      <td>0.606818</td>\n",
              "      <td>1</td>\n",
              "      <td>Edge</td>\n",
              "      <td>0</td>\n",
              "      <td>1</td>\n",
              "      <td>6.202502</td>\n",
              "      <td>0.474256</td>\n",
              "      <td>False</td>\n",
              "    </tr>\n",
              "    <tr>\n",
              "      <th>1</th>\n",
              "      <td>SID_00002</td>\n",
              "      <td>472</td>\n",
              "      <td>TCP</td>\n",
              "      <td>3</td>\n",
              "      <td>1557.996461</td>\n",
              "      <td>DES</td>\n",
              "      <td>0.301569</td>\n",
              "      <td>0</td>\n",
              "      <td>Firefox</td>\n",
              "      <td>0</td>\n",
              "      <td>0</td>\n",
              "      <td>7.351798</td>\n",
              "      <td>0.263570</td>\n",
              "      <td>False</td>\n",
              "    </tr>\n",
              "    <tr>\n",
              "      <th>2</th>\n",
              "      <td>SID_00003</td>\n",
              "      <td>629</td>\n",
              "      <td>TCP</td>\n",
              "      <td>3</td>\n",
              "      <td>75.044262</td>\n",
              "      <td>DES</td>\n",
              "      <td>0.739164</td>\n",
              "      <td>2</td>\n",
              "      <td>Chrome</td>\n",
              "      <td>0</td>\n",
              "      <td>1</td>\n",
              "      <td>4.331316</td>\n",
              "      <td>0.553405</td>\n",
              "      <td>False</td>\n",
              "    </tr>\n",
              "    <tr>\n",
              "      <th>3</th>\n",
              "      <td>SID_00004</td>\n",
              "      <td>804</td>\n",
              "      <td>UDP</td>\n",
              "      <td>4</td>\n",
              "      <td>601.248835</td>\n",
              "      <td>DES</td>\n",
              "      <td>0.123267</td>\n",
              "      <td>0</td>\n",
              "      <td>Unknown</td>\n",
              "      <td>0</td>\n",
              "      <td>1</td>\n",
              "      <td>6.400671</td>\n",
              "      <td>0.116242</td>\n",
              "      <td>False</td>\n",
              "    </tr>\n",
              "    <tr>\n",
              "      <th>4</th>\n",
              "      <td>SID_00005</td>\n",
              "      <td>453</td>\n",
              "      <td>TCP</td>\n",
              "      <td>5</td>\n",
              "      <td>532.540888</td>\n",
              "      <td>AES</td>\n",
              "      <td>0.054874</td>\n",
              "      <td>1</td>\n",
              "      <td>Firefox</td>\n",
              "      <td>0</td>\n",
              "      <td>0</td>\n",
              "      <td>6.279536</td>\n",
              "      <td>0.053421</td>\n",
              "      <td>False</td>\n",
              "    </tr>\n",
              "    <tr>\n",
              "      <th>...</th>\n",
              "      <td>...</td>\n",
              "      <td>...</td>\n",
              "      <td>...</td>\n",
              "      <td>...</td>\n",
              "      <td>...</td>\n",
              "      <td>...</td>\n",
              "      <td>...</td>\n",
              "      <td>...</td>\n",
              "      <td>...</td>\n",
              "      <td>...</td>\n",
              "      <td>...</td>\n",
              "      <td>...</td>\n",
              "      <td>...</td>\n",
              "      <td>...</td>\n",
              "    </tr>\n",
              "    <tr>\n",
              "      <th>8802</th>\n",
              "      <td>SID_09533</td>\n",
              "      <td>194</td>\n",
              "      <td>ICMP</td>\n",
              "      <td>3</td>\n",
              "      <td>226.049889</td>\n",
              "      <td>AES</td>\n",
              "      <td>0.517737</td>\n",
              "      <td>3</td>\n",
              "      <td>Chrome</td>\n",
              "      <td>0</td>\n",
              "      <td>1</td>\n",
              "      <td>5.425170</td>\n",
              "      <td>0.417220</td>\n",
              "      <td>False</td>\n",
              "    </tr>\n",
              "    <tr>\n",
              "      <th>8803</th>\n",
              "      <td>SID_09534</td>\n",
              "      <td>380</td>\n",
              "      <td>TCP</td>\n",
              "      <td>3</td>\n",
              "      <td>182.848475</td>\n",
              "      <td>No encryption</td>\n",
              "      <td>0.408485</td>\n",
              "      <td>0</td>\n",
              "      <td>Chrome</td>\n",
              "      <td>0</td>\n",
              "      <td>0</td>\n",
              "      <td>5.214112</td>\n",
              "      <td>0.342515</td>\n",
              "      <td>False</td>\n",
              "    </tr>\n",
              "    <tr>\n",
              "      <th>8804</th>\n",
              "      <td>SID_09535</td>\n",
              "      <td>664</td>\n",
              "      <td>TCP</td>\n",
              "      <td>5</td>\n",
              "      <td>35.170248</td>\n",
              "      <td>AES</td>\n",
              "      <td>0.359200</td>\n",
              "      <td>1</td>\n",
              "      <td>Firefox</td>\n",
              "      <td>0</td>\n",
              "      <td>0</td>\n",
              "      <td>3.588237</td>\n",
              "      <td>0.306896</td>\n",
              "      <td>False</td>\n",
              "    </tr>\n",
              "    <tr>\n",
              "      <th>8805</th>\n",
              "      <td>SID_09536</td>\n",
              "      <td>406</td>\n",
              "      <td>TCP</td>\n",
              "      <td>4</td>\n",
              "      <td>86.664703</td>\n",
              "      <td>AES</td>\n",
              "      <td>0.537417</td>\n",
              "      <td>1</td>\n",
              "      <td>Chrome</td>\n",
              "      <td>1</td>\n",
              "      <td>0</td>\n",
              "      <td>4.473519</td>\n",
              "      <td>0.430104</td>\n",
              "      <td>False</td>\n",
              "    </tr>\n",
              "    <tr>\n",
              "      <th>8806</th>\n",
              "      <td>SID_09537</td>\n",
              "      <td>340</td>\n",
              "      <td>TCP</td>\n",
              "      <td>6</td>\n",
              "      <td>86.876744</td>\n",
              "      <td>No encryption</td>\n",
              "      <td>0.277069</td>\n",
              "      <td>4</td>\n",
              "      <td>Chrome</td>\n",
              "      <td>1</td>\n",
              "      <td>1</td>\n",
              "      <td>4.475935</td>\n",
              "      <td>0.244567</td>\n",
              "      <td>False</td>\n",
              "    </tr>\n",
              "  </tbody>\n",
              "</table>\n",
              "<p>8807 rows × 14 columns</p>\n",
              "</div>"
            ],
            "text/plain": [
              "     session_id  network_packet_size protocol_type  login_attempts  \\\n",
              "0     SID_00001                  599           TCP               4   \n",
              "1     SID_00002                  472           TCP               3   \n",
              "2     SID_00003                  629           TCP               3   \n",
              "3     SID_00004                  804           UDP               4   \n",
              "4     SID_00005                  453           TCP               5   \n",
              "...         ...                  ...           ...             ...   \n",
              "8802  SID_09533                  194          ICMP               3   \n",
              "8803  SID_09534                  380           TCP               3   \n",
              "8804  SID_09535                  664           TCP               5   \n",
              "8805  SID_09536                  406           TCP               4   \n",
              "8806  SID_09537                  340           TCP               6   \n",
              "\n",
              "      session_duration encryption_used  ip_reputation_score  failed_logins  \\\n",
              "0           492.983263             DES             0.606818              1   \n",
              "1          1557.996461             DES             0.301569              0   \n",
              "2            75.044262             DES             0.739164              2   \n",
              "3           601.248835             DES             0.123267              0   \n",
              "4           532.540888             AES             0.054874              1   \n",
              "...                ...             ...                  ...            ...   \n",
              "8802        226.049889             AES             0.517737              3   \n",
              "8803        182.848475   No encryption             0.408485              0   \n",
              "8804         35.170248             AES             0.359200              1   \n",
              "8805         86.664703             AES             0.537417              1   \n",
              "8806         86.876744   No encryption             0.277069              4   \n",
              "\n",
              "     browser_type  unusual_time_access  attack_detected  session_duration_log  \\\n",
              "0            Edge                    0                1              6.202502   \n",
              "1         Firefox                    0                0              7.351798   \n",
              "2          Chrome                    0                1              4.331316   \n",
              "3         Unknown                    0                1              6.400671   \n",
              "4         Firefox                    0                0              6.279536   \n",
              "...           ...                  ...              ...                   ...   \n",
              "8802       Chrome                    0                1              5.425170   \n",
              "8803       Chrome                    0                0              5.214112   \n",
              "8804      Firefox                    0                0              3.588237   \n",
              "8805       Chrome                    1                0              4.473519   \n",
              "8806       Chrome                    1                1              4.475935   \n",
              "\n",
              "      ip_reputation_score_log  network_packet_size_is64  \n",
              "0                    0.474256                     False  \n",
              "1                    0.263570                     False  \n",
              "2                    0.553405                     False  \n",
              "3                    0.116242                     False  \n",
              "4                    0.053421                     False  \n",
              "...                       ...                       ...  \n",
              "8802                 0.417220                     False  \n",
              "8803                 0.342515                     False  \n",
              "8804                 0.306896                     False  \n",
              "8805                 0.430104                     False  \n",
              "8806                 0.244567                     False  \n",
              "\n",
              "[8807 rows x 14 columns]"
            ]
          },
          "execution_count": 14,
          "metadata": {},
          "output_type": "execute_result"
        }
      ],
      "source": [
        "df['network_packet_size_is64'] = df['network_packet_size'] == 64\n",
        "df"
      ]
    },
    {
      "cell_type": "markdown",
      "metadata": {},
      "source": [
        "Checking the instances where the new feature is true is equivalent to checking where `network_packet_size` equals 64."
      ]
    },
    {
      "cell_type": "code",
      "execution_count": 15,
      "metadata": {},
      "outputs": [
        {
          "data": {
            "text/plain": [
              "132"
            ]
          },
          "execution_count": 15,
          "metadata": {},
          "output_type": "execute_result"
        }
      ],
      "source": [
        "(df['network_packet_size_is64'] == True).sum()"
      ]
    },
    {
      "cell_type": "markdown",
      "metadata": {},
      "source": [
        "## Failing to Login Attempts Ratio\n",
        "A new feature `fail_ratio` is created to capture the ratio of failed login attempts to total login attempts. This feature may provide insights into the likelihood of an attack based on login behavior."
      ]
    },
    {
      "cell_type": "code",
      "execution_count": 16,
      "metadata": {},
      "outputs": [
        {
          "data": {
            "application/vnd.microsoft.datawrangler.viewer.v0+json": {
              "columns": [
                {
                  "name": "index",
                  "rawType": "int64",
                  "type": "integer"
                },
                {
                  "name": "session_id",
                  "rawType": "object",
                  "type": "string"
                },
                {
                  "name": "network_packet_size",
                  "rawType": "int64",
                  "type": "integer"
                },
                {
                  "name": "protocol_type",
                  "rawType": "object",
                  "type": "string"
                },
                {
                  "name": "login_attempts",
                  "rawType": "int64",
                  "type": "integer"
                },
                {
                  "name": "session_duration",
                  "rawType": "float64",
                  "type": "float"
                },
                {
                  "name": "encryption_used",
                  "rawType": "object",
                  "type": "string"
                },
                {
                  "name": "ip_reputation_score",
                  "rawType": "float64",
                  "type": "float"
                },
                {
                  "name": "failed_logins",
                  "rawType": "int64",
                  "type": "integer"
                },
                {
                  "name": "browser_type",
                  "rawType": "object",
                  "type": "string"
                },
                {
                  "name": "unusual_time_access",
                  "rawType": "int64",
                  "type": "integer"
                },
                {
                  "name": "attack_detected",
                  "rawType": "int64",
                  "type": "integer"
                },
                {
                  "name": "session_duration_log",
                  "rawType": "float64",
                  "type": "float"
                },
                {
                  "name": "ip_reputation_score_log",
                  "rawType": "float64",
                  "type": "float"
                },
                {
                  "name": "network_packet_size_is64",
                  "rawType": "bool",
                  "type": "boolean"
                },
                {
                  "name": "fail_ratio",
                  "rawType": "float64",
                  "type": "float"
                }
              ],
              "ref": "27541041-c743-43a5-955d-05f64c90e238",
              "rows": [
                [
                  "0",
                  "SID_00001",
                  "599",
                  "TCP",
                  "4",
                  "492.9832634426563",
                  "DES",
                  "0.606818080396889",
                  "1",
                  "Edge",
                  "0",
                  "1",
                  "6.202501636943257",
                  "0.47425587586493034",
                  "False",
                  "0.25"
                ],
                [
                  "1",
                  "SID_00002",
                  "472",
                  "TCP",
                  "3",
                  "1557.9964611204384",
                  "DES",
                  "0.3015689675960893",
                  "0",
                  "Firefox",
                  "0",
                  "0",
                  "7.351797599087553",
                  "0.2635704349022164",
                  "False",
                  "0.0"
                ],
                [
                  "2",
                  "SID_00003",
                  "629",
                  "TCP",
                  "3",
                  "75.04426166420741",
                  "DES",
                  "0.7391643279163831",
                  "2",
                  "Chrome",
                  "0",
                  "1",
                  "4.331315561081424",
                  "0.5534047265468075",
                  "False",
                  "0.6666666666666666"
                ],
                [
                  "3",
                  "SID_00004",
                  "804",
                  "UDP",
                  "4",
                  "601.2488351708328",
                  "DES",
                  "0.1232671757524846",
                  "0",
                  "Unknown",
                  "0",
                  "1",
                  "6.4006707073641484",
                  "0.11624155997295549",
                  "False",
                  "0.0"
                ],
                [
                  "4",
                  "SID_00005",
                  "453",
                  "TCP",
                  "5",
                  "532.5408884201419",
                  "AES",
                  "0.0548738567431703",
                  "1",
                  "Firefox",
                  "0",
                  "0",
                  "6.279535709642165",
                  "0.05342119271123307",
                  "False",
                  "0.2"
                ],
                [
                  "5",
                  "SID_00006",
                  "453",
                  "UDP",
                  "5",
                  "380.4715502453134",
                  "AES",
                  "0.4224858607066699",
                  "2",
                  "Chrome",
                  "1",
                  "0",
                  "5.944036274536997",
                  "0.3524059472196838",
                  "False",
                  "0.4"
                ],
                [
                  "6",
                  "SID_00007",
                  "815",
                  "ICMP",
                  "4",
                  "728.1071646972356",
                  "AES",
                  "0.4137719285892984",
                  "1",
                  "Chrome",
                  "0",
                  "1",
                  "6.591820723533044",
                  "0.34626125926639556",
                  "False",
                  "0.25"
                ],
                [
                  "7",
                  "SID_00008",
                  "653",
                  "TCP",
                  "3",
                  "12.5999060098958",
                  "DES",
                  "0.0977193658576949",
                  "3",
                  "Chrome",
                  "1",
                  "1",
                  "2.6100628816810514",
                  "0.0932347237689534",
                  "False",
                  "1.0"
                ],
                [
                  "8",
                  "SID_00009",
                  "406",
                  "TCP",
                  "2",
                  "542.5588952208974",
                  "No encryption",
                  "0.2945796876500889",
                  "0",
                  "Chrome",
                  "1",
                  "0",
                  "6.2981380635623685",
                  "0.25818607694754575",
                  "False",
                  "0.0"
                ],
                [
                  "9",
                  "SID_00010",
                  "608",
                  "UDP",
                  "6",
                  "531.9441066211396",
                  "No encryption",
                  "0.4241165641663546",
                  "1",
                  "Chrome",
                  "0",
                  "0",
                  "6.278416553040681",
                  "0.3535516664980893",
                  "False",
                  "0.16666666666666666"
                ],
                [
                  "10",
                  "SID_00011",
                  "407",
                  "UDP",
                  "6",
                  "580.7219253670751",
                  "DES",
                  "0.1228937389064628",
                  "3",
                  "Firefox",
                  "0",
                  "1",
                  "6.365992542087218",
                  "0.11590904875612736",
                  "False",
                  "0.5"
                ],
                [
                  "11",
                  "SID_00012",
                  "406",
                  "UDP",
                  "9",
                  "191.0528369326706",
                  "DES",
                  "0.3397112713433893",
                  "1",
                  "Edge",
                  "0",
                  "1",
                  "5.257770526526969",
                  "0.29245412159928397",
                  "False",
                  "0.1111111111111111"
                ],
                [
                  "12",
                  "SID_00013",
                  "548",
                  "TCP",
                  "2",
                  "186.1476383415076",
                  "No encryption",
                  "0.4068986326067099",
                  "2",
                  "Safari",
                  "1",
                  "0",
                  "5.231897815203265",
                  "0.34138773048123905",
                  "False",
                  "1.0"
                ],
                [
                  "13",
                  "SID_00014",
                  "117",
                  "TCP",
                  "4",
                  "833.4889649491395",
                  "DES",
                  "0.4732919047923998",
                  "2",
                  "Unknown",
                  "0",
                  "1",
                  "6.7268195194663924",
                  "0.3874992881069672",
                  "False",
                  "0.5"
                ],
                [
                  "14",
                  "SID_00015",
                  "155",
                  "TCP",
                  "3",
                  "77.84995157439054",
                  "No encryption",
                  "0.3524755745227921",
                  "3",
                  "Chrome",
                  "0",
                  "1",
                  "4.367546699260356",
                  "0.30193667207286806",
                  "False",
                  "1.0"
                ],
                [
                  "15",
                  "SID_00016",
                  "387",
                  "ICMP",
                  "6",
                  "292.1361960073892",
                  "DES",
                  "0.2549124511362793",
                  "3",
                  "Chrome",
                  "0",
                  "1",
                  "5.680637333805497",
                  "0.22706581009962826",
                  "False",
                  "0.5"
                ],
                [
                  "16",
                  "SID_00017",
                  "297",
                  "TCP",
                  "8",
                  "1421.414371761036",
                  "AES",
                  "0.345367552273892",
                  "3",
                  "Firefox",
                  "0",
                  "1",
                  "7.260110968590089",
                  "0.2966672487876099",
                  "False",
                  "0.375"
                ],
                [
                  "17",
                  "SID_00019",
                  "318",
                  "TCP",
                  "5",
                  "504.98866997657433",
                  "AES",
                  "0.3942314568896387",
                  "1",
                  "Unknown",
                  "0",
                  "1",
                  "6.226514277686132",
                  "0.33234333649647607",
                  "False",
                  "0.2"
                ],
                [
                  "18",
                  "SID_00020",
                  "217",
                  "ICMP",
                  "2",
                  "883.6175678484254",
                  "DES",
                  "0.3101131570512104",
                  "0",
                  "Chrome",
                  "0",
                  "0",
                  "6.785155424889327",
                  "0.27011351291097707",
                  "False",
                  "0.0"
                ],
                [
                  "19",
                  "SID_00021",
                  "793",
                  "TCP",
                  "3",
                  "122.1894142089281",
                  "AES",
                  "0.3693246493280864",
                  "2",
                  "Firefox",
                  "0",
                  "0",
                  "4.813723123778942",
                  "0.31431766160210933",
                  "False",
                  "0.6666666666666666"
                ],
                [
                  "20",
                  "SID_00022",
                  "454",
                  "TCP",
                  "1",
                  "299.71154797427783",
                  "No encryption",
                  "0.3738745916057353",
                  "1",
                  "Chrome",
                  "0",
                  "0",
                  "5.706151492896184",
                  "0.317634917149662",
                  "False",
                  "1.0"
                ],
                [
                  "21",
                  "SID_00023",
                  "513",
                  "TCP",
                  "3",
                  "654.5261426459776",
                  "AES",
                  "0.4970295435549451",
                  "1",
                  "Firefox",
                  "0",
                  "0",
                  "6.485438184400827",
                  "0.4034828404163993",
                  "False",
                  "0.3333333333333333"
                ],
                [
                  "22",
                  "SID_00024",
                  "215",
                  "TCP",
                  "8",
                  "317.0788581057768",
                  "AES",
                  "0.461950842242767",
                  "2",
                  "Chrome",
                  "0",
                  "1",
                  "5.762299333502563",
                  "0.37977173712534135",
                  "False",
                  "0.25"
                ],
                [
                  "23",
                  "SID_00025",
                  "391",
                  "TCP",
                  "5",
                  "93.17112499822254",
                  "AES",
                  "0.536245189457405",
                  "2",
                  "Firefox",
                  "0",
                  "0",
                  "4.545113605911509",
                  "0.42934125053919664",
                  "False",
                  "0.4"
                ],
                [
                  "24",
                  "SID_00026",
                  "522",
                  "TCP",
                  "4",
                  "211.59584253834697",
                  "AES",
                  "0.1078985576055601",
                  "3",
                  "Firefox",
                  "0",
                  "1",
                  "5.359392910393718",
                  "0.10246502962610506",
                  "False",
                  "0.75"
                ],
                [
                  "25",
                  "SID_00027",
                  "269",
                  "TCP",
                  "9",
                  "92.70169297371484",
                  "No encryption",
                  "0.5068194256848887",
                  "0",
                  "Chrome",
                  "0",
                  "1",
                  "4.540116257103722",
                  "0.4100010887654488",
                  "False",
                  "0.0"
                ],
                [
                  "26",
                  "SID_00028",
                  "575",
                  "TCP",
                  "3",
                  "3286.221727767748",
                  "DES",
                  "0.4204711850467863",
                  "0",
                  "Chrome",
                  "0",
                  "0",
                  "8.09779802735745",
                  "0.35098863702842065",
                  "False",
                  "0.0"
                ],
                [
                  "27",
                  "SID_00029",
                  "379",
                  "UDP",
                  "2",
                  "214.98212232301017",
                  "AES",
                  "0.7863154442710675",
                  "2",
                  "Chrome",
                  "0",
                  "1",
                  "5.375195637235685",
                  "0.5801550873912499",
                  "False",
                  "1.0"
                ],
                [
                  "28",
                  "SID_00030",
                  "441",
                  "TCP",
                  "7",
                  "604.9615522886485",
                  "AES",
                  "0.3360318477936075",
                  "0",
                  "Firefox",
                  "0",
                  "1",
                  "6.4068165389883545",
                  "0.28970391299919723",
                  "False",
                  "0.0"
                ],
                [
                  "29",
                  "SID_00031",
                  "379",
                  "TCP",
                  "1",
                  "447.62330730772806",
                  "DES",
                  "0.0993898185618982",
                  "0",
                  "Chrome",
                  "0",
                  "0",
                  "6.106183576393454",
                  "0.09475531549731837",
                  "False",
                  "0.0"
                ],
                [
                  "30",
                  "SID_00032",
                  "870",
                  "UDP",
                  "2",
                  "674.2716307687525",
                  "DES",
                  "0.2720868405623606",
                  "1",
                  "Chrome",
                  "0",
                  "1",
                  "6.515115025878653",
                  "0.2406587334699387",
                  "False",
                  "0.5"
                ],
                [
                  "31",
                  "SID_00033",
                  "497",
                  "TCP",
                  "1",
                  "551.4693389958693",
                  "No encryption",
                  "0.0351392525704552",
                  "1",
                  "Chrome",
                  "1",
                  "0",
                  "6.3143979368219005",
                  "0.03453596121349475",
                  "False",
                  "1.0"
                ],
                [
                  "32",
                  "SID_00035",
                  "664",
                  "TCP",
                  "6",
                  "1650.942099269792",
                  "No encryption",
                  "0.3915442086550267",
                  "2",
                  "Chrome",
                  "1",
                  "0",
                  "7.409706904598533",
                  "0.3304140719822101",
                  "False",
                  "0.3333333333333333"
                ],
                [
                  "33",
                  "SID_00036",
                  "255",
                  "TCP",
                  "2",
                  "268.71323796747225",
                  "AES",
                  "0.5173361768348047",
                  "1",
                  "Chrome",
                  "1",
                  "0",
                  "5.597359312988089",
                  "0.41695628216655745",
                  "False",
                  "0.5"
                ],
                [
                  "34",
                  "SID_00037",
                  "541",
                  "TCP",
                  "5",
                  "162.2873080817919",
                  "No encryption",
                  "0.1379758234123113",
                  "2",
                  "Chrome",
                  "0",
                  "0",
                  "5.095511275472739",
                  "0.12925109067381776",
                  "False",
                  "0.4"
                ],
                [
                  "35",
                  "SID_00038",
                  "108",
                  "TCP",
                  "7",
                  "3325.3086894656926",
                  "AES",
                  "0.0795093219361312",
                  "2",
                  "Firefox",
                  "0",
                  "1",
                  "8.109618466470156",
                  "0.0765066063556634",
                  "False",
                  "0.2857142857142857"
                ],
                [
                  "36",
                  "SID_00039",
                  "234",
                  "TCP",
                  "5",
                  "1608.365096858205",
                  "DES",
                  "0.6459042598252172",
                  "4",
                  "Firefox",
                  "0",
                  "1",
                  "7.383595030424675",
                  "0.4982899352079331",
                  "False",
                  "0.8"
                ],
                [
                  "37",
                  "SID_00040",
                  "539",
                  "TCP",
                  "4",
                  "361.9425945829811",
                  "DES",
                  "0.3087899599206534",
                  "0",
                  "Chrome",
                  "0",
                  "0",
                  "5.894244680114462",
                  "0.26910301562715194",
                  "False",
                  "0.0"
                ],
                [
                  "38",
                  "SID_00041",
                  "647",
                  "TCP",
                  "2",
                  "1801.41325899014",
                  "No encryption",
                  "0.2991840394359722",
                  "1",
                  "Chrome",
                  "0",
                  "0",
                  "7.496881745388214",
                  "0.2617364054329229",
                  "False",
                  "0.5"
                ],
                [
                  "39",
                  "SID_00042",
                  "534",
                  "TCP",
                  "4",
                  "888.2555882449734",
                  "AES",
                  "0.0367521363575246",
                  "3",
                  "Chrome",
                  "0",
                  "1",
                  "6.790384695031449",
                  "0.036092880771624904",
                  "False",
                  "0.75"
                ],
                [
                  "40",
                  "SID_00043",
                  "476",
                  "TCP",
                  "4",
                  "460.1784563437431",
                  "DES",
                  "0.3974194615917665",
                  "2",
                  "Edge",
                  "0",
                  "0",
                  "6.13378507512637",
                  "0.33462729404064073",
                  "False",
                  "0.5"
                ],
                [
                  "41",
                  "SID_00044",
                  "439",
                  "TCP",
                  "5",
                  "1653.5169443242044",
                  "No encryption",
                  "0.2453131148697448",
                  "2",
                  "Chrome",
                  "0",
                  "0",
                  "7.411264368665649",
                  "0.21938699618372398",
                  "False",
                  "0.4"
                ],
                [
                  "42",
                  "SID_00045",
                  "204",
                  "TCP",
                  "4",
                  "899.8403029798167",
                  "DES",
                  "0.3373211395417786",
                  "1",
                  "Chrome",
                  "0",
                  "0",
                  "6.803327997703187",
                  "0.2906684634003133",
                  "False",
                  "0.25"
                ],
                [
                  "43",
                  "SID_00046",
                  "356",
                  "TCP",
                  "2",
                  "1401.0372662699012",
                  "DES",
                  "0.6729768279913647",
                  "1",
                  "Chrome",
                  "0",
                  "1",
                  "7.245681648032928",
                  "0.5146045713357631",
                  "False",
                  "0.5"
                ],
                [
                  "44",
                  "SID_00047",
                  "407",
                  "TCP",
                  "7",
                  "432.6976830475844",
                  "DES",
                  "0.081769711383674",
                  "3",
                  "Edge",
                  "1",
                  "1",
                  "6.072347708534186",
                  "0.07859832171203039",
                  "False",
                  "0.42857142857142855"
                ],
                [
                  "45",
                  "SID_00048",
                  "711",
                  "TCP",
                  "5",
                  "1282.4285713839413",
                  "AES",
                  "0.207445483534184",
                  "2",
                  "Edge",
                  "0",
                  "1",
                  "7.157290347328192",
                  "0.18850695731352357",
                  "False",
                  "0.4"
                ],
                [
                  "46",
                  "SID_00049",
                  "568",
                  "TCP",
                  "6",
                  "365.73555486698257",
                  "AES",
                  "0.5343683322456065",
                  "2",
                  "Unknown",
                  "0",
                  "1",
                  "5.904641029381648",
                  "0.42811878640799483",
                  "False",
                  "0.3333333333333333"
                ],
                [
                  "47",
                  "SID_00050",
                  "147",
                  "TCP",
                  "1",
                  "1062.659149730583",
                  "AES",
                  "0.2633726317268964",
                  "1",
                  "Edge",
                  "0",
                  "0",
                  "6.9694702705816365",
                  "0.23378483685024903",
                  "False",
                  "1.0"
                ],
                [
                  "48",
                  "SID_00051",
                  "564",
                  "TCP",
                  "2",
                  "457.4952008808089",
                  "No encryption",
                  "0.219704731816743",
                  "1",
                  "Edge",
                  "1",
                  "0",
                  "6.127949824642414",
                  "0.19860880635181777",
                  "False",
                  "0.5"
                ],
                [
                  "49",
                  "SID_00052",
                  "422",
                  "TCP",
                  "5",
                  "415.6167950841102",
                  "AES",
                  "0.4663241681421678",
                  "1",
                  "Chrome",
                  "0",
                  "0",
                  "6.0321668426664665",
                  "0.38275870326441386",
                  "False",
                  "0.2"
                ]
              ],
              "shape": {
                "columns": 15,
                "rows": 8807
              }
            },
            "text/html": [
              "<div>\n",
              "<style scoped>\n",
              "    .dataframe tbody tr th:only-of-type {\n",
              "        vertical-align: middle;\n",
              "    }\n",
              "\n",
              "    .dataframe tbody tr th {\n",
              "        vertical-align: top;\n",
              "    }\n",
              "\n",
              "    .dataframe thead th {\n",
              "        text-align: right;\n",
              "    }\n",
              "</style>\n",
              "<table border=\"1\" class=\"dataframe\">\n",
              "  <thead>\n",
              "    <tr style=\"text-align: right;\">\n",
              "      <th></th>\n",
              "      <th>session_id</th>\n",
              "      <th>network_packet_size</th>\n",
              "      <th>protocol_type</th>\n",
              "      <th>login_attempts</th>\n",
              "      <th>session_duration</th>\n",
              "      <th>encryption_used</th>\n",
              "      <th>ip_reputation_score</th>\n",
              "      <th>failed_logins</th>\n",
              "      <th>browser_type</th>\n",
              "      <th>unusual_time_access</th>\n",
              "      <th>attack_detected</th>\n",
              "      <th>session_duration_log</th>\n",
              "      <th>ip_reputation_score_log</th>\n",
              "      <th>network_packet_size_is64</th>\n",
              "      <th>fail_ratio</th>\n",
              "    </tr>\n",
              "  </thead>\n",
              "  <tbody>\n",
              "    <tr>\n",
              "      <th>0</th>\n",
              "      <td>SID_00001</td>\n",
              "      <td>599</td>\n",
              "      <td>TCP</td>\n",
              "      <td>4</td>\n",
              "      <td>492.983263</td>\n",
              "      <td>DES</td>\n",
              "      <td>0.606818</td>\n",
              "      <td>1</td>\n",
              "      <td>Edge</td>\n",
              "      <td>0</td>\n",
              "      <td>1</td>\n",
              "      <td>6.202502</td>\n",
              "      <td>0.474256</td>\n",
              "      <td>False</td>\n",
              "      <td>0.250000</td>\n",
              "    </tr>\n",
              "    <tr>\n",
              "      <th>1</th>\n",
              "      <td>SID_00002</td>\n",
              "      <td>472</td>\n",
              "      <td>TCP</td>\n",
              "      <td>3</td>\n",
              "      <td>1557.996461</td>\n",
              "      <td>DES</td>\n",
              "      <td>0.301569</td>\n",
              "      <td>0</td>\n",
              "      <td>Firefox</td>\n",
              "      <td>0</td>\n",
              "      <td>0</td>\n",
              "      <td>7.351798</td>\n",
              "      <td>0.263570</td>\n",
              "      <td>False</td>\n",
              "      <td>0.000000</td>\n",
              "    </tr>\n",
              "    <tr>\n",
              "      <th>2</th>\n",
              "      <td>SID_00003</td>\n",
              "      <td>629</td>\n",
              "      <td>TCP</td>\n",
              "      <td>3</td>\n",
              "      <td>75.044262</td>\n",
              "      <td>DES</td>\n",
              "      <td>0.739164</td>\n",
              "      <td>2</td>\n",
              "      <td>Chrome</td>\n",
              "      <td>0</td>\n",
              "      <td>1</td>\n",
              "      <td>4.331316</td>\n",
              "      <td>0.553405</td>\n",
              "      <td>False</td>\n",
              "      <td>0.666667</td>\n",
              "    </tr>\n",
              "    <tr>\n",
              "      <th>3</th>\n",
              "      <td>SID_00004</td>\n",
              "      <td>804</td>\n",
              "      <td>UDP</td>\n",
              "      <td>4</td>\n",
              "      <td>601.248835</td>\n",
              "      <td>DES</td>\n",
              "      <td>0.123267</td>\n",
              "      <td>0</td>\n",
              "      <td>Unknown</td>\n",
              "      <td>0</td>\n",
              "      <td>1</td>\n",
              "      <td>6.400671</td>\n",
              "      <td>0.116242</td>\n",
              "      <td>False</td>\n",
              "      <td>0.000000</td>\n",
              "    </tr>\n",
              "    <tr>\n",
              "      <th>4</th>\n",
              "      <td>SID_00005</td>\n",
              "      <td>453</td>\n",
              "      <td>TCP</td>\n",
              "      <td>5</td>\n",
              "      <td>532.540888</td>\n",
              "      <td>AES</td>\n",
              "      <td>0.054874</td>\n",
              "      <td>1</td>\n",
              "      <td>Firefox</td>\n",
              "      <td>0</td>\n",
              "      <td>0</td>\n",
              "      <td>6.279536</td>\n",
              "      <td>0.053421</td>\n",
              "      <td>False</td>\n",
              "      <td>0.200000</td>\n",
              "    </tr>\n",
              "    <tr>\n",
              "      <th>...</th>\n",
              "      <td>...</td>\n",
              "      <td>...</td>\n",
              "      <td>...</td>\n",
              "      <td>...</td>\n",
              "      <td>...</td>\n",
              "      <td>...</td>\n",
              "      <td>...</td>\n",
              "      <td>...</td>\n",
              "      <td>...</td>\n",
              "      <td>...</td>\n",
              "      <td>...</td>\n",
              "      <td>...</td>\n",
              "      <td>...</td>\n",
              "      <td>...</td>\n",
              "      <td>...</td>\n",
              "    </tr>\n",
              "    <tr>\n",
              "      <th>8802</th>\n",
              "      <td>SID_09533</td>\n",
              "      <td>194</td>\n",
              "      <td>ICMP</td>\n",
              "      <td>3</td>\n",
              "      <td>226.049889</td>\n",
              "      <td>AES</td>\n",
              "      <td>0.517737</td>\n",
              "      <td>3</td>\n",
              "      <td>Chrome</td>\n",
              "      <td>0</td>\n",
              "      <td>1</td>\n",
              "      <td>5.425170</td>\n",
              "      <td>0.417220</td>\n",
              "      <td>False</td>\n",
              "      <td>1.000000</td>\n",
              "    </tr>\n",
              "    <tr>\n",
              "      <th>8803</th>\n",
              "      <td>SID_09534</td>\n",
              "      <td>380</td>\n",
              "      <td>TCP</td>\n",
              "      <td>3</td>\n",
              "      <td>182.848475</td>\n",
              "      <td>No encryption</td>\n",
              "      <td>0.408485</td>\n",
              "      <td>0</td>\n",
              "      <td>Chrome</td>\n",
              "      <td>0</td>\n",
              "      <td>0</td>\n",
              "      <td>5.214112</td>\n",
              "      <td>0.342515</td>\n",
              "      <td>False</td>\n",
              "      <td>0.000000</td>\n",
              "    </tr>\n",
              "    <tr>\n",
              "      <th>8804</th>\n",
              "      <td>SID_09535</td>\n",
              "      <td>664</td>\n",
              "      <td>TCP</td>\n",
              "      <td>5</td>\n",
              "      <td>35.170248</td>\n",
              "      <td>AES</td>\n",
              "      <td>0.359200</td>\n",
              "      <td>1</td>\n",
              "      <td>Firefox</td>\n",
              "      <td>0</td>\n",
              "      <td>0</td>\n",
              "      <td>3.588237</td>\n",
              "      <td>0.306896</td>\n",
              "      <td>False</td>\n",
              "      <td>0.200000</td>\n",
              "    </tr>\n",
              "    <tr>\n",
              "      <th>8805</th>\n",
              "      <td>SID_09536</td>\n",
              "      <td>406</td>\n",
              "      <td>TCP</td>\n",
              "      <td>4</td>\n",
              "      <td>86.664703</td>\n",
              "      <td>AES</td>\n",
              "      <td>0.537417</td>\n",
              "      <td>1</td>\n",
              "      <td>Chrome</td>\n",
              "      <td>1</td>\n",
              "      <td>0</td>\n",
              "      <td>4.473519</td>\n",
              "      <td>0.430104</td>\n",
              "      <td>False</td>\n",
              "      <td>0.250000</td>\n",
              "    </tr>\n",
              "    <tr>\n",
              "      <th>8806</th>\n",
              "      <td>SID_09537</td>\n",
              "      <td>340</td>\n",
              "      <td>TCP</td>\n",
              "      <td>6</td>\n",
              "      <td>86.876744</td>\n",
              "      <td>No encryption</td>\n",
              "      <td>0.277069</td>\n",
              "      <td>4</td>\n",
              "      <td>Chrome</td>\n",
              "      <td>1</td>\n",
              "      <td>1</td>\n",
              "      <td>4.475935</td>\n",
              "      <td>0.244567</td>\n",
              "      <td>False</td>\n",
              "      <td>0.666667</td>\n",
              "    </tr>\n",
              "  </tbody>\n",
              "</table>\n",
              "<p>8807 rows × 15 columns</p>\n",
              "</div>"
            ],
            "text/plain": [
              "     session_id  network_packet_size protocol_type  login_attempts  \\\n",
              "0     SID_00001                  599           TCP               4   \n",
              "1     SID_00002                  472           TCP               3   \n",
              "2     SID_00003                  629           TCP               3   \n",
              "3     SID_00004                  804           UDP               4   \n",
              "4     SID_00005                  453           TCP               5   \n",
              "...         ...                  ...           ...             ...   \n",
              "8802  SID_09533                  194          ICMP               3   \n",
              "8803  SID_09534                  380           TCP               3   \n",
              "8804  SID_09535                  664           TCP               5   \n",
              "8805  SID_09536                  406           TCP               4   \n",
              "8806  SID_09537                  340           TCP               6   \n",
              "\n",
              "      session_duration encryption_used  ip_reputation_score  failed_logins  \\\n",
              "0           492.983263             DES             0.606818              1   \n",
              "1          1557.996461             DES             0.301569              0   \n",
              "2            75.044262             DES             0.739164              2   \n",
              "3           601.248835             DES             0.123267              0   \n",
              "4           532.540888             AES             0.054874              1   \n",
              "...                ...             ...                  ...            ...   \n",
              "8802        226.049889             AES             0.517737              3   \n",
              "8803        182.848475   No encryption             0.408485              0   \n",
              "8804         35.170248             AES             0.359200              1   \n",
              "8805         86.664703             AES             0.537417              1   \n",
              "8806         86.876744   No encryption             0.277069              4   \n",
              "\n",
              "     browser_type  unusual_time_access  attack_detected  session_duration_log  \\\n",
              "0            Edge                    0                1              6.202502   \n",
              "1         Firefox                    0                0              7.351798   \n",
              "2          Chrome                    0                1              4.331316   \n",
              "3         Unknown                    0                1              6.400671   \n",
              "4         Firefox                    0                0              6.279536   \n",
              "...           ...                  ...              ...                   ...   \n",
              "8802       Chrome                    0                1              5.425170   \n",
              "8803       Chrome                    0                0              5.214112   \n",
              "8804      Firefox                    0                0              3.588237   \n",
              "8805       Chrome                    1                0              4.473519   \n",
              "8806       Chrome                    1                1              4.475935   \n",
              "\n",
              "      ip_reputation_score_log  network_packet_size_is64  fail_ratio  \n",
              "0                    0.474256                     False    0.250000  \n",
              "1                    0.263570                     False    0.000000  \n",
              "2                    0.553405                     False    0.666667  \n",
              "3                    0.116242                     False    0.000000  \n",
              "4                    0.053421                     False    0.200000  \n",
              "...                       ...                       ...         ...  \n",
              "8802                 0.417220                     False    1.000000  \n",
              "8803                 0.342515                     False    0.000000  \n",
              "8804                 0.306896                     False    0.200000  \n",
              "8805                 0.430104                     False    0.250000  \n",
              "8806                 0.244567                     False    0.666667  \n",
              "\n",
              "[8807 rows x 15 columns]"
            ]
          },
          "execution_count": 16,
          "metadata": {},
          "output_type": "execute_result"
        }
      ],
      "source": [
        "df['fail_ratio'] = df['failed_logins'] / df['login_attempts']\n",
        "df"
      ]
    },
    {
      "cell_type": "code",
      "execution_count": 17,
      "metadata": {},
      "outputs": [
        {
          "data": {
            "image/png": "[encoded data removed]",
            "text/plain": [
              "<Figure size 500x500 with 1 Axes>"
            ]
          },
          "metadata": {},
          "output_type": "display_data"
        }
      ],
      "source": [
        "sns.displot(df['fail_ratio'])\n",
        "plt.show()"
      ]
    },
    {
      "cell_type": "markdown",
      "metadata": {},
      "source": [
        "The distribution of the new feature is visualized. It is non parametically distributed."
      ]
    },
    {
      "cell_type": "markdown",
      "metadata": {},
      "source": [
        "## Loading Processed Data\n",
        "The processed DataFrame with the new features is saved to a new CSV file located at `data/processed/cybersecurity_data_eda.csv`."
      ]
    },
    {
      "cell_type": "code",
      "execution_count": 18,
      "metadata": {},
      "outputs": [
        {
          "data": {
            "application/vnd.microsoft.datawrangler.viewer.v0+json": {
              "columns": [
                {
                  "name": "index",
                  "rawType": "int64",
                  "type": "integer"
                },
                {
                  "name": "session_id",
                  "rawType": "object",
                  "type": "string"
                },
                {
                  "name": "network_packet_size",
                  "rawType": "int64",
                  "type": "integer"
                },
                {
                  "name": "protocol_type",
                  "rawType": "object",
                  "type": "string"
                },
                {
                  "name": "login_attempts",
                  "rawType": "int64",
                  "type": "integer"
                },
                {
                  "name": "session_duration",
                  "rawType": "float64",
                  "type": "float"
                },
                {
                  "name": "encryption_used",
                  "rawType": "object",
                  "type": "string"
                },
                {
                  "name": "ip_reputation_score",
                  "rawType": "float64",
                  "type": "float"
                },
                {
                  "name": "failed_logins",
                  "rawType": "int64",
                  "type": "integer"
                },
                {
                  "name": "browser_type",
                  "rawType": "object",
                  "type": "string"
                },
                {
                  "name": "unusual_time_access",
                  "rawType": "int64",
                  "type": "integer"
                },
                {
                  "name": "attack_detected",
                  "rawType": "int64",
                  "type": "integer"
                },
                {
                  "name": "session_duration_log",
                  "rawType": "float64",
                  "type": "float"
                },
                {
                  "name": "ip_reputation_score_log",
                  "rawType": "float64",
                  "type": "float"
                },
                {
                  "name": "network_packet_size_is64",
                  "rawType": "bool",
                  "type": "boolean"
                },
                {
                  "name": "fail_ratio",
                  "rawType": "float64",
                  "type": "float"
                }
              ],
              "ref": "44f4bb42-7a85-410d-a2ea-c55c24986d90",
              "rows": [
                [
                  "0",
                  "SID_00001",
                  "599",
                  "TCP",
                  "4",
                  "492.9832634426563",
                  "DES",
                  "0.606818080396889",
                  "1",
                  "Edge",
                  "0",
                  "1",
                  "6.202501636943257",
                  "0.47425587586493034",
                  "False",
                  "0.25"
                ],
                [
                  "1",
                  "SID_00002",
                  "472",
                  "TCP",
                  "3",
                  "1557.9964611204384",
                  "DES",
                  "0.3015689675960893",
                  "0",
                  "Firefox",
                  "0",
                  "0",
                  "7.351797599087553",
                  "0.2635704349022164",
                  "False",
                  "0.0"
                ],
                [
                  "2",
                  "SID_00003",
                  "629",
                  "TCP",
                  "3",
                  "75.04426166420741",
                  "DES",
                  "0.7391643279163831",
                  "2",
                  "Chrome",
                  "0",
                  "1",
                  "4.331315561081424",
                  "0.5534047265468075",
                  "False",
                  "0.6666666666666666"
                ],
                [
                  "3",
                  "SID_00004",
                  "804",
                  "UDP",
                  "4",
                  "601.2488351708328",
                  "DES",
                  "0.1232671757524846",
                  "0",
                  "Unknown",
                  "0",
                  "1",
                  "6.4006707073641484",
                  "0.11624155997295549",
                  "False",
                  "0.0"
                ],
                [
                  "4",
                  "SID_00005",
                  "453",
                  "TCP",
                  "5",
                  "532.5408884201419",
                  "AES",
                  "0.0548738567431703",
                  "1",
                  "Firefox",
                  "0",
                  "0",
                  "6.279535709642165",
                  "0.05342119271123307",
                  "False",
                  "0.2"
                ]
              ],
              "shape": {
                "columns": 15,
                "rows": 5
              }
            },
            "text/html": [
              "<div>\n",
              "<style scoped>\n",
              "    .dataframe tbody tr th:only-of-type {\n",
              "        vertical-align: middle;\n",
              "    }\n",
              "\n",
              "    .dataframe tbody tr th {\n",
              "        vertical-align: top;\n",
              "    }\n",
              "\n",
              "    .dataframe thead th {\n",
              "        text-align: right;\n",
              "    }\n",
              "</style>\n",
              "<table border=\"1\" class=\"dataframe\">\n",
              "  <thead>\n",
              "    <tr style=\"text-align: right;\">\n",
              "      <th></th>\n",
              "      <th>session_id</th>\n",
              "      <th>network_packet_size</th>\n",
              "      <th>protocol_type</th>\n",
              "      <th>login_attempts</th>\n",
              "      <th>session_duration</th>\n",
              "      <th>encryption_used</th>\n",
              "      <th>ip_reputation_score</th>\n",
              "      <th>failed_logins</th>\n",
              "      <th>browser_type</th>\n",
              "      <th>unusual_time_access</th>\n",
              "      <th>attack_detected</th>\n",
              "      <th>session_duration_log</th>\n",
              "      <th>ip_reputation_score_log</th>\n",
              "      <th>network_packet_size_is64</th>\n",
              "      <th>fail_ratio</th>\n",
              "    </tr>\n",
              "  </thead>\n",
              "  <tbody>\n",
              "    <tr>\n",
              "      <th>0</th>\n",
              "      <td>SID_00001</td>\n",
              "      <td>599</td>\n",
              "      <td>TCP</td>\n",
              "      <td>4</td>\n",
              "      <td>492.983263</td>\n",
              "      <td>DES</td>\n",
              "      <td>0.606818</td>\n",
              "      <td>1</td>\n",
              "      <td>Edge</td>\n",
              "      <td>0</td>\n",
              "      <td>1</td>\n",
              "      <td>6.202502</td>\n",
              "      <td>0.474256</td>\n",
              "      <td>False</td>\n",
              "      <td>0.250000</td>\n",
              "    </tr>\n",
              "    <tr>\n",
              "      <th>1</th>\n",
              "      <td>SID_00002</td>\n",
              "      <td>472</td>\n",
              "      <td>TCP</td>\n",
              "      <td>3</td>\n",
              "      <td>1557.996461</td>\n",
              "      <td>DES</td>\n",
              "      <td>0.301569</td>\n",
              "      <td>0</td>\n",
              "      <td>Firefox</td>\n",
              "      <td>0</td>\n",
              "      <td>0</td>\n",
              "      <td>7.351798</td>\n",
              "      <td>0.263570</td>\n",
              "      <td>False</td>\n",
              "      <td>0.000000</td>\n",
              "    </tr>\n",
              "    <tr>\n",
              "      <th>2</th>\n",
              "      <td>SID_00003</td>\n",
              "      <td>629</td>\n",
              "      <td>TCP</td>\n",
              "      <td>3</td>\n",
              "      <td>75.044262</td>\n",
              "      <td>DES</td>\n",
              "      <td>0.739164</td>\n",
              "      <td>2</td>\n",
              "      <td>Chrome</td>\n",
              "      <td>0</td>\n",
              "      <td>1</td>\n",
              "      <td>4.331316</td>\n",
              "      <td>0.553405</td>\n",
              "      <td>False</td>\n",
              "      <td>0.666667</td>\n",
              "    </tr>\n",
              "    <tr>\n",
              "      <th>3</th>\n",
              "      <td>SID_00004</td>\n",
              "      <td>804</td>\n",
              "      <td>UDP</td>\n",
              "      <td>4</td>\n",
              "      <td>601.248835</td>\n",
              "      <td>DES</td>\n",
              "      <td>0.123267</td>\n",
              "      <td>0</td>\n",
              "      <td>Unknown</td>\n",
              "      <td>0</td>\n",
              "      <td>1</td>\n",
              "      <td>6.400671</td>\n",
              "      <td>0.116242</td>\n",
              "      <td>False</td>\n",
              "      <td>0.000000</td>\n",
              "    </tr>\n",
              "    <tr>\n",
              "      <th>4</th>\n",
              "      <td>SID_00005</td>\n",
              "      <td>453</td>\n",
              "      <td>TCP</td>\n",
              "      <td>5</td>\n",
              "      <td>532.540888</td>\n",
              "      <td>AES</td>\n",
              "      <td>0.054874</td>\n",
              "      <td>1</td>\n",
              "      <td>Firefox</td>\n",
              "      <td>0</td>\n",
              "      <td>0</td>\n",
              "      <td>6.279536</td>\n",
              "      <td>0.053421</td>\n",
              "      <td>False</td>\n",
              "      <td>0.200000</td>\n",
              "    </tr>\n",
              "  </tbody>\n",
              "</table>\n",
              "</div>"
            ],
            "text/plain": [
              "  session_id  network_packet_size protocol_type  login_attempts  \\\n",
              "0  SID_00001                  599           TCP               4   \n",
              "1  SID_00002                  472           TCP               3   \n",
              "2  SID_00003                  629           TCP               3   \n",
              "3  SID_00004                  804           UDP               4   \n",
              "4  SID_00005                  453           TCP               5   \n",
              "\n",
              "   session_duration encryption_used  ip_reputation_score  failed_logins  \\\n",
              "0        492.983263             DES             0.606818              1   \n",
              "1       1557.996461             DES             0.301569              0   \n",
              "2         75.044262             DES             0.739164              2   \n",
              "3        601.248835             DES             0.123267              0   \n",
              "4        532.540888             AES             0.054874              1   \n",
              "\n",
              "  browser_type  unusual_time_access  attack_detected  session_duration_log  \\\n",
              "0         Edge                    0                1              6.202502   \n",
              "1      Firefox                    0                0              7.351798   \n",
              "2       Chrome                    0                1              4.331316   \n",
              "3      Unknown                    0                1              6.400671   \n",
              "4      Firefox                    0                0              6.279536   \n",
              "\n",
              "   ip_reputation_score_log  network_packet_size_is64  fail_ratio  \n",
              "0                 0.474256                     False    0.250000  \n",
              "1                 0.263570                     False    0.000000  \n",
              "2                 0.553405                     False    0.666667  \n",
              "3                 0.116242                     False    0.000000  \n",
              "4                 0.053421                     False    0.200000  "
            ]
          },
          "execution_count": 18,
          "metadata": {},
          "output_type": "execute_result"
        }
      ],
      "source": [
        "df.head()"
      ]
    },
    {
      "cell_type": "code",
      "execution_count": 19,
      "metadata": {},
      "outputs": [],
      "source": [
        "df.to_csv('data/processed/cybersecurity_intrusion_data_eda.csv', index=False)"
      ]
    },
    {
      "cell_type": "markdown",
      "metadata": {},
      "source": [
        "---"
      ]
    },
    {
      "cell_type": "markdown",
      "metadata": {},
      "source": [
        "# Hypotheses Testing"
      ]
    },
    {
      "cell_type": "markdown",
      "metadata": {},
      "source": [
        "## Hypothesis 1:\n",
        "- > H0: More failed logins does not indicate an attack.\n",
        "- > H1: More failed attempts are more likely to be attacks."
      ]
    },
    {
      "cell_type": "code",
      "execution_count": 20,
      "metadata": {},
      "outputs": [],
      "source": [
        "# Split to attack and non-attack groups\n",
        "df_att = df[df['attack_detected']==1]\n",
        "df_non_att = df[df['attack_detected']==0]"
      ]
    },
    {
      "cell_type": "code",
      "execution_count": 21,
      "metadata": {},
      "outputs": [
        {
          "name": "stdout",
          "output_type": "stream",
          "text": [
            "Attack group: stat=0.9046771629357571, p=3.841523727708554e-17\n",
            "Non-attack group: stat=0.8019297442189296, p=2.933942761904523e-24\n"
          ]
        }
      ],
      "source": [
        "# Sample and do Shapiro-Wilk test for normality\n",
        "att_sample = df_att['failed_logins'].sample(500, random_state=123)\n",
        "non_att_sample = df_non_att['failed_logins'].sample(500, random_state=123)\n",
        "\n",
        "stat_att, p_att = shapiro(att_sample)\n",
        "stat_non_att, p_non_att = shapiro(non_att_sample)\n",
        "\n",
        "print(f\"Attack group: stat={stat_att}, p={p_att}\")\n",
        "print(f\"Non-attack group: stat={stat_non_att}, p={p_non_att}\")"
      ]
    },
    {
      "cell_type": "markdown",
      "metadata": {},
      "source": [
        "Both p-values less than 0.05, reject normality, use Mann-Whitney U test for non-parametric data. Expect higher failed attempts in attack group so use `greater` alternative."
      ]
    },
    {
      "cell_type": "code",
      "execution_count": 22,
      "metadata": {},
      "outputs": [
        {
          "name": "stdout",
          "output_type": "stream",
          "text": [
            "Mann-Whitney U test: U-statistic=12393728.0, p-value=1.618723745844542e-148\n"
          ]
        }
      ],
      "source": [
        "# Mann-Whitney U test\n",
        "u_stat, p_value = mannwhitneyu(df_att['failed_logins'], df_non_att['failed_logins'], alternative='greater')\n",
        "print(f\"Mann-Whitney U test: U-statistic={u_stat}, p-value={p_value}\")"
      ]
    },
    {
      "cell_type": "markdown",
      "metadata": {},
      "source": [
        "Mann-Whitney U test reveals p-value much less than 0.05, enough evidence to reject H0 at the 5% significant level, H1 accepted.\n",
        "\n",
        "**Conclusion:** ***More failed attempts are more likely to be attacks.***"
      ]
    },
    {
      "cell_type": "markdown",
      "metadata": {},
      "source": [
        "### Suporting visualizations"
      ]
    },
    {
      "cell_type": "code",
      "execution_count": 23,
      "metadata": {},
      "outputs": [
        {
          "data": {
            "image/png": "[encoded data removed]",
            "text/plain": [
              "<Figure size 640x480 with 1 Axes>"
            ]
          },
          "metadata": {},
          "output_type": "display_data"
        }
      ],
      "source": [
        "# Boxplot visualization\n",
        "sns.boxplot(data = df, x='attack_detected', y='failed_logins')\n",
        "plt.show()"
      ]
    },
    {
      "cell_type": "markdown",
      "metadata": {},
      "source": [
        "## Hypothesis 2:\n",
        "- > H0: There is no significant relationship between session duration and the likelihood of an attack.\n",
        "- > H1: Sessions too long or too short are more likely to be attacks. "
      ]
    },
    {
      "cell_type": "markdown",
      "metadata": {},
      "source": [
        "`df_att` and `df_non_att` are used again so normality tests can be skipped. Mann-Whitney U test is used again but with `two-sided` alternative to test for both extremes."
      ]
    },
    {
      "cell_type": "code",
      "execution_count": 24,
      "metadata": {},
      "outputs": [
        {
          "name": "stdout",
          "output_type": "stream",
          "text": [
            "Mann-Whitney U test: U-statistic=9701707.5, p-value=0.06085936458301058\n"
          ]
        }
      ],
      "source": [
        "# Mann-Whitney U test\n",
        "u_stat, p_value = mannwhitneyu(df_att['session_duration'], df_non_att['session_duration'], alternative='two-sided')\n",
        "print(f\"Mann-Whitney U test: U-statistic={u_stat}, p-value={p_value}\")"
      ]
    },
    {
      "cell_type": "markdown",
      "metadata": {},
      "source": [
        "Mann-Whitney U test reveals p-value of 0.06, larger than 0.05, Not enough evidence to reject H0 at the 5% significance level, H0 is accepted.\n",
        "\n",
        "**Conclusion:** ***There is no significant relationship between session duration and the likelihood of an attack.***"
      ]
    },
    {
      "cell_type": "markdown",
      "metadata": {},
      "source": [
        "### Supporting visualizations"
      ]
    },
    {
      "cell_type": "code",
      "execution_count": 25,
      "metadata": {},
      "outputs": [
        {
          "data": {
            "image/png": "[encoded data removed]",
            "text/plain": [
              "<Figure size 900x300 with 1 Axes>"
            ]
          },
          "metadata": {},
          "output_type": "display_data"
        },
        {
          "data": {
            "image/png": "[encoded data removed]",
            "text/plain": [
              "<Figure size 900x300 with 1 Axes>"
            ]
          },
          "metadata": {},
          "output_type": "display_data"
        }
      ],
      "source": [
        "# Distribution plots for session duration\n",
        "sns.displot(df_att['session_duration_log'], height=3, aspect=3)\n",
        "plt.title(f'Session Duration Distribution for Attacks')\n",
        "plt.show()\n",
        "\n",
        "sns.displot(df_non_att['session_duration_log'], height=3, aspect=3)\n",
        "plt.title(f'Session Duration Distribution for Non-Attacks')\n",
        "plt.show()"
      ]
    },
    {
      "cell_type": "markdown",
      "metadata": {},
      "source": [
        "## Hypothesis 3:\n",
        "- > H0: There is no correlation between the number of login attempts and the chance of attack.\n",
        "- > H1: The number of login attempts is positively correlated with the chance of attack."
      ]
    },
    {
      "cell_type": "code",
      "execution_count": 26,
      "metadata": {},
      "outputs": [
        {
          "name": "stdout",
          "output_type": "stream",
          "text": [
            "Shapiro-Wilk test for login_attempts: p = 1.3509284654120495e-38\n"
          ]
        }
      ],
      "source": [
        "# Shapiro-Wilk test for login_attempts\n",
        "stat, p = shapiro(df['login_attempts'].sample(n=5000, random_state=42))\n",
        "print(f\"Shapiro-Wilk test for login_attempts: p = {p}\")"
      ]
    },
    {
      "cell_type": "markdown",
      "metadata": {},
      "source": [
        "Shapiro-Wilk test for `login_attempts` shows non-normality, so use Spearman's rank correlation."
      ]
    },
    {
      "cell_type": "code",
      "execution_count": 27,
      "metadata": {},
      "outputs": [
        {
          "name": "stdout",
          "output_type": "stream",
          "text": [
            "Spearman's rank correlation: corr=0.32411420767152715, p-value=1.631170541577955e-214\n"
          ]
        }
      ],
      "source": [
        "# Spearman's rank correlation\n",
        "corr, p_value = spearmanr(df['login_attempts'], df['attack_detected'])\n",
        "print(f\"Spearman's rank correlation: corr={corr}, p-value={p_value}\")"
      ]
    },
    {
      "cell_type": "markdown",
      "metadata": {},
      "source": [
        "Spearman's rank shows correlation coefficient of 0.32 with p-value much smaller than 0.05. Results shows strong positive correlation. H0 is rejected, H1 is accepted.\n",
        "\n",
        "**Conclusion:** ***The number of login attempts is positively correlated with the chance of attack.***"
      ]
    },
    {
      "cell_type": "code",
      "execution_count": 28,
      "metadata": {},
      "outputs": [
        {
          "data": {
            "image/png": "[encoded data removed]",
            "text/plain": [
              "<Figure size 1000x400 with 1 Axes>"
            ]
          },
          "metadata": {},
          "output_type": "display_data"
        }
      ],
      "source": [
        "# Distribution plots for login_attempts\n",
        "plt.figure(figsize=(10, 4))\n",
        "sns.kdeplot(df[df['attack_detected']==0]['login_attempts'], label='No Attack', fill=True)\n",
        "sns.kdeplot(df[df['attack_detected']==1]['login_attempts'], label='Attack', fill=True)\n",
        "plt.title('Distribution of Login Attempts')\n",
        "plt.xlabel('Login Attempts')\n",
        "plt.legend()\n",
        "plt.show()"
      ]
    },
    {
      "cell_type": "markdown",
      "metadata": {},
      "source": [
        "## Hypothesis 4:\n",
        "- > H0: No significant difference in numbers of attacks between protocols.\n",
        "- > H1: Certain protocols are more likely to be used for attacks."
      ]
    },
    {
      "cell_type": "markdown",
      "metadata": {},
      "source": [
        "Chi-squared test is used for categorical data."
      ]
    },
    {
      "cell_type": "code",
      "execution_count": 29,
      "metadata": {},
      "outputs": [
        {
          "name": "stdout",
          "output_type": "stream",
          "text": [
            "Chi-squared test: chi2=4.546516040405871, p-value=0.10297613463186639\n"
          ]
        }
      ],
      "source": [
        "# Chi-squared test for protocol_type\n",
        "contingency_table = pd.crosstab(df['protocol_type'], df['attack_detected'])\n",
        "chi2, p, dof, expected = chi2_contingency(contingency_table)\n",
        "print(f\"Chi-squared test: chi2={chi2}, p-value={p}\")"
      ]
    },
    {
      "cell_type": "markdown",
      "metadata": {},
      "source": [
        "Chi-squared test returns p-value of 0.10. As p-value is larger than 0.05, there is not enough evidence to reject H0 at the 5% significance level, H0 is accepted.\n",
        "\n",
        "**Conclusion:** ***No significant difference in numbers of attacks between protocols.***"
      ]
    },
    {
      "cell_type": "markdown",
      "metadata": {},
      "source": [
        "### Supporting visualizations"
      ]
    },
    {
      "cell_type": "code",
      "execution_count": 30,
      "metadata": {},
      "outputs": [
        {
          "data": {
            "image/png": "[encoded data removed]",
            "text/plain": [
              "<Figure size 1500x500 with 3 Axes>"
            ]
          },
          "metadata": {},
          "output_type": "display_data"
        }
      ],
      "source": [
        "# Pie charts of % attacks of each protocol types\n",
        "protocol_types = df['protocol_type'].unique() # Get unique protocol types\n",
        "\n",
        "# Plot pie charts in subplots\n",
        "fig, ax = plt.subplots(1, len(protocol_types), figsize=(15, 5))\n",
        "for i, protocol in zip(ax, protocol_types):\n",
        "    data = df[df['protocol_type'] == protocol]['attack_detected'].value_counts()\n",
        "    i.pie(\n",
        "        data, \n",
        "        labels=['No Attack', 'Attack'], \n",
        "        autopct='%1.1f%%',\n",
        "        startangle=90\n",
        "        )\n",
        "    i.set_title(f'Protocol: {protocol}')\n",
        "plt.tight_layout()\n",
        "plt.show()"
      ]
    },
    {
      "cell_type": "markdown",
      "metadata": {},
      "source": [
        "## Hypothesis 5:\n",
        "- > H0: High IP Reputation score does not increase number of attacks.\n",
        "- > H1: Sessions from less trusted IPs are more likely to be attacks."
      ]
    },
    {
      "cell_type": "markdown",
      "metadata": {},
      "source": [
        "`df_att` and `df_non_attack` are used, which are known to be non parametric. `ip_reputation` is numerical, so Mann-Whitney U test is used again with `greater` alternative, expecting higher reputation scores in attack group (`ip_reputation` is rated with higher values being less trustworthy)."
      ]
    },
    {
      "cell_type": "code",
      "execution_count": 31,
      "metadata": {},
      "outputs": [
        {
          "name": "stdout",
          "output_type": "stream",
          "text": [
            "Mann-Whitney U test: U-statistic=11449349.0, p-value=7.944258394040855e-63\n"
          ]
        }
      ],
      "source": [
        "# Mann-Whitney U test for ip_reputation\n",
        "u_stat, p_value = mannwhitneyu(df_att['ip_reputation_score'], df_non_att['ip_reputation_score'], alternative='greater')\n",
        "print(f\"Mann-Whitney U test: U-statistic={u_stat}, p-value={p_value}\")"
      ]
    },
    {
      "cell_type": "markdown",
      "metadata": {},
      "source": [
        "Mann-Whitney U test returns p-value much smaller than 0.05, there is enough evidence to reject H0 at the 5% significance level. H0 is rejected and H1 is accepted.\n",
        "\n",
        "**Conclusion:** ***Sessions from less trusted IPs are more likely to be attacks.***"
      ]
    },
    {
      "cell_type": "markdown",
      "metadata": {},
      "source": [
        "### Supporting visualizations"
      ]
    },
    {
      "cell_type": "code",
      "execution_count": 32,
      "metadata": {},
      "outputs": [
        {
          "data": {
            "image/png": "[encoded data removed]",
            "text/plain": [
              "<Figure size 640x480 with 1 Axes>"
            ]
          },
          "metadata": {},
          "output_type": "display_data"
        }
      ],
      "source": [
        "# Boxplot visualization\n",
        "sns.boxplot(data = df, x='attack_detected', y='ip_reputation_score')\n",
        "plt.show()"
      ]
    },
    {
      "cell_type": "markdown",
      "metadata": {},
      "source": [
        "# Hypothesis 6:\n",
        "- > H0: There is no significant relationship between network packet size and the likelihood of an attack.\n",
        "- > H1: Network packet sizes too big or too small are more likely to be attacks."
      ]
    },
    {
      "cell_type": "markdown",
      "metadata": {},
      "source": [
        "`df_att` and `df_non_att` are used again so normality tests can be skipped. As `network_packet_size` is a numerical value, Mann-Whitney U test is used again but with `two-sided` alternative to test for both extremes."
      ]
    },
    {
      "cell_type": "code",
      "execution_count": 33,
      "metadata": {},
      "outputs": [
        {
          "name": "stdout",
          "output_type": "stream",
          "text": [
            "Mann-Whitney U test: U-statistic=9461872.0, p-value=0.874096598488628\n"
          ]
        }
      ],
      "source": [
        "# Mann-Whitney U test for network_packet_size\n",
        "u_stat, p_value = mannwhitneyu(df_att['network_packet_size'], df_non_att['network_packet_size'], alternative='two-sided')\n",
        "print(f\"Mann-Whitney U test: U-statistic={u_stat}, p-value={p_value}\")"
      ]
    },
    {
      "cell_type": "markdown",
      "metadata": {},
      "source": []
    },
    {
      "cell_type": "markdown",
      "metadata": {},
      "source": [
        "### Supporting visualizations"
      ]
    },
    {
      "cell_type": "code",
      "execution_count": 34,
      "metadata": {},
      "outputs": [
        {
          "data": {
            "image/png": "[encoded data removed]",
            "text/plain": [
              "<Figure size 900x300 with 1 Axes>"
            ]
          },
          "metadata": {},
          "output_type": "display_data"
        },
        {
          "data": {
            "image/png": "[encoded data removed]",
            "text/plain": [
              "<Figure size 900x300 with 1 Axes>"
            ]
          },
          "metadata": {},
          "output_type": "display_data"
        }
      ],
      "source": [
        "## Distribution plots for network_packet_size\n",
        "sns.displot(df_att['network_packet_size'], height=3, aspect=3) # Plot for attack group\n",
        "plt.title(f'Network Packet Size Distribution for Attacks')\n",
        "plt.show()\n",
        "\n",
        "sns.displot(df_non_att['network_packet_size'], height=3, aspect=3) # Plot for non-attack group\n",
        "plt.title(f'Network Packet Size Distribution for Non-Attacks')\n",
        "plt.show()"
      ]
    },
    {
      "cell_type": "code",
      "execution_count": 38,
      "metadata": {},
      "outputs": [
        {
          "data": {
            "image/png": "[encoded data removed]",
            "text/plain": [
              "<Figure size 640x480 with 1 Axes>"
            ]
          },
          "metadata": {},
          "output_type": "display_data"
        },
        {
          "data": {
            "image/png": "[encoded data removed]",
            "text/plain": [
              "<Figure size 640x480 with 1 Axes>"
            ]
          },
          "metadata": {},
          "output_type": "display_data"
        }
      ],
      "source": [
        "# Pie charts of % attacks of network_packet_size_is64\n",
        "data = df[df['network_packet_size_is64']==True]['attack_detected'].value_counts()\n",
        "plt.pie(\n",
        "    data, \n",
        "    labels=['Non-Attack', 'Attack'], \n",
        "    autopct='%1.1f%%',\n",
        "    startangle=90\n",
        "    )\n",
        "plt.show()\n",
        "\n",
        "data = df[df['network_packet_size_is64']==False]['attack_detected'].value_counts()\n",
        "plt.pie(\n",
        "    data, \n",
        "    labels=['Non-Attack', 'Attack'], \n",
        "    autopct='%1.1f%%',\n",
        "    startangle=90\n",
        "    )\n",
        "plt.show()"
      ]
    },
    {
      "cell_type": "markdown",
      "metadata": {},
      "source": [
        "---"
      ]
    },
    {
      "cell_type": "markdown",
      "metadata": {
        "id": "ltNetd085qHf"
      },
      "source": [
        "# Conclusions"
      ]
    },
    {
      "cell_type": "markdown",
      "metadata": {},
      "source": [
        "\n",
        "**What was done:**\n",
        "- Engineered new features: `session_duration_logn`, `ip_reputation_score_log`, `network_packet_size_is64`, `fail_ratio`.\n",
        "- Saved processed DataFrame to CSV.\n",
        "- Conducted statistical hypothesis testing.  \n",
        "- Visualized distributions and relationships.\n",
        "\n",
        "**Key insights:**\n",
        "- More failed login attempts are associated with higher likelihood of attacks.\n",
        "- The number of login attempts is positively correlated with the chance of attack.\n",
        "- Sessions from less trusted IPs are more likely to be attacks.\n",
        "- No significant relationship between session duration and attack likelihood.\n",
        "- No significant difference in attack numbers between protocols.\n"
      ]
    }
  ],
  "metadata": {
    "accelerator": "GPU",
    "colab": {
      "name": "Data Practitioner Jupyter Notebook.ipynb",
      "provenance": [],
      "toc_visible": true
    },
    "kernelspec": {
      "display_name": ".venv (3.12.8)",
      "language": "python",
      "name": "python3"
    },
    "language_info": {
      "codemirror_mode": {
        "name": "ipython",
        "version": 3
      },
      "file_extension": ".py",
      "mimetype": "text/x-python",
      "name": "python",
      "nbconvert_exporter": "python",
      "pygments_lexer": "ipython3",
      "version": "3.12.8"
    },
    "orig_nbformat": 2
  },
  "nbformat": 4,
  "nbformat_minor": 2
}
